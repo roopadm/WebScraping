{
  "cells": [
    {
      "cell_type": "markdown",
      "metadata": {
        "id": "view-in-github",
        "colab_type": "text"
      },
      "source": [
        "<a href=\"https://colab.research.google.com/github/roopadm/WebScraping/blob/main/python_web_scraping_and_rest_api_Jovian.ipynb\" target=\"_parent\"><img src=\"https://colab.research.google.com/assets/colab-badge.svg\" alt=\"Open In Colab\"/></a>"
      ]
    },
    {
      "cell_type": "markdown",
      "id": "a9a91bde",
      "metadata": {
        "id": "a9a91bde"
      },
      "source": [
        "# Introduction to Web Scraping and REST APIs \n",
        "\n",
        "![](https://i.imgur.com/6zM7JBq.png)\n",
        "\n",
        "\n",
        "Web scraping is the process of extracting and parsing data from websites in an automated fashion using a computer program. It's a useful technique for creating datasets for research and learning. While web scraping often involves parsing and processing [HTML documents](https://developer.mozilla.org/en-US/docs/Web/HTML), some platforms also offer [REST APIs](https://www.smashingmagazine.com/2018/01/understanding-using-rest-api/) to retrieve information in a machine-readable format like [JSON](https://www.digitalocean.com/community/tutorials/an-introduction-to-json). In this tutorial, we'll use web scraping and REST APIs to create a real-world dataset.\n"
      ]
    },
    {
      "cell_type": "markdown",
      "id": "d358e104",
      "metadata": {
        "id": "d358e104"
      },
      "source": [
        "This tutorial covers the following topics: \n",
        "\n",
        "* Downloading web pages using the requests library\n",
        "* Inspecting the HTML source code of a web page\n",
        "* Parsing parts of a website using Beautiful Soup\n",
        "* Writing parsed information into CSV files\n",
        "* Using a REST API to retrieve data as JSON\n",
        "* Combining data from multiple sources\n",
        "* Using links on a page to crawl a website\n"
      ]
    },
    {
      "cell_type": "markdown",
      "id": "29df835a",
      "metadata": {
        "id": "29df835a"
      },
      "source": [
        "### How to Run the Code\n",
        "\n",
        "The best way to learn the material is to execute the code and experiment with it yourself. This tutorial is an executable [Jupyter notebook](https://jupyter.org). You can _run_ this tutorial and experiment with the code examples in a couple of ways: *using free online resources* (recommended) or *on your computer*.\n",
        "\n",
        "#### Option 1: Running using free online resources (1-click, recommended)\n",
        "\n",
        "The easiest way to start executing the code is to click the **Run** button at the top of this page and select **Run on Binder**. You can also select \"Run on Colab\" or \"Run on Kaggle\", but you'll need to create an account on [Google Colab](https://colab.research.google.com) or [Kaggle](https://kaggle.com) to use these platforms.\n",
        "\n",
        "\n",
        "#### Option 2: Running on your computer locally\n",
        "\n",
        "To run the code on your computer locally, you'll need to set up [Python](https://www.python.org), download the notebook and install the required libraries. We recommend using the [Conda](https://docs.conda.io/projects/conda/en/latest/user-guide/install/) distribution of Python. Click the **Run** button at the top of this page, select the **Run Locally** option, and follow the instructions.\n",
        "\n",
        "\n",
        "\n"
      ]
    },
    {
      "cell_type": "markdown",
      "id": "9b60c344",
      "metadata": {
        "id": "9b60c344"
      },
      "source": [
        "## Problem \n",
        "\n",
        "Over the course of this tutorial, we'll solve the following problem to learn the tools and techniques used for web scraping:\n",
        "\n",
        "\n",
        "> **QUESTION**: Write a Python function that creates a CSV file (comma-separated values) containing details about the 25 top GitHub repositories for any given topic. You can view the top repositories for the topic `machine-learning` on this page: [https://github.com/topics/machine-learning](https://github.com/topics/machine-learning). The output CSV should contain these details: repository name, owner's username, no. of stars, repository URL. \n",
        "\n",
        "\n",
        " <a href=\"https://github.com/topics/machine-learning\"><img src=\"https://i.imgur.com/5V1HGLs.png\" width=\"480\" style=\"box-shadow:rgba(52, 64, 77, 0.2) 0px 1px 5px 0px;border-radius:4px;\"></a>\n",
        " \n",
        " \n",
        "How would you go about solving this problem in Python? Explore the web page and take a couple of minutes to come up with an approach before proceeding further. How many lines of code do you think the solution will require?"
      ]
    },
    {
      "cell_type": "markdown",
      "id": "f2c668d3",
      "metadata": {
        "id": "f2c668d3"
      },
      "source": [
        "## Downloading a web page using `requests`\n",
        "\n",
        "When you access a URL like https://github.com/topics/machine-learning using a web browser, it downloads the contents of the web page the URL points to and displays the output on the screen. Before we can extract information from a web page, we need to download the page using Python.\n",
        "\n",
        "We'll use a library called [`requests`](https://docs.python-requests.org/en/master/) to download web pages from the internet. Let's begin by installing and importing the library."
      ]
    },
    {
      "cell_type": "code",
      "execution_count": null,
      "id": "921da3e7",
      "metadata": {
        "colab": {
          "base_uri": "https://localhost:8080/"
        },
        "id": "921da3e7",
        "outputId": "535d5e0c-9574-4b55-c34f-14d282cb9719"
      },
      "outputs": [
        {
          "output_type": "stream",
          "name": "stdout",
          "text": [
            "\u001b[?25l     \u001b[90m━━━━━━━━━━━━━━━━━━━━━━━━━━━━━━━━━━━━━━━━\u001b[0m \u001b[32m0.0/62.8 KB\u001b[0m \u001b[31m?\u001b[0m eta \u001b[36m-:--:--\u001b[0m\r\u001b[2K     \u001b[90m━━━━━━━━━━━━━━━━━━━━━━━━━━━━━━━━━━━━━━━━\u001b[0m \u001b[32m62.8/62.8 KB\u001b[0m \u001b[31m2.9 MB/s\u001b[0m eta \u001b[36m0:00:00\u001b[0m\n",
            "\u001b[?25h"
          ]
        }
      ],
      "source": [
        "# Install the library\n",
        "!pip install requests --upgrade --quiet"
      ]
    },
    {
      "cell_type": "code",
      "execution_count": null,
      "id": "09a3003a",
      "metadata": {
        "id": "09a3003a"
      },
      "outputs": [],
      "source": [
        "# Import the library\n",
        "import requests"
      ]
    },
    {
      "cell_type": "markdown",
      "id": "e1abcc88",
      "metadata": {
        "id": "e1abcc88"
      },
      "source": [
        "We can download a web page using the `requests.get` function."
      ]
    },
    {
      "cell_type": "code",
      "execution_count": null,
      "id": "9fd23a9b",
      "metadata": {
        "id": "9fd23a9b"
      },
      "outputs": [],
      "source": [
        "topic_url = 'https://github.com/topics/machine-learning'"
      ]
    },
    {
      "cell_type": "code",
      "execution_count": null,
      "id": "ef7aa941",
      "metadata": {
        "id": "ef7aa941"
      },
      "outputs": [],
      "source": [
        "response = requests.get(topic_url)"
      ]
    },
    {
      "cell_type": "code",
      "execution_count": null,
      "id": "ba73b45b",
      "metadata": {
        "colab": {
          "base_uri": "https://localhost:8080/"
        },
        "id": "ba73b45b",
        "outputId": "a0e3c241-e284-4a92-dc3b-8563090088f5"
      },
      "outputs": [
        {
          "output_type": "execute_result",
          "data": {
            "text/plain": [
              "requests.models.Response"
            ]
          },
          "metadata": {},
          "execution_count": 5
        }
      ],
      "source": [
        "type(response)"
      ]
    },
    {
      "cell_type": "markdown",
      "id": "af229f30",
      "metadata": {
        "id": "af229f30"
      },
      "source": [
        "`requests.get` returns a response object with the page contents and some information indicating whether the request was successful, using a status code. Learn more about HTTP status codes here: https://developer.mozilla.org/en-US/docs/Web/HTTP/Status. \n",
        "\n",
        " If the request was successful, `response.status_code` is set to a value between 200 and 299. "
      ]
    },
    {
      "cell_type": "code",
      "execution_count": null,
      "id": "07df685f",
      "metadata": {
        "id": "07df685f",
        "outputId": "93bb69a9-3480-4df4-b9ff-8d6fe5f76e2a"
      },
      "outputs": [
        {
          "data": {
            "text/plain": [
              "200"
            ]
          },
          "execution_count": 7,
          "metadata": {},
          "output_type": "execute_result"
        }
      ],
      "source": [
        "response.status_code"
      ]
    },
    {
      "cell_type": "markdown",
      "id": "c7983145",
      "metadata": {
        "id": "c7983145"
      },
      "source": [
        "The contents of the web page can be accessed using the `.text` property of the `response`. "
      ]
    },
    {
      "cell_type": "code",
      "execution_count": null,
      "id": "e2058759",
      "metadata": {
        "id": "e2058759"
      },
      "outputs": [],
      "source": [
        "page_contents = response.text"
      ]
    },
    {
      "cell_type": "code",
      "execution_count": null,
      "id": "ae6f4ef5",
      "metadata": {
        "id": "ae6f4ef5",
        "outputId": "87e42487-8bbf-4273-b563-b75efe687917"
      },
      "outputs": [
        {
          "data": {
            "text/plain": [
              "424155"
            ]
          },
          "execution_count": 9,
          "metadata": {},
          "output_type": "execute_result"
        }
      ],
      "source": [
        "len(page_contents)"
      ]
    },
    {
      "cell_type": "markdown",
      "id": "b3ac90c4",
      "metadata": {
        "id": "b3ac90c4"
      },
      "source": [
        "The page contains over 60,000 characters! Let's view the first 1000 characters of the web page."
      ]
    },
    {
      "cell_type": "code",
      "execution_count": null,
      "id": "3594cf16",
      "metadata": {
        "id": "3594cf16",
        "outputId": "57f2958f-567a-4d3b-ab85-4ca6669ca4aa"
      },
      "outputs": [
        {
          "data": {
            "text/plain": [
              "'\\n\\n<!DOCTYPE html>\\n<html lang=\"en\" data-color-mode=\"auto\" data-light-theme=\"light\" data-dark-theme=\"dark\" data-a11y-animated-images=\"system\">\\n  <head>\\n    <meta charset=\"utf-8\">\\n  <link rel=\"dns-prefetch\" href=\"https://github.githubassets.com\">\\n  <link rel=\"dns-prefetch\" href=\"https://avatars.githubusercontent.com\">\\n  <link rel=\"dns-prefetch\" href=\"https://github-cloud.s3.amazonaws.com\">\\n  <link rel=\"dns-prefetch\" href=\"https://user-images.githubusercontent.com/\">\\n  <link rel=\"preconnect\" href=\"https://github.githubassets.com\" crossorigin>\\n  <link rel=\"preconnect\" href=\"https://avatars.githubusercontent.com\">\\n\\n\\n\\n  <link crossorigin=\"anonymous\" media=\"all\" rel=\"stylesheet\" href=\"https://github.githubassets.com/assets/light-5178aee0ee76.css\" /><link crossorigin=\"anonymous\" media=\"all\" rel=\"stylesheet\" href=\"https://github.githubassets.com/assets/dark-217d4f9c8e70.css\" /><link data-color-theme=\"dark_dimmed\" crossorigin=\"anonymous\" media=\"all\" rel=\"stylesheet\" data-href=\"https://github.gith'"
            ]
          },
          "execution_count": 10,
          "metadata": {},
          "output_type": "execute_result"
        }
      ],
      "source": [
        "page_contents[:1000]"
      ]
    },
    {
      "cell_type": "markdown",
      "id": "dacf443d",
      "metadata": {
        "id": "dacf443d"
      },
      "source": [
        "What you see above is the *source code* of the web page. It written in a language called [HTML](https://developer.mozilla.org/en-US/docs/Web/HTML). It defines the content and structure of the web page. \n",
        "\n",
        "Let's save the contents to a file with the `.html` extension."
      ]
    },
    {
      "cell_type": "code",
      "execution_count": null,
      "id": "50aed0be",
      "metadata": {
        "id": "50aed0be"
      },
      "outputs": [],
      "source": [
        "with open('machine-learning-topics.html', 'w', encoding=\"utf-8\") as file:\n",
        "    file.write(page_contents)"
      ]
    },
    {
      "cell_type": "markdown",
      "id": "91872538",
      "metadata": {
        "id": "91872538"
      },
      "source": [
        "You can now view the file using the \"File > Open\" menu option within Jupyter and clicking on *machine-learning.html* in the list of files displayed. Here's what you'll see when you open the file:\n",
        "\n",
        "<img src=\"https://i.imgur.com/8gEbT1P.png\" width=\"480\" style=\"box-shadow:rgba(52, 64, 77, 0.2) 0px 1px 5px 0px;border-radius:4px;\">\n",
        "\n",
        "While this looks similar to the original web page, note that it's simply a copy. You will notice that none of the links or buttons work. To view or edit the source code of the file, click \"File > Open\" within Jupyter, then select the file *machine-learning.html* from the list and click the \"Edit\" button.\n",
        "\n",
        "<img src=\"https://i.imgur.com/JG7Q8CK.png\" width=\"480\" style=\"box-shadow:rgba(52, 64, 77, 0.2) 0px 1px 5px 0px;border-radius:4px;\">\n",
        "\n",
        "As you might expect, the source code looks something like this:\n",
        "\n",
        "<img src=\"https://i.imgur.com/6ynXNdz.png\" width=\"480\" style=\"box-shadow:rgba(52, 64, 77, 0.2) 0px 1px 5px 0px;border-radius:4px;\">\n",
        "\n",
        "Try scrolling through the source code. Can you make sense of it? Can you see how the information on the page is organized within the file? We'll learn more about it in the next section."
      ]
    },
    {
      "cell_type": "markdown",
      "id": "0c01efd5",
      "metadata": {
        "id": "0c01efd5"
      },
      "source": [
        "> **EXERCISE**: Download the web page for a different topic, e.g., https://github.com/topics/data-analysis using `requests` and save it to a file, e.g., `data-analysis.html`. View the page and compare it with the previously downloaded page? How are the two different? Can you spot the differences in the source code?"
      ]
    },
    {
      "cell_type": "code",
      "execution_count": null,
      "id": "8bde9e77",
      "metadata": {
        "id": "8bde9e77"
      },
      "outputs": [],
      "source": [
        "url_DA=' https://github.com/topics/data-analysis'"
      ]
    },
    {
      "cell_type": "code",
      "execution_count": null,
      "id": "8291ce47",
      "metadata": {
        "id": "8291ce47"
      },
      "outputs": [],
      "source": [
        "from requests.api import request\n",
        "response_DA=requests.get(url_DA)"
      ]
    },
    {
      "cell_type": "code",
      "source": [
        "type(response_DA)"
      ],
      "metadata": {
        "colab": {
          "base_uri": "https://localhost:8080/"
        },
        "id": "z95cNpvm9fNO",
        "outputId": "33794369-b350-41f6-f39f-20370eb829b7"
      },
      "id": "z95cNpvm9fNO",
      "execution_count": null,
      "outputs": [
        {
          "output_type": "execute_result",
          "data": {
            "text/plain": [
              "requests.models.Response"
            ]
          },
          "metadata": {},
          "execution_count": 9
        }
      ]
    },
    {
      "cell_type": "code",
      "source": [
        "response_DA.status_code"
      ],
      "metadata": {
        "colab": {
          "base_uri": "https://localhost:8080/"
        },
        "id": "XsKzynHn9k9b",
        "outputId": "ef08f4d8-b509-4deb-ae3a-0058ecd5d3f9"
      },
      "id": "XsKzynHn9k9b",
      "execution_count": null,
      "outputs": [
        {
          "output_type": "execute_result",
          "data": {
            "text/plain": [
              "200"
            ]
          },
          "metadata": {},
          "execution_count": 10
        }
      ]
    },
    {
      "cell_type": "code",
      "source": [
        "page_contents_DA=response_DA.text"
      ],
      "metadata": {
        "id": "r990j2oy9qKG"
      },
      "id": "r990j2oy9qKG",
      "execution_count": null,
      "outputs": []
    },
    {
      "cell_type": "code",
      "source": [
        "page_contents_DA[:1000]"
      ],
      "metadata": {
        "colab": {
          "base_uri": "https://localhost:8080/",
          "height": 144
        },
        "id": "gWL6cbuo91iS",
        "outputId": "fc268a9f-4e23-4297-fd4e-dc805543ec41"
      },
      "id": "gWL6cbuo91iS",
      "execution_count": null,
      "outputs": [
        {
          "output_type": "execute_result",
          "data": {
            "text/plain": [
              "'\\n\\n<!DOCTYPE html>\\n<html lang=\"en\" data-color-mode=\"auto\" data-light-theme=\"light\" data-dark-theme=\"dark\" data-a11y-animated-images=\"system\">\\n  <head>\\n    <meta charset=\"utf-8\">\\n  <link rel=\"dns-prefetch\" href=\"https://github.githubassets.com\">\\n  <link rel=\"dns-prefetch\" href=\"https://avatars.githubusercontent.com\">\\n  <link rel=\"dns-prefetch\" href=\"https://github-cloud.s3.amazonaws.com\">\\n  <link rel=\"dns-prefetch\" href=\"https://user-images.githubusercontent.com/\">\\n  <link rel=\"preconnect\" href=\"https://github.githubassets.com\" crossorigin>\\n  <link rel=\"preconnect\" href=\"https://avatars.githubusercontent.com\">\\n\\n\\n\\n  <link crossorigin=\"anonymous\" media=\"all\" rel=\"stylesheet\" href=\"https://github.githubassets.com/assets/light-719f1193e0c0.css\" /><link crossorigin=\"anonymous\" media=\"all\" rel=\"stylesheet\" href=\"https://github.githubassets.com/assets/dark-0c343b529849.css\" /><link data-color-theme=\"dark_dimmed\" crossorigin=\"anonymous\" media=\"all\" rel=\"stylesheet\" data-href=\"https://github.gith'"
            ],
            "application/vnd.google.colaboratory.intrinsic+json": {
              "type": "string"
            }
          },
          "metadata": {},
          "execution_count": 12
        }
      ]
    },
    {
      "cell_type": "code",
      "source": [
        "len(page_contents_DA)"
      ],
      "metadata": {
        "colab": {
          "base_uri": "https://localhost:8080/"
        },
        "id": "S6x6vyP595o1",
        "outputId": "fb8bd83d-6e6b-43f5-e8a2-e16a62b68a8d"
      },
      "id": "S6x6vyP595o1",
      "execution_count": null,
      "outputs": [
        {
          "output_type": "execute_result",
          "data": {
            "text/plain": [
              "465553"
            ]
          },
          "metadata": {},
          "execution_count": 13
        }
      ]
    },
    {
      "cell_type": "code",
      "source": [
        "with open(\"Data Analysis.html\",'w',encoding='utf8') as file1:\n",
        "  file1.write(\"page_contents_DA\")"
      ],
      "metadata": {
        "id": "n0n_f9R_98cd"
      },
      "id": "n0n_f9R_98cd",
      "execution_count": null,
      "outputs": []
    },
    {
      "cell_type": "markdown",
      "id": "cba03c4f",
      "metadata": {
        "id": "cba03c4f"
      },
      "source": [
        "Let's save our work using `jovian` before continuing."
      ]
    },
    {
      "cell_type": "code",
      "execution_count": null,
      "id": "bd2f3b73",
      "metadata": {
        "id": "bd2f3b73"
      },
      "outputs": [],
      "source": [
        "!pip install jovian --upgrade --quiet"
      ]
    },
    {
      "cell_type": "code",
      "execution_count": null,
      "id": "19fa17b9",
      "metadata": {
        "id": "19fa17b9"
      },
      "outputs": [],
      "source": [
        "import jovian"
      ]
    },
    {
      "cell_type": "code",
      "execution_count": null,
      "id": "525d7b2e",
      "metadata": {
        "id": "525d7b2e",
        "outputId": "b45f7e44-c7ed-4f2a-bf6b-f48627fa44ac"
      },
      "outputs": [
        {
          "data": {
            "application/javascript": [
              "window.require && require([\"base/js/namespace\"],function(Jupyter){Jupyter.notebook.save_checkpoint()})"
            ],
            "text/plain": [
              "<IPython.core.display.Javascript object>"
            ]
          },
          "metadata": {},
          "output_type": "display_data"
        },
        {
          "name": "stdout",
          "output_type": "stream",
          "text": [
            "[jovian] Updating notebook \"samanvitha/python-web-scraping-and-rest-api\" on https://jovian.ai\u001b[0m\n",
            "[jovian] Committed successfully! https://jovian.ai/samanvitha/python-web-scraping-and-rest-api\u001b[0m\n"
          ]
        },
        {
          "data": {
            "text/plain": [
              "'https://jovian.ai/samanvitha/python-web-scraping-and-rest-api'"
            ]
          },
          "execution_count": 13,
          "metadata": {},
          "output_type": "execute_result"
        }
      ],
      "source": [
        "jovian.commit(project='python-web-scraping-and-rest-api')"
      ]
    },
    {
      "cell_type": "markdown",
      "id": "0818c507",
      "metadata": {
        "id": "0818c507"
      },
      "source": [
        "## Inspecting the HTML source code of a web page\n",
        "\n",
        "![](https://i.imgur.com/mvBpQIP.png)\n",
        "\n",
        "As mentioned earlier, web pages are written in a language called HTML (Hyper Text Markup Language). HTML is a fairly simple language comprised of *tags*  (also called *nodes* or *elements*) e.g. `<a href=\"https://jovian.ai\" target=\"_blank\">Go to Jovian</a>`. An HTML tag has three parts:\n",
        "\n",
        "1. **Name**: (`html`, `head`, `body`, `div`, etc.) Indicates what the tag represents and how a browser should interpret the information inside it.\n",
        "2. **Attributes**: (`href`, `target`, `class`, `id`, etc.) Properties of tag used by the browser to customize how a tag is displayed and decide what happens on user interactions.\n",
        "3. **Children**: A tag can contain some text or other tags or both between the opening and closing segments, e.g., `<div>Some content</div>`.\n"
      ]
    },
    {
      "cell_type": "markdown",
      "id": "c6df7e1d",
      "metadata": {
        "id": "c6df7e1d"
      },
      "source": [
        "### Inside an HTML Document\n",
        "\n",
        "Here's a simple HTML document that uses many commonly used tags:\n",
        "\n",
        "```html\n",
        "<html>\n",
        "  <head>\n",
        "    <title>All About Python</title>\n",
        "  </head>\n",
        "  <body>\n",
        "    <div style=\"width: 640px; margin: 40px auto\">\n",
        "      <h1 style=\"text-align:center;\">Python - A Programming Language</h1>\n",
        "      <img src=\"https://www.python.org/static/community_logos/python-logo-master-v3-TM.png\" alt=\"python-logo\" style=\"width:240px;margin:0 auto;display:block;\">\n",
        "      <div>\n",
        "        <h2>About Python</h2>\n",
        "        <p>\n",
        "          Python is an <span style=\"font-style: italic\">interpreted, high-level and general-purpose</span> programming language. Python's design philosophy emphasizes code readability with its notable use of significant indentation. Its language constructs and object-oriented approach aim to help programmers write clear, logical code for small and large-scale projects. Visit the <a href=\"https://docs.python.org/3/\">official documentation</a> to learn more.\n",
        "        </p>\n",
        "      </div>\n",
        "      <div>\n",
        "        <h2>Some Python Libraries</h2>\n",
        "        <ul id=\"libraries\">\n",
        "          <li>Numpy</li>\n",
        "          <li>Pandas</li>\n",
        "          <li>PyTorch</li>\n",
        "          <li>Scikit Learn</li>\n",
        "        </ul>\n",
        "      </div>\n",
        "      <div>\n",
        "        <h2>Recent Python Versions</h2>\n",
        "        <table id=\"versions-table\">\n",
        "          <tr>\n",
        "            <th class=\"bordered-table\">Version</th>\n",
        "            <th class=\"bordered-table\">Released on</th>\n",
        "          </tr>\n",
        "          <tr>\n",
        "            <td class=\"bordered-table\">Python 3.8</td>\n",
        "            <td class=\"bordered-table\">October 2019</td>\n",
        "          </tr>\n",
        "          <tr>\n",
        "            <td class=\"bordered-table\">Python 3.7</td>\n",
        "            <td class=\"bordered-table\">June 2018</td>\n",
        "          </tr>\n",
        "        </table>\n",
        "          <style>\n",
        "              .bordered-table { \n",
        "                  border: 1px solid black; padding: 8px;\n",
        "              }\n",
        "          </style>\n",
        "      </div>\n",
        "    </div>\n",
        "  </body>\n",
        "</html>\n",
        "\n",
        "```\n",
        "\n",
        "> **EXERCISE**: Copy the above HTML code and paste it into a new file called `webpage.html`. To create a new file,  select \"File > Open\" from the menu bar, then select \"New > Text\" file. View the saved file. Can you see how the different tags are displayed in different ways by the browser?\n",
        "\n",
        "\n",
        "<img src=\"https://i.imgur.com/lcSHz5V.png\" width=\"480\" style=\"box-shadow:rgba(52, 64, 77, 0.2) 0px 1px 5px 0px;border-radius:4px;\">\n",
        "\n",
        "> **EXERCISE**: Make some changes to the code inside `webpage.html`. Save the file and view it again. Do you see your changes reflected? Play with the structure of the file. Try to break things and fix them!"
      ]
    },
    {
      "cell_type": "markdown",
      "id": "95ea9fa4",
      "metadata": {
        "id": "95ea9fa4"
      },
      "source": [
        "### Common Tags and Attributes\n",
        "\n",
        "Following are some of the most commonly used HTML tags:\n",
        "\n",
        "* `html`\n",
        "* `head`\n",
        "* `title`\n",
        "* `body`\n",
        "* `div`\n",
        "* `span`\n",
        "* `h1` to `h6`\n",
        "* `p`\n",
        "* `img`\n",
        "* `ul`, `ol` and `li`\n",
        "* `table`, `tr`, `th` and `td`\n",
        "* `style`\n",
        "* ...\n",
        "\n",
        "Each tag supports several attributes. Following are some common attributes used to modify the behavior of tags:\n",
        "\n",
        "* `id`\n",
        "* `style`\n",
        "* `class`\n",
        "* `href` (used with `<a>`)\n",
        "* `src` (used with `<img>`)\n",
        "\n",
        "\n",
        "\n",
        "\n",
        "> **EXERCISE**: Complete this tutorial on HTML: https://www.htmldog.com/guides/html/ . Once done, try describing what the above tags and attributes are used for. Try creating a new HTML page using the tags you find most interesting. \n",
        "> \n",
        "> To learn how to style HTML tags, check out this tutorial on CSS: https://www.htmldog.com/guides/css/\n",
        "\n"
      ]
    },
    {
      "cell_type": "markdown",
      "id": "a56d65f4",
      "metadata": {
        "id": "a56d65f4"
      },
      "source": [
        "### Inspecting HTML in the Browser\n",
        "\n",
        "You can view the source code of any webpage right within your browser by right-clicking anywhere on a page and selecting the \"Inspect\" option. It opens the \"Developer Tools\" pane, where you can see the source code as a tree. You can expand and collapse various nodes and find the source code for a specific portion of the page.\n",
        "\n",
        "Here's what it looks like on the Chrome browser:\n",
        "\n",
        "\n",
        "<img src=\"https://i.imgur.com/jCA1T6Z.png\" width=\"640\" style=\"box-shadow:rgba(52, 64, 77, 0.2) 0px 1px 5px 0px;border-radius:4px;\">\n",
        "\n",
        "\n",
        "> **EXERCISE**: Explore the source code of the web page https://github.com/topics/machine-learning . Try to find the portions in the source code corresponding to the repository name, owner's username, and the number of stars for each repository listed on the page."
      ]
    },
    {
      "cell_type": "markdown",
      "id": "e72114e4",
      "metadata": {
        "id": "e72114e4"
      },
      "source": [
        "Let's save our work before continuing."
      ]
    },
    {
      "cell_type": "code",
      "execution_count": null,
      "id": "45d02130",
      "metadata": {
        "id": "45d02130",
        "outputId": "ed35b8ed-2441-4ecd-f85e-bcd8d2449272"
      },
      "outputs": [
        {
          "data": {
            "application/javascript": [
              "window.require && require([\"base/js/namespace\"],function(Jupyter){Jupyter.notebook.save_checkpoint()})"
            ],
            "text/plain": [
              "<IPython.core.display.Javascript object>"
            ]
          },
          "metadata": {},
          "output_type": "display_data"
        },
        {
          "name": "stdout",
          "output_type": "stream",
          "text": [
            "[jovian] Updating notebook \"samanvitha/python-web-scraping-and-rest-api\" on https://jovian.ai\u001b[0m\n",
            "[jovian] Committed successfully! https://jovian.ai/samanvitha/python-web-scraping-and-rest-api\u001b[0m\n"
          ]
        },
        {
          "data": {
            "text/plain": [
              "'https://jovian.ai/samanvitha/python-web-scraping-and-rest-api'"
            ]
          },
          "execution_count": 14,
          "metadata": {},
          "output_type": "execute_result"
        }
      ],
      "source": [
        "jovian.commit()"
      ]
    },
    {
      "cell_type": "markdown",
      "id": "c548beed",
      "metadata": {
        "id": "c548beed"
      },
      "source": [
        "## Extracting information from HTML using Beautiful Soup\n",
        "\n",
        "To extract information from the HTML source code of a webpage programmatically, we can use the [Beautiful Soup](https://www.crummy.com/software/BeautifulSoup/bs4/doc/) library. Let's install the library and import the `BeautifulSoup` class from the `bs4` module."
      ]
    },
    {
      "cell_type": "code",
      "execution_count": null,
      "id": "faa7255d",
      "metadata": {
        "id": "faa7255d"
      },
      "outputs": [],
      "source": [
        "# Install the library\n",
        "!pip install beautifulsoup4 --upgrade --quiet"
      ]
    },
    {
      "cell_type": "code",
      "execution_count": null,
      "id": "ccfd7922",
      "metadata": {
        "id": "ccfd7922"
      },
      "outputs": [],
      "source": [
        "# Import the library\n",
        "from bs4 import BeautifulSoup"
      ]
    },
    {
      "cell_type": "code",
      "execution_count": null,
      "id": "8de45f19",
      "metadata": {
        "id": "8de45f19"
      },
      "outputs": [],
      "source": [
        "?BeautifulSoup"
      ]
    },
    {
      "cell_type": "markdown",
      "id": "a49d9efd",
      "metadata": {
        "id": "a49d9efd"
      },
      "source": [
        "Next, let's read the contents of the file `machine-learning.html` and create a `BeautifulSoup` object to parse the content."
      ]
    },
    {
      "cell_type": "code",
      "execution_count": null,
      "id": "ef8139d8",
      "metadata": {
        "id": "ef8139d8"
      },
      "outputs": [],
      "source": [
        "with open('machine-learning-topics.html', 'r') as f:\n",
        "    html_source = f.read()"
      ]
    },
    {
      "cell_type": "code",
      "execution_count": null,
      "id": "38e9ebc7",
      "metadata": {
        "id": "38e9ebc7",
        "outputId": "c00e9cab-bacb-4009-b66b-9aaef788f7e5"
      },
      "outputs": [
        {
          "data": {
            "text/plain": [
              "'\\n\\n<!DOCTYPE html>\\n<html lang=\"en\" data-color-mode=\"auto\" data-light-theme=\"light\" data-dark-theme=\"dark\" data-a11y-animated-images=\"system\">\\n  <head>\\n    <meta charset=\"utf-8\">\\n  <link rel=\"dns-prefetch\" href=\"https://github.githubassets.com\">\\n  <link rel=\"dns-prefetch\" href=\"https://avatars.githubusercontent.com\">\\n  <link rel=\"dns-prefetch\" href=\"https://github-cloud.s3.amazonaws.com\">\\n  <link rel=\"dns-prefetch\" href=\"https://user-images.githubusercontent.com/\">\\n  <link rel=\"preconnect\" href=\"https://github.githubassets.com\" crossorigin>\\n  <link rel=\"preconnect\" href=\"https://avatars.githubusercontent.com\">\\n\\n\\n\\n  <link crossorigin=\"anonymous\" media=\"all\" rel=\"stylesheet\" href=\"https://github.githubassets.com/assets/light-5178aee0ee76.css\" /><link crossorigin=\"anonymous\" media=\"all\" rel=\"stylesheet\" href=\"https://github.githubassets.com/assets/dark-217d4f9c8e70.css\" /><link data-color-theme=\"dark_dimmed\" crossorigin=\"anonymous\" media=\"all\" rel=\"stylesheet\" data-href=\"https://github.gith'"
            ]
          },
          "execution_count": 16,
          "metadata": {},
          "output_type": "execute_result"
        }
      ],
      "source": [
        "html_source[:1000]"
      ]
    },
    {
      "cell_type": "code",
      "execution_count": null,
      "id": "d04a691f",
      "metadata": {
        "id": "d04a691f"
      },
      "outputs": [],
      "source": [
        "doc = BeautifulSoup(html_source, 'html.parser')"
      ]
    },
    {
      "cell_type": "code",
      "execution_count": null,
      "id": "5b51f29c",
      "metadata": {
        "id": "5b51f29c",
        "outputId": "df8a3748-a415-4961-92cb-07f714ce5ceb"
      },
      "outputs": [
        {
          "data": {
            "text/plain": [
              "bs4.BeautifulSoup"
            ]
          },
          "execution_count": 18,
          "metadata": {},
          "output_type": "execute_result"
        }
      ],
      "source": [
        "type(doc)"
      ]
    },
    {
      "cell_type": "markdown",
      "id": "34a4626d",
      "metadata": {
        "id": "34a4626d"
      },
      "source": [
        "The `doc` object contains several properties and methods for extracting information from the HTML document. Let's look at a few examples below.\n",
        "\n",
        "**NOTE**: You don't need to remember all (or any) of the properties/methods. You can look up [the documentation of BeautifulSoup](https://www.crummy.com/software/BeautifulSoup/bs4/doc/) or [search online](https://www.google.co.in/search?q=beautifulsoup+how+to+get+href+of+link) to find what you need when you need it."
      ]
    },
    {
      "cell_type": "markdown",
      "id": "dc8ed84a",
      "metadata": {
        "id": "dc8ed84a"
      },
      "source": [
        "### Accessing a tag\n",
        "\n",
        "> **QUESTION**: Find the title of the page represented by `doc`.\n",
        "\n",
        "The title of the page is contained within the `<title>` tag. We can access the title tag using `doc.title`."
      ]
    },
    {
      "cell_type": "code",
      "execution_count": null,
      "id": "44945695",
      "metadata": {
        "id": "44945695"
      },
      "outputs": [],
      "source": [
        "title_tag = doc.title"
      ]
    },
    {
      "cell_type": "code",
      "execution_count": null,
      "id": "e5b0c702",
      "metadata": {
        "id": "e5b0c702",
        "outputId": "b4b0b944-0bf0-4841-fc30-033e7681d723"
      },
      "outputs": [
        {
          "data": {
            "text/plain": [
              "<title>machine-learning · GitHub Topics · GitHub</title>"
            ]
          },
          "execution_count": 19,
          "metadata": {},
          "output_type": "execute_result"
        }
      ],
      "source": [
        "title_tag"
      ]
    },
    {
      "cell_type": "code",
      "execution_count": null,
      "id": "7fcfad84",
      "metadata": {
        "id": "7fcfad84",
        "outputId": "5fe1f33a-6eea-4034-fd2d-77a538c6bbb2"
      },
      "outputs": [
        {
          "data": {
            "text/plain": [
              "bs4.element.Tag"
            ]
          },
          "execution_count": 20,
          "metadata": {},
          "output_type": "execute_result"
        }
      ],
      "source": [
        "type(title_tag)"
      ]
    },
    {
      "cell_type": "markdown",
      "id": "51313796",
      "metadata": {
        "id": "51313796"
      },
      "source": [
        "We can access a tag's name using the `.name` property."
      ]
    },
    {
      "cell_type": "code",
      "execution_count": null,
      "id": "62e7e9be",
      "metadata": {
        "id": "62e7e9be",
        "outputId": "c9c2ca8c-d3b5-41e4-c5e6-00a6e5a67375"
      },
      "outputs": [
        {
          "data": {
            "text/plain": [
              "'title'"
            ]
          },
          "execution_count": 21,
          "metadata": {},
          "output_type": "execute_result"
        }
      ],
      "source": [
        "title_tag.name"
      ]
    },
    {
      "cell_type": "markdown",
      "id": "2a16d31c",
      "metadata": {
        "id": "2a16d31c"
      },
      "source": [
        "The text within a tag can be accessed using `.text`."
      ]
    },
    {
      "cell_type": "code",
      "execution_count": null,
      "id": "55fe0e2e",
      "metadata": {
        "id": "55fe0e2e",
        "outputId": "a7be4845-05e9-4659-ab1d-bce0a9ea9f1c"
      },
      "outputs": [
        {
          "data": {
            "text/plain": [
              "'machine-learning · GitHub Topics · GitHub'"
            ]
          },
          "execution_count": 22,
          "metadata": {},
          "output_type": "execute_result"
        }
      ],
      "source": [
        "title_tag.text"
      ]
    },
    {
      "cell_type": "markdown",
      "id": "6a1c66c2",
      "metadata": {
        "id": "6a1c66c2"
      },
      "source": [
        "> **EXERCISE**: Explore the `html`, `body`, and `head` tags of `doc`. Do you see what you expect to see?"
      ]
    },
    {
      "cell_type": "code",
      "execution_count": null,
      "id": "db19f710",
      "metadata": {
        "id": "db19f710"
      },
      "outputs": [],
      "source": []
    },
    {
      "cell_type": "markdown",
      "id": "4630d302",
      "metadata": {
        "id": "4630d302"
      },
      "source": [
        "If a tag occurs more than once in a document e.g. `<a>` (which represents links), then `doc.a` finds the first `<a>` tag."
      ]
    },
    {
      "cell_type": "code",
      "execution_count": null,
      "id": "79f50ee6",
      "metadata": {
        "id": "79f50ee6"
      },
      "outputs": [],
      "source": [
        "first_link = doc.a"
      ]
    },
    {
      "cell_type": "code",
      "execution_count": null,
      "id": "6919dd0b",
      "metadata": {
        "id": "6919dd0b",
        "outputId": "3c321f55-3268-4ff9-e5cb-f982f743b61c"
      },
      "outputs": [
        {
          "data": {
            "text/plain": [
              "<a class=\"px-2 py-4 color-bg-accent-emphasis color-fg-on-emphasis show-on-focus js-skip-to-content\" href=\"#start-of-content\">Skip to content</a>"
            ]
          },
          "execution_count": 24,
          "metadata": {},
          "output_type": "execute_result"
        }
      ],
      "source": [
        "first_link"
      ]
    },
    {
      "cell_type": "code",
      "execution_count": null,
      "id": "8290acbe",
      "metadata": {
        "id": "8290acbe",
        "outputId": "ec7ca157-dc55-469f-ac27-ee259a1c2f57"
      },
      "outputs": [
        {
          "data": {
            "text/plain": [
              "'Skip to content'"
            ]
          },
          "execution_count": 25,
          "metadata": {},
          "output_type": "execute_result"
        }
      ],
      "source": [
        "first_link.text"
      ]
    },
    {
      "cell_type": "markdown",
      "id": "073ce75f",
      "metadata": {
        "id": "073ce75f"
      },
      "source": [
        "> **EXERCISE**: Find the first occurrence of each of these tags in `doc`: `div`, `img`, `span`, `p`, etc."
      ]
    },
    {
      "cell_type": "code",
      "execution_count": null,
      "id": "0e22807d",
      "metadata": {
        "id": "0e22807d"
      },
      "outputs": [],
      "source": []
    },
    {
      "cell_type": "markdown",
      "id": "9200cbfc",
      "metadata": {
        "id": "9200cbfc"
      },
      "source": [
        "### Finding all tags of the same type\n",
        "\n",
        "To find all the occurrences of a tag, use the `find_all` method.\n",
        "\n",
        "> **QUESTION**: Find all the link tags on the page. How many links does the page contain?"
      ]
    },
    {
      "cell_type": "code",
      "execution_count": null,
      "id": "10f078fc",
      "metadata": {
        "id": "10f078fc"
      },
      "outputs": [],
      "source": [
        "all_link_tags = doc.find_all('a')"
      ]
    },
    {
      "cell_type": "code",
      "execution_count": null,
      "id": "a17e361d",
      "metadata": {
        "id": "a17e361d",
        "outputId": "090f1b60-2a11-48cd-df08-89b22e9fd40e"
      },
      "outputs": [
        {
          "data": {
            "text/plain": [
              "417"
            ]
          },
          "execution_count": 27,
          "metadata": {},
          "output_type": "execute_result"
        }
      ],
      "source": [
        "len(all_link_tags)"
      ]
    },
    {
      "cell_type": "code",
      "execution_count": null,
      "id": "6abcae03",
      "metadata": {
        "id": "6abcae03",
        "outputId": "cef6b4a9-8b33-40fa-db00-e20b8231c272"
      },
      "outputs": [
        {
          "data": {
            "text/plain": [
              "[<a class=\"px-2 py-4 color-bg-accent-emphasis color-fg-on-emphasis show-on-focus js-skip-to-content\" href=\"#start-of-content\">Skip to content</a>,\n",
              " <a aria-label=\"Homepage\" class=\"mr-4 color-fg-inherit\" data-ga-click=\"(Logged out) Header, go to homepage, icon:logo-wordmark\" href=\"https://github.com/\">\n",
              " <svg aria-hidden=\"true\" class=\"octicon octicon-mark-github\" data-view-component=\"true\" height=\"32\" version=\"1.1\" viewbox=\"0 0 16 16\" width=\"32\">\n",
              " <path d=\"M8 0C3.58 0 0 3.58 0 8c0 3.54 2.29 6.53 5.47 7.59.4.07.55-.17.55-.38 0-.19-.01-.82-.01-1.49-2.01.37-2.53-.49-2.69-.94-.09-.23-.48-.94-.82-1.13-.28-.15-.68-.52-.01-.53.63-.01 1.08.58 1.23.82.72 1.21 1.87.87 2.33.66.07-.52.28-.87.51-1.07-1.78-.2-3.64-.89-3.64-3.95 0-.87.31-1.59.82-2.15-.08-.2-.36-1.02.08-2.12 0 0 .67-.21 2.2.82.64-.18 1.32-.27 2-.27.68 0 1.36.09 2 .27 1.53-1.04 2.2-.82 2.2-.82.44 1.1.16 1.92.08 2.12.51.56.82 1.27.82 2.15 0 3.07-1.87 3.75-3.65 3.95.29.25.54.73.54 1.48 0 1.07-.01 1.93-.01 2.2 0 .21.15.46.55.38A8.013 8.013 0 0016 8c0-4.42-3.58-8-8-8z\" fill-rule=\"evenodd\"></path>\n",
              " </svg>\n",
              " </a>,\n",
              " <a class=\"d-inline-block d-lg-none f5 no-underline border color-border-default rounded-2 px-2 py-1 mr-3 mr-sm-5 color-fg-inherit\" data-hydro-click='{\"event_type\":\"authentication.click\",\"payload\":{\"location_in_page\":\"site header\",\"repository_id\":null,\"auth_type\":\"SIGN_UP\",\"originating_url\":\"https://github.com/topics/machine-learning\",\"user_id\":null}}' data-hydro-click-hmac=\"e755e218b5b5c8ea0dcf7c1afea104ce5b0e7bb40929d477942f46cf5b206533\" href=\"/signup?ref_cta=Sign+up&amp;ref_loc=header+logged+out&amp;ref_page=%2Ftopics%2Fmachine-learning&amp;source=header\">\n",
              "               Sign up\n",
              "             </a>]"
            ]
          },
          "execution_count": 28,
          "metadata": {},
          "output_type": "execute_result"
        }
      ],
      "source": [
        "all_link_tags[:3]"
      ]
    },
    {
      "cell_type": "markdown",
      "id": "28d92f0f",
      "metadata": {
        "id": "28d92f0f"
      },
      "source": [
        "> **EXERCISE**: Get a list of all the `img` tags on the page. How many images does the page contain?"
      ]
    },
    {
      "cell_type": "code",
      "execution_count": null,
      "id": "b7776fd4",
      "metadata": {
        "id": "b7776fd4"
      },
      "outputs": [],
      "source": []
    },
    {
      "cell_type": "markdown",
      "id": "ddaaa17a",
      "metadata": {
        "id": "ddaaa17a"
      },
      "source": [
        "### Accessing attributes\n",
        "\n",
        "The attributes of a tag can be accessed using the indexing notation, e.g., `first_link['href']`"
      ]
    },
    {
      "cell_type": "code",
      "execution_count": null,
      "id": "fbeb2da2",
      "metadata": {
        "id": "fbeb2da2",
        "outputId": "39edb679-78d9-4e9d-c302-d8cd5d615721"
      },
      "outputs": [
        {
          "data": {
            "text/plain": [
              "<a class=\"px-2 py-4 color-bg-accent-emphasis color-fg-on-emphasis show-on-focus js-skip-to-content\" href=\"#start-of-content\">Skip to content</a>"
            ]
          },
          "execution_count": 29,
          "metadata": {},
          "output_type": "execute_result"
        }
      ],
      "source": [
        "first_link"
      ]
    },
    {
      "cell_type": "code",
      "execution_count": null,
      "id": "e794605b",
      "metadata": {
        "id": "e794605b",
        "outputId": "facba851-0e15-4203-ffdb-ca866f377230"
      },
      "outputs": [
        {
          "data": {
            "text/plain": [
              "'#start-of-content'"
            ]
          },
          "execution_count": 30,
          "metadata": {},
          "output_type": "execute_result"
        }
      ],
      "source": [
        "first_link['href']"
      ]
    },
    {
      "cell_type": "code",
      "execution_count": null,
      "id": "8aa9d7b2",
      "metadata": {
        "id": "8aa9d7b2",
        "outputId": "e319dbcf-9816-4bc7-e456-d17cdfa31661"
      },
      "outputs": [
        {
          "data": {
            "text/plain": [
              "['px-2',\n",
              " 'py-4',\n",
              " 'color-bg-accent-emphasis',\n",
              " 'color-fg-on-emphasis',\n",
              " 'show-on-focus',\n",
              " 'js-skip-to-content']"
            ]
          },
          "execution_count": 31,
          "metadata": {},
          "output_type": "execute_result"
        }
      ],
      "source": [
        "first_link['class']"
      ]
    },
    {
      "cell_type": "markdown",
      "id": "b83b7f6c",
      "metadata": {
        "id": "b83b7f6c"
      },
      "source": [
        "Note that the `class` attribute is automatically split into a list of classes (this isn't done for any other attribute). This is because it's common practice to check for a specific class within a tag."
      ]
    },
    {
      "cell_type": "markdown",
      "id": "0a938f81",
      "metadata": {
        "id": "0a938f81"
      },
      "source": [
        "You can use the `.attrs` property to view all the attributes as a dictionary."
      ]
    },
    {
      "cell_type": "code",
      "execution_count": null,
      "id": "14b4fde1",
      "metadata": {
        "id": "14b4fde1",
        "outputId": "7792a6b3-ffc6-4a06-cc1d-3fa1e8ec3e04"
      },
      "outputs": [
        {
          "data": {
            "text/plain": [
              "{'href': '#start-of-content',\n",
              " 'class': ['px-2',\n",
              "  'py-4',\n",
              "  'color-bg-accent-emphasis',\n",
              "  'color-fg-on-emphasis',\n",
              "  'show-on-focus',\n",
              "  'js-skip-to-content']}"
            ]
          },
          "execution_count": 32,
          "metadata": {},
          "output_type": "execute_result"
        }
      ],
      "source": [
        "first_link.attrs"
      ]
    },
    {
      "cell_type": "markdown",
      "id": "3ded8044",
      "metadata": {
        "id": "3ded8044"
      },
      "source": [
        "> **EXERCISE**: Find the 5th image tag on the page (counting from 0). Which attributes does the tag contain? Find the values of the `src` and `alt` attributes of the tag."
      ]
    },
    {
      "cell_type": "code",
      "execution_count": null,
      "id": "72d11f80",
      "metadata": {
        "id": "72d11f80"
      },
      "outputs": [],
      "source": []
    },
    {
      "cell_type": "code",
      "execution_count": null,
      "id": "8617435f",
      "metadata": {
        "id": "8617435f"
      },
      "outputs": [],
      "source": []
    },
    {
      "cell_type": "markdown",
      "id": "e146b53a",
      "metadata": {
        "id": "e146b53a"
      },
      "source": [
        "### Searching by Attribute Value\n",
        "\n",
        "> **QUESTION**: Find the `img` tag(s) on the page with the `alt` attribute set to `transformers`.\n",
        "\n",
        "We can provide a dictionary of attributes as the second argument to `find_all`"
      ]
    },
    {
      "cell_type": "code",
      "execution_count": null,
      "id": "fbdd55cd",
      "metadata": {
        "id": "fbdd55cd",
        "outputId": "e1f13d8e-019a-403d-ecaa-9474a2d9ac30"
      },
      "outputs": [
        {
          "data": {
            "text/plain": [
              "[<img alt=\"transformers\" class=\"d-block width-full\" loading=\"lazy\" src=\"https://repository-images.githubusercontent.com/155220641/a16c4880-a501-11ea-9e8f-646cf611702e\"/>]"
            ]
          },
          "execution_count": 39,
          "metadata": {},
          "output_type": "execute_result"
        }
      ],
      "source": [
        "doc.find_all('img', { 'alt': 'transformers'})"
      ]
    },
    {
      "cell_type": "markdown",
      "id": "e13ebdd1",
      "metadata": {
        "id": "e13ebdd1"
      },
      "source": [
        "If we're just interested in the first element, we can use the `find` method. Keep in mind that `find` returns `None` if no matching tag is found."
      ]
    },
    {
      "cell_type": "code",
      "execution_count": null,
      "id": "8f1c8bf9",
      "metadata": {
        "id": "8f1c8bf9",
        "outputId": "4c881fe4-1050-427a-f349-e4bec0ae0211"
      },
      "outputs": [
        {
          "data": {
            "text/plain": [
              "<img alt=\"transformers\" class=\"d-block width-full\" loading=\"lazy\" src=\"https://repository-images.githubusercontent.com/155220641/a16c4880-a501-11ea-9e8f-646cf611702e\"/>"
            ]
          },
          "execution_count": 40,
          "metadata": {},
          "output_type": "execute_result"
        }
      ],
      "source": [
        "doc.find('img', { 'alt': 'transformers'})"
      ]
    },
    {
      "cell_type": "markdown",
      "id": "21e6ecf1",
      "metadata": {
        "id": "21e6ecf1"
      },
      "source": [
        "> **EXERCISE**: Find the `src` attribute of the first `img` tag with the `alt` attribute set to `julia`. Visit the link and check what the image represents."
      ]
    },
    {
      "cell_type": "code",
      "execution_count": null,
      "id": "a930c877",
      "metadata": {
        "id": "a930c877"
      },
      "outputs": [],
      "source": []
    },
    {
      "cell_type": "markdown",
      "id": "53cbde04",
      "metadata": {
        "id": "53cbde04"
      },
      "source": [
        "### Searching by Class\n",
        "\n",
        "The `class` attribute is one of the most frequently used attributes on HTML tags (used for layout and styling). We can search for tags containing a class using the `class_` argument in `find_all` (note that `class` is a reserved keyword in Python, hence the underscore in the argument name).\n",
        "\n",
        "> **QUESTION**: Find all the tags containing the class `HeaderMenu-link`. "
      ]
    },
    {
      "cell_type": "code",
      "execution_count": null,
      "id": "789777f8",
      "metadata": {
        "id": "789777f8"
      },
      "outputs": [],
      "source": [
        "matching_tags = doc.find_all(class_='HeaderMenu-link')"
      ]
    },
    {
      "cell_type": "code",
      "execution_count": null,
      "id": "75e51fb1",
      "metadata": {
        "id": "75e51fb1",
        "outputId": "386eedda-b175-44bc-928b-e2b30be44dfa"
      },
      "outputs": [
        {
          "data": {
            "text/plain": [
              "[<summary class=\"HeaderMenu-summary HeaderMenu-link px-0 py-3 border-0 no-wrap d-block d-lg-inline-block\">\n",
              "         Product\n",
              "         <svg class=\"icon-chevon-down-mktg position-absolute position-lg-relative\" fill=\"none\" viewbox=\"0 0 14 8\" x=\"0\" xml:space=\"preserve\" y=\"0\"><path d=\"M1,1l6.2,6L13,1\"></path></svg>\n",
              " </summary>,\n",
              " <a class=\"HeaderMenu-link no-underline py-3 d-block d-lg-inline-block\" data-analytics-event='{\"category\":\"Header menu top item (logged out)\",\"action\":\"click to go to Team\",\"label\":\"ref_page:/topics/machine-learning;ref_cta:Team;\"}' href=\"/team\">Team</a>,\n",
              " <a class=\"HeaderMenu-link no-underline py-3 d-block d-lg-inline-block\" data-analytics-event='{\"category\":\"Header menu top item (logged out)\",\"action\":\"click to go to Enterprise\",\"label\":\"ref_page:/topics/machine-learning;ref_cta:Enterprise;\"}' href=\"/enterprise\">Enterprise</a>,\n",
              " <summary class=\"HeaderMenu-summary HeaderMenu-link px-0 py-3 border-0 no-wrap d-block d-lg-inline-block\">\n",
              "         Explore\n",
              "         <svg class=\"icon-chevon-down-mktg position-absolute position-lg-relative\" fill=\"none\" viewbox=\"0 0 14 8\" x=\"0\" xml:space=\"preserve\" y=\"0\"><path d=\"M1,1l6.2,6L13,1\"></path></svg>\n",
              " </summary>,\n",
              " <a class=\"HeaderMenu-link no-underline py-3 d-block d-lg-inline-block\" data-analytics-event='{\"category\":\"Header menu top item (logged out)\",\"action\":\"click to go to Marketplace\",\"label\":\"ref_page:/topics/machine-learning;ref_cta:Marketplace;\"}' href=\"/marketplace\">Marketplace</a>,\n",
              " <summary class=\"HeaderMenu-summary HeaderMenu-link px-0 py-3 border-0 no-wrap d-block d-lg-inline-block\">\n",
              "         Pricing\n",
              "         <svg class=\"icon-chevon-down-mktg position-absolute position-lg-relative\" fill=\"none\" viewbox=\"0 0 14 8\" x=\"0\" xml:space=\"preserve\" y=\"0\"><path d=\"M1,1l6.2,6L13,1\"></path></svg>\n",
              " </summary>,\n",
              " <a class=\"HeaderMenu-link flex-shrink-0 no-underline\" data-ga-click=\"(Logged out) Header, clicked Sign in, text:sign-in\" data-hydro-click='{\"event_type\":\"authentication.click\",\"payload\":{\"location_in_page\":\"site header menu\",\"repository_id\":null,\"auth_type\":\"SIGN_UP\",\"originating_url\":\"https://github.com/topics/machine-learning\",\"user_id\":null}}' data-hydro-click-hmac=\"77fa0805c2ee5e083e5dbe5571a2e37d8661eca3a115806e97d54914b8332ea9\" href=\"/login?return_to=https%3A%2F%2Fgithub.com%2Ftopics%2Fmachine-learning\">\n",
              "             Sign in\n",
              "           </a>,\n",
              " <a class=\"HeaderMenu-link flex-shrink-0 d-inline-block no-underline border color-border-default rounded px-2 py-1\" data-analytics-event='{\"category\":\"Sign up\",\"action\":\"click to sign up for account\",\"label\":\"ref_page:/topics/machine-learning;ref_cta:Sign up;ref_loc:header logged out\"}' data-hydro-click='{\"event_type\":\"authentication.click\",\"payload\":{\"location_in_page\":\"site header menu\",\"repository_id\":null,\"auth_type\":\"SIGN_UP\",\"originating_url\":\"https://github.com/topics/machine-learning\",\"user_id\":null}}' data-hydro-click-hmac=\"77fa0805c2ee5e083e5dbe5571a2e37d8661eca3a115806e97d54914b8332ea9\" href=\"/signup?ref_cta=Sign+up&amp;ref_loc=header+logged+out&amp;ref_page=%2Ftopics%2Fmachine-learning&amp;source=header\">\n",
              "             Sign up\n",
              "           </a>]"
            ]
          },
          "execution_count": 42,
          "metadata": {},
          "output_type": "execute_result"
        }
      ],
      "source": [
        "matching_tags"
      ]
    },
    {
      "cell_type": "markdown",
      "id": "bf79ec21",
      "metadata": {
        "id": "bf79ec21"
      },
      "source": [
        "We can also for a specific type of tag e.g. `<a>` matching the given class."
      ]
    },
    {
      "cell_type": "code",
      "execution_count": null,
      "id": "16b6a16a",
      "metadata": {
        "id": "16b6a16a"
      },
      "outputs": [],
      "source": [
        "header_link_tags = doc.find_all('a', class_='HeaderMenu-link')"
      ]
    },
    {
      "cell_type": "code",
      "execution_count": null,
      "id": "c7ea7c06",
      "metadata": {
        "id": "c7ea7c06",
        "outputId": "9f4f812f-e4f6-42e7-dca3-50b053cdd6fd"
      },
      "outputs": [
        {
          "data": {
            "text/plain": [
              "[<a class=\"HeaderMenu-link no-underline py-3 d-block d-lg-inline-block\" data-analytics-event='{\"category\":\"Header menu top item (logged out)\",\"action\":\"click to go to Team\",\"label\":\"ref_page:/topics/machine-learning;ref_cta:Team;\"}' href=\"/team\">Team</a>,\n",
              " <a class=\"HeaderMenu-link no-underline py-3 d-block d-lg-inline-block\" data-analytics-event='{\"category\":\"Header menu top item (logged out)\",\"action\":\"click to go to Enterprise\",\"label\":\"ref_page:/topics/machine-learning;ref_cta:Enterprise;\"}' href=\"/enterprise\">Enterprise</a>,\n",
              " <a class=\"HeaderMenu-link no-underline py-3 d-block d-lg-inline-block\" data-analytics-event='{\"category\":\"Header menu top item (logged out)\",\"action\":\"click to go to Marketplace\",\"label\":\"ref_page:/topics/machine-learning;ref_cta:Marketplace;\"}' href=\"/marketplace\">Marketplace</a>,\n",
              " <a class=\"HeaderMenu-link flex-shrink-0 no-underline\" data-ga-click=\"(Logged out) Header, clicked Sign in, text:sign-in\" data-hydro-click='{\"event_type\":\"authentication.click\",\"payload\":{\"location_in_page\":\"site header menu\",\"repository_id\":null,\"auth_type\":\"SIGN_UP\",\"originating_url\":\"https://github.com/topics/machine-learning\",\"user_id\":null}}' data-hydro-click-hmac=\"77fa0805c2ee5e083e5dbe5571a2e37d8661eca3a115806e97d54914b8332ea9\" href=\"/login?return_to=https%3A%2F%2Fgithub.com%2Ftopics%2Fmachine-learning\">\n",
              "             Sign in\n",
              "           </a>,\n",
              " <a class=\"HeaderMenu-link flex-shrink-0 d-inline-block no-underline border color-border-default rounded px-2 py-1\" data-analytics-event='{\"category\":\"Sign up\",\"action\":\"click to sign up for account\",\"label\":\"ref_page:/topics/machine-learning;ref_cta:Sign up;ref_loc:header logged out\"}' data-hydro-click='{\"event_type\":\"authentication.click\",\"payload\":{\"location_in_page\":\"site header menu\",\"repository_id\":null,\"auth_type\":\"SIGN_UP\",\"originating_url\":\"https://github.com/topics/machine-learning\",\"user_id\":null}}' data-hydro-click-hmac=\"77fa0805c2ee5e083e5dbe5571a2e37d8661eca3a115806e97d54914b8332ea9\" href=\"/signup?ref_cta=Sign+up&amp;ref_loc=header+logged+out&amp;ref_page=%2Ftopics%2Fmachine-learning&amp;source=header\">\n",
              "             Sign up\n",
              "           </a>]"
            ]
          },
          "execution_count": 44,
          "metadata": {},
          "output_type": "execute_result"
        }
      ],
      "source": [
        "header_link_tags"
      ]
    },
    {
      "cell_type": "markdown",
      "id": "2a5ea744",
      "metadata": {
        "id": "2a5ea744"
      },
      "source": [
        "### Parsing Information from Tags\n",
        "\n",
        "Once we have a list of tags matching some criteria, it's easy to extract information and convert it to a more convenient format.\n",
        "\n",
        "> **QUESTION**: Find the link text and URL of all the links withing the page header on https://github.com/topics/machine-learning .\n",
        "\n",
        "We'll create a list of dictionaries containing the required information. We'll add the base URL https://github.com as a prefix because the `href` attribute only contains the relative path e.g. `/explore`."
      ]
    },
    {
      "cell_type": "code",
      "execution_count": null,
      "id": "26f8deb5",
      "metadata": {
        "id": "26f8deb5",
        "outputId": "7966840a-04b6-4d09-f555-31658d0d3874"
      },
      "outputs": [
        {
          "data": {
            "text/plain": [
              "'/team'"
            ]
          },
          "execution_count": 45,
          "metadata": {},
          "output_type": "execute_result"
        }
      ],
      "source": [
        "header_link_tags[0]['href']"
      ]
    },
    {
      "cell_type": "code",
      "execution_count": null,
      "id": "3075d4f4",
      "metadata": {
        "id": "3075d4f4",
        "outputId": "4258d29b-09b9-4b54-bad6-6f838e7dc7af"
      },
      "outputs": [
        {
          "data": {
            "text/plain": [
              "[{'title': 'Team', 'url': 'https://github.com/team'},\n",
              " {'title': 'Enterprise', 'url': 'https://github.com/enterprise'},\n",
              " {'title': 'Marketplace', 'url': 'https://github.com/marketplace'},\n",
              " {'title': 'Sign in',\n",
              "  'url': 'https://github.com/login?return_to=https%3A%2F%2Fgithub.com%2Ftopics%2Fmachine-learning'},\n",
              " {'title': 'Sign up',\n",
              "  'url': 'https://github.com/signup?ref_cta=Sign+up&ref_loc=header+logged+out&ref_page=%2Ftopics%2Fmachine-learning&source=header'}]"
            ]
          },
          "execution_count": 46,
          "metadata": {},
          "output_type": "execute_result"
        }
      ],
      "source": [
        "header_links = []\n",
        "base_url = 'https://github.com'\n",
        "\n",
        "for tag in header_link_tags:\n",
        "    header_links.append({ 'title': tag.text.strip(), 'url': base_url + tag['href']})\n",
        "    \n",
        "header_links"
      ]
    },
    {
      "cell_type": "markdown",
      "id": "ae8d1400",
      "metadata": {
        "id": "ae8d1400"
      },
      "source": [
        "We have successfully extracted the required information about links in the page header. This is precisely what web scraping is: downloading a webpage, parsing the HTML, and extracting useful information."
      ]
    },
    {
      "cell_type": "markdown",
      "id": "f0eff6b1",
      "metadata": {
        "id": "f0eff6b1"
      },
      "source": [
        "> **EXERCISE**: Find the list of all the images matching the class `d-block width-full`. Each list element should be a dictionary containing two keys, `\"username\"` and `\"url\"`. You can obtain the username using the `alt` attribute of a tag and the URL using the `src` attribute."
      ]
    },
    {
      "cell_type": "code",
      "execution_count": null,
      "id": "87b19ea0",
      "metadata": {
        "id": "87b19ea0"
      },
      "outputs": [],
      "source": []
    },
    {
      "cell_type": "code",
      "execution_count": null,
      "id": "ebd72cee",
      "metadata": {
        "id": "ebd72cee"
      },
      "outputs": [],
      "source": []
    },
    {
      "cell_type": "markdown",
      "id": "3b7667da",
      "metadata": {
        "id": "3b7667da"
      },
      "source": [
        "### Elements inside a tag\n",
        "\n",
        "> **QUESTION**: Find the `li` tags that are direct children of `ul` tag with the class `top-list` in the sample HTML document below.\n"
      ]
    },
    {
      "cell_type": "code",
      "execution_count": null,
      "id": "9ec77447",
      "metadata": {
        "id": "9ec77447"
      },
      "outputs": [],
      "source": [
        "sample_html = \"\"\"\n",
        "<html>\n",
        "    <body>\n",
        "        <ul class=\"top-list\">\n",
        "            <li>Item 1</li>\n",
        "            <li>Item 2</li>\n",
        "            <li>\n",
        "                <ul>\n",
        "                    <li>Item 3.1</li>\n",
        "                    <li>Item 3.2</li>\n",
        "                    <li>Item 3.3</li>\n",
        "                </ul> \n",
        "            </li>\n",
        "        </ul>\n",
        "    </body>\n",
        "</html>\"\"\""
      ]
    },
    {
      "cell_type": "code",
      "execution_count": null,
      "id": "b84eb24c",
      "metadata": {
        "id": "b84eb24c"
      },
      "outputs": [],
      "source": [
        "sample_doc = BeautifulSoup(sample_html)"
      ]
    },
    {
      "cell_type": "code",
      "execution_count": null,
      "id": "90f93145",
      "metadata": {
        "id": "90f93145"
      },
      "outputs": [],
      "source": [
        "list_tag = sample_doc.find('ul', class_='top-list')"
      ]
    },
    {
      "cell_type": "markdown",
      "id": "fab353f9",
      "metadata": {
        "id": "fab353f9"
      },
      "source": [
        "We can use the `find_all` method on the tag, and set `recursive=False` to find just the direct children."
      ]
    },
    {
      "cell_type": "code",
      "execution_count": null,
      "id": "92d10437",
      "metadata": {
        "id": "92d10437"
      },
      "outputs": [],
      "source": [
        "list_item_tags = list_tag.find_all('li', recursive=False)"
      ]
    },
    {
      "cell_type": "code",
      "execution_count": null,
      "id": "4e1230d0",
      "metadata": {
        "id": "4e1230d0",
        "outputId": "511e4e39-14af-4ec2-c073-e6d1c6ae6ab9"
      },
      "outputs": [
        {
          "data": {
            "text/plain": [
              "[<li>Item 1</li>,\n",
              " <li>Item 2</li>,\n",
              " <li>\n",
              " <ul>\n",
              " <li>Item 3.1</li>\n",
              " <li>Item 3.2</li>\n",
              " <li>Item 3.3</li>\n",
              " </ul>\n",
              " </li>]"
            ]
          },
          "execution_count": 51,
          "metadata": {},
          "output_type": "execute_result"
        }
      ],
      "source": [
        "list_item_tags"
      ]
    },
    {
      "cell_type": "markdown",
      "id": "dddbbce9",
      "metadata": {
        "id": "dddbbce9"
      },
      "source": [
        "Without `recursive=False`, the inner list items are also included in the result."
      ]
    },
    {
      "cell_type": "code",
      "execution_count": null,
      "id": "33d0befe",
      "metadata": {
        "id": "33d0befe",
        "outputId": "fab6e725-bfff-4720-d88c-8bb722709c61"
      },
      "outputs": [
        {
          "data": {
            "text/plain": [
              "[<li>Item 1</li>,\n",
              " <li>Item 2</li>,\n",
              " <li>\n",
              " <ul>\n",
              " <li>Item 3.1</li>\n",
              " <li>Item 3.2</li>\n",
              " <li>Item 3.3</li>\n",
              " </ul>\n",
              " </li>,\n",
              " <li>Item 3.1</li>,\n",
              " <li>Item 3.2</li>,\n",
              " <li>Item 3.3</li>]"
            ]
          },
          "execution_count": 52,
          "metadata": {},
          "output_type": "execute_result"
        }
      ],
      "source": [
        "list_tag.find_all('li')"
      ]
    },
    {
      "cell_type": "markdown",
      "id": "5b8feb36",
      "metadata": {
        "id": "5b8feb36"
      },
      "source": [
        "Keep in mind that you don't need to remember all (or any) of the methods or properties offered by Beautiful Soup documents and tags. You should be able to figure out what you need to do, when you need to do it. Here's how:\n",
        "\n",
        "* Look up the documentation: https://www.crummy.com/software/BeautifulSoup/bs4/doc/\n",
        "* Google what you're trying to do: https://www.google.co.in/search?q=beautiful+soup+get+href\n",
        "* Ask a question on StackOverflow: https://stackoverflow.com/questions/tagged/beautifulsoup\n",
        "\n"
      ]
    },
    {
      "cell_type": "markdown",
      "id": "deb2255d",
      "metadata": {
        "id": "deb2255d"
      },
      "source": [
        "Let's save our work before continuing."
      ]
    },
    {
      "cell_type": "code",
      "execution_count": null,
      "id": "b37da2dd",
      "metadata": {
        "id": "b37da2dd",
        "outputId": "66c77fed-d5cf-48a3-ec98-87b6a7f756fb"
      },
      "outputs": [
        {
          "data": {
            "application/javascript": [
              "window.require && require([\"base/js/namespace\"],function(Jupyter){Jupyter.notebook.save_checkpoint()})"
            ],
            "text/plain": [
              "<IPython.core.display.Javascript object>"
            ]
          },
          "metadata": {},
          "output_type": "display_data"
        }
      ],
      "source": [
        "jovian.commit()"
      ]
    },
    {
      "cell_type": "markdown",
      "id": "b5d9c6bc",
      "metadata": {
        "id": "b5d9c6bc"
      },
      "source": [
        "### Top Repositories for a Topic\n",
        "\n",
        "Let's return to our original problem statement of finding the top repositories for a given topic. Before we parse a page and find the top repositories, let's define a helper function to get the web page for any topic.\n",
        "\n",
        "> **QUESTION**: Define a function `get_topic_page` that downloads the GitHub web page for a given topic and returns a beautiful soup document representing the page."
      ]
    },
    {
      "cell_type": "code",
      "execution_count": null,
      "id": "92fe1427",
      "metadata": {
        "id": "92fe1427"
      },
      "outputs": [],
      "source": [
        "def get_topic_page(topic):\n",
        "    # Construct the URL\n",
        "    topic_repos_url = 'https://github.com/topics/' + topic\n",
        "    \n",
        "    # Get the HTML page content using requests\n",
        "    response = requests.get(topic_repos_url)\n",
        "    \n",
        "    # Ensure that the reponse is valid\n",
        "    if response.status_code != 200:\n",
        "        print('Status code:', response.status_code)\n",
        "        raise Exception('Failed to fetch web page ' + topic_repos_url)\n",
        "    \n",
        "    # Construct a beautiful soup document\n",
        "    doc = BeautifulSoup(response.text)\n",
        "    \n",
        "    return doc"
      ]
    },
    {
      "cell_type": "code",
      "execution_count": null,
      "id": "06a17607",
      "metadata": {
        "id": "06a17607"
      },
      "outputs": [],
      "source": [
        "doc = get_topic_page('machine-learning')"
      ]
    },
    {
      "cell_type": "code",
      "execution_count": null,
      "id": "9a3fce57",
      "metadata": {
        "id": "9a3fce57",
        "outputId": "2c10062b-efee-466f-d805-60e5c42ede11"
      },
      "outputs": [
        {
          "data": {
            "text/plain": [
              "'machine-learning · GitHub Topics · GitHub'"
            ]
          },
          "execution_count": 50,
          "metadata": {},
          "output_type": "execute_result"
        }
      ],
      "source": [
        "doc.title.text"
      ]
    },
    {
      "cell_type": "markdown",
      "id": "0836db78",
      "metadata": {
        "id": "0836db78"
      },
      "source": [
        "Getting the topic page for another topic is now as simple as invoking the function with a different argument."
      ]
    },
    {
      "cell_type": "code",
      "execution_count": null,
      "id": "c17c7472",
      "metadata": {
        "id": "c17c7472"
      },
      "outputs": [],
      "source": [
        "doc2 = get_topic_page('data-analysis')"
      ]
    },
    {
      "cell_type": "code",
      "execution_count": null,
      "id": "45ae4316",
      "metadata": {
        "id": "45ae4316",
        "outputId": "c0c73737-4d6a-4666-c769-56d9f0174eb6"
      },
      "outputs": [
        {
          "data": {
            "text/plain": [
              "'data-analysis · GitHub Topics · GitHub'"
            ]
          },
          "execution_count": 52,
          "metadata": {},
          "output_type": "execute_result"
        }
      ],
      "source": [
        "doc2.title.text"
      ]
    },
    {
      "cell_type": "markdown",
      "id": "05b80f9f",
      "metadata": {
        "id": "05b80f9f"
      },
      "source": [
        "> **QUESTION**: Develop an approach to find the repository name, owner's username, no. of stars, and repository link for the repositories listed on a topic page.\n",
        "\n",
        "<img src=\"https://i.imgur.com/szL76cU.png\" width=\"640\" style=\"box-shadow:rgba(52, 64, 77, 0.2) 0px 1px 5px 0px;border-radius:4px;\">\n",
        "\n",
        "Upon inspecting the box containing the information for a repository, you will find an `article` tag for each repository, with `class` attribute set to  `border rounded color-shadow-small color-bg-secondary my-4`.\n",
        "\n",
        "Let's find all the `article` tags matching this class.\n"
      ]
    },
    {
      "cell_type": "code",
      "execution_count": null,
      "id": "b7e76764",
      "metadata": {
        "id": "b7e76764"
      },
      "outputs": [],
      "source": [
        "article_tags = doc.find_all('article', class_='border rounded color-shadow-small color-bg-subtle my-4')"
      ]
    },
    {
      "cell_type": "code",
      "execution_count": null,
      "id": "0b529bc5",
      "metadata": {
        "id": "0b529bc5",
        "outputId": "cdb2a3bd-9b91-473b-c1ba-7dbd3b6aaae6"
      },
      "outputs": [
        {
          "data": {
            "text/plain": [
              "30"
            ]
          },
          "execution_count": 54,
          "metadata": {},
          "output_type": "execute_result"
        }
      ],
      "source": [
        "len(article_tags)"
      ]
    },
    {
      "cell_type": "markdown",
      "id": "83321b67",
      "metadata": {
        "id": "83321b67"
      },
      "source": [
        "There are 30 repositories listed on the page, and our query resulted in 30 article tags. It looks like we've found the enclosing tag for each repository. \n",
        "\n",
        "We need to extract the following information from each tag:\n",
        "\n",
        "1. Repository name\n",
        "2. Owner's username\n",
        "3. Number of stars\n",
        "4. Repository link\n",
        "\n",
        "Look at the source of any of the article tags. You will notice that the repository name, owner's username, and the repository link are all part of an `h1` tag."
      ]
    },
    {
      "cell_type": "code",
      "execution_count": null,
      "id": "3d1fe993",
      "metadata": {
        "id": "3d1fe993"
      },
      "outputs": [],
      "source": [
        "article_tag = article_tags[4]"
      ]
    },
    {
      "cell_type": "code",
      "execution_count": null,
      "id": "12f52464",
      "metadata": {
        "id": "12f52464"
      },
      "outputs": [],
      "source": [
        "# Uncomment to view\n",
        "# article_tag"
      ]
    },
    {
      "cell_type": "markdown",
      "id": "ee8d7d6c",
      "metadata": {
        "id": "ee8d7d6c"
      },
      "source": [
        "Let's retrieve the first `h1` inside an article."
      ]
    },
    {
      "cell_type": "code",
      "execution_count": null,
      "id": "793deae8",
      "metadata": {
        "id": "793deae8",
        "outputId": "e4c9a165-1f0f-4c3f-d0d6-cfab0e264531"
      },
      "outputs": [
        {
          "data": {
            "text/plain": [
              "<h3 class=\"f3 color-fg-muted text-normal lh-condensed\">\n",
              "<a data-ga-click=\"Explore, go to repository owner, location:explore feed\" data-hydro-click='{\"event_type\":\"explore.click\",\"payload\":{\"click_context\":\"REPOSITORY_CARD\",\"click_target\":\"OWNER\",\"click_visual_representation\":\"REPOSITORY_OWNER_HEADING\",\"actor_id\":null,\"record_id\":8401422,\"originating_url\":\"https://github.com/topics/machine-learning\",\"user_id\":null}}' data-hydro-click-hmac=\"c14e22ad4cc65812caacdf8b76899e4e4979ea7d56890715930cef3abddde9c5\" data-view-component=\"true\" href=\"/tesseract-ocr\">\n",
              "            tesseract-ocr\n",
              "</a>          /\n",
              "          <a class=\"text-bold wb-break-word\" data-ga-click=\"Explore, go to repository, location:explore feed\" data-hydro-click='{\"event_type\":\"explore.click\",\"payload\":{\"click_context\":\"REPOSITORY_CARD\",\"click_target\":\"REPOSITORY\",\"click_visual_representation\":\"REPOSITORY_NAME_HEADING\",\"actor_id\":null,\"record_id\":22887094,\"originating_url\":\"https://github.com/topics/machine-learning\",\"user_id\":null}}' data-hydro-click-hmac=\"0d1578eafced610d5100a5880e0d084554b47f4b1fa6ce1de3ce9d413687d2a2\" data-view-component=\"true\" href=\"/tesseract-ocr/tesseract\">\n",
              "            tesseract\n",
              "</a> </h3>"
            ]
          },
          "execution_count": 57,
          "metadata": {},
          "output_type": "execute_result"
        }
      ],
      "source": [
        "h3_tag = article_tag.find('h3')\n",
        "h3_tag"
      ]
    },
    {
      "cell_type": "markdown",
      "id": "5649fbb8",
      "metadata": {
        "id": "5649fbb8"
      },
      "source": [
        "The `h1` has `a` tags inside it, one containing the owner's username and the second containing the repository title. The `href` of the second tag also includes the relative path of the repository. Let's extract this information from the `a` tags."
      ]
    },
    {
      "cell_type": "code",
      "execution_count": null,
      "id": "e685008d",
      "metadata": {
        "id": "e685008d"
      },
      "outputs": [],
      "source": [
        "a_tags = h3_tag.find_all('a', recursive=False)"
      ]
    },
    {
      "cell_type": "code",
      "execution_count": null,
      "id": "d573cdcb",
      "metadata": {
        "id": "d573cdcb",
        "outputId": "e35571e7-0ed5-43a5-ca24-af6a128cc840"
      },
      "outputs": [
        {
          "data": {
            "text/plain": [
              "'\\n            tesseract-ocr\\n'"
            ]
          },
          "execution_count": 59,
          "metadata": {},
          "output_type": "execute_result"
        }
      ],
      "source": [
        "username = a_tags[0].text\n",
        "username"
      ]
    },
    {
      "cell_type": "markdown",
      "id": "c85824ff",
      "metadata": {
        "id": "c85824ff"
      },
      "source": [
        "Looks like the username contains some leading and trailing whitespace. We can get rid of it using `strip`."
      ]
    },
    {
      "cell_type": "code",
      "execution_count": null,
      "id": "c5cab250",
      "metadata": {
        "id": "c5cab250",
        "outputId": "49cfd265-b4ea-4cd0-fa42-fdcb6208f452"
      },
      "outputs": [
        {
          "data": {
            "text/plain": [
              "'tesseract-ocr'"
            ]
          },
          "execution_count": 60,
          "metadata": {},
          "output_type": "execute_result"
        }
      ],
      "source": [
        "username = a_tags[0].text.strip()\n",
        "username"
      ]
    },
    {
      "cell_type": "markdown",
      "id": "7aabf7c4",
      "metadata": {
        "id": "7aabf7c4"
      },
      "source": [
        "We can get the repository name and repository path in the same fashion."
      ]
    },
    {
      "cell_type": "code",
      "execution_count": null,
      "id": "2f79c370",
      "metadata": {
        "id": "2f79c370",
        "outputId": "08742536-6c64-4067-fd4d-d1e26e1f8595"
      },
      "outputs": [
        {
          "data": {
            "text/plain": [
              "'tesseract'"
            ]
          },
          "execution_count": 61,
          "metadata": {},
          "output_type": "execute_result"
        }
      ],
      "source": [
        "repo_name = a_tags[1].text.strip()\n",
        "repo_name"
      ]
    },
    {
      "cell_type": "code",
      "execution_count": null,
      "id": "398d97a9",
      "metadata": {
        "id": "398d97a9",
        "outputId": "4a27072e-12bd-4b78-85dd-0ccb7ba283c7"
      },
      "outputs": [
        {
          "data": {
            "text/plain": [
              "'/tesseract-ocr/tesseract'"
            ]
          },
          "execution_count": 62,
          "metadata": {},
          "output_type": "execute_result"
        }
      ],
      "source": [
        "repo_path = a_tags[1]['href'].strip()\n",
        "repo_path"
      ]
    },
    {
      "cell_type": "markdown",
      "id": "d981d566",
      "metadata": {
        "id": "d981d566"
      },
      "source": [
        "To get the full URL to the repository, we can append the base URL `https://github.com` at the beginning of the path."
      ]
    },
    {
      "cell_type": "code",
      "execution_count": null,
      "id": "27053f7c",
      "metadata": {
        "id": "27053f7c",
        "outputId": "374cf6f6-db3e-4062-f4a8-4606a0e29d64"
      },
      "outputs": [
        {
          "data": {
            "text/plain": [
              "'https://github.com/tesseract-ocr/tesseract'"
            ]
          },
          "execution_count": 63,
          "metadata": {},
          "output_type": "execute_result"
        }
      ],
      "source": [
        "base_url = 'https://github.com'\n",
        "repo_url = base_url + repo_path \n",
        "repo_url"
      ]
    },
    {
      "cell_type": "markdown",
      "id": "2a929a54",
      "metadata": {
        "id": "2a929a54"
      },
      "source": [
        "\n",
        "Next, to get the number of starts, we notice that it is contained within an `span` tag which has the count `Counter js-social-count`.\n"
      ]
    },
    {
      "cell_type": "code",
      "execution_count": null,
      "id": "476106a0",
      "metadata": {
        "id": "476106a0",
        "outputId": "90262cb7-32d0-4a7e-b4d4-b11f8bdffec7"
      },
      "outputs": [
        {
          "data": {
            "text/plain": [
              "<article class=\"border rounded color-shadow-small color-bg-subtle my-4\">\n",
              "<div class=\"px-3\">\n",
              "<div class=\"d-flex flex-justify-between my-3\">\n",
              "<div class=\"d-flex flex-auto\">\n",
              "<span style=\"margin-top:2px\">\n",
              "<svg aria-hidden=\"true\" class=\"octicon octicon-repo color-fg-muted mr-2\" data-view-component=\"true\" height=\"16\" version=\"1.1\" viewbox=\"0 0 16 16\" width=\"16\">\n",
              "<path d=\"M2 2.5A2.5 2.5 0 014.5 0h8.75a.75.75 0 01.75.75v12.5a.75.75 0 01-.75.75h-2.5a.75.75 0 110-1.5h1.75v-2h-8a1 1 0 00-.714 1.7.75.75 0 01-1.072 1.05A2.495 2.495 0 012 11.5v-9zm10.5-1V9h-8c-.356 0-.694.074-1 .208V2.5a1 1 0 011-1h8zM5 12.25v3.25a.25.25 0 00.4.2l1.45-1.087a.25.25 0 01.3 0L8.6 15.7a.25.25 0 00.4-.2v-3.25a.25.25 0 00-.25-.25h-3.5a.25.25 0 00-.25.25z\" fill-rule=\"evenodd\"></path>\n",
              "</svg>\n",
              "</span>\n",
              "<h3 class=\"f3 color-fg-muted text-normal lh-condensed\">\n",
              "<a data-ga-click=\"Explore, go to repository owner, location:explore feed\" data-hydro-click='{\"event_type\":\"explore.click\",\"payload\":{\"click_context\":\"REPOSITORY_CARD\",\"click_target\":\"OWNER\",\"click_visual_representation\":\"REPOSITORY_OWNER_HEADING\",\"actor_id\":null,\"record_id\":8401422,\"originating_url\":\"https://github.com/topics/machine-learning\",\"user_id\":null}}' data-hydro-click-hmac=\"c14e22ad4cc65812caacdf8b76899e4e4979ea7d56890715930cef3abddde9c5\" data-view-component=\"true\" href=\"/tesseract-ocr\">\n",
              "            tesseract-ocr\n",
              "</a>          /\n",
              "          <a class=\"text-bold wb-break-word\" data-ga-click=\"Explore, go to repository, location:explore feed\" data-hydro-click='{\"event_type\":\"explore.click\",\"payload\":{\"click_context\":\"REPOSITORY_CARD\",\"click_target\":\"REPOSITORY\",\"click_visual_representation\":\"REPOSITORY_NAME_HEADING\",\"actor_id\":null,\"record_id\":22887094,\"originating_url\":\"https://github.com/topics/machine-learning\",\"user_id\":null}}' data-hydro-click-hmac=\"0d1578eafced610d5100a5880e0d084554b47f4b1fa6ce1de3ce9d413687d2a2\" data-view-component=\"true\" href=\"/tesseract-ocr/tesseract\">\n",
              "            tesseract\n",
              "</a> </h3>\n",
              "</div>\n",
              "<div class=\"d-flex flex-items-center ml-3\">\n",
              "<div class=\"BtnGroup d-flex\" data-view-component=\"true\">\n",
              "<a aria-label=\"You must be signed in to star a repository\" class=\"tooltipped tooltipped-s btn-sm btn BtnGroup-item color-bg-default\" data-hydro-click='{\"event_type\":\"authentication.click\",\"payload\":{\"location_in_page\":\"star button\",\"repository_id\":22887094,\"auth_type\":\"LOG_IN\",\"originating_url\":\"https://github.com/topics/machine-learning\",\"user_id\":null}}' data-hydro-click-hmac=\"b65dfec4fdcf928d6b7828d6fa3736091509ebc16a861dc9ebca17b980101a9a\" data-view-component=\"true\" href=\"/login?return_to=%2Ftesseract-ocr%2Ftesseract\" rel=\"nofollow\"> <svg aria-hidden=\"true\" class=\"octicon octicon-star v-align-text-bottom d-inline-block mr-2\" data-view-component=\"true\" height=\"16\" version=\"1.1\" viewbox=\"0 0 16 16\" width=\"16\">\n",
              "<path d=\"M8 .25a.75.75 0 01.673.418l1.882 3.815 4.21.612a.75.75 0 01.416 1.279l-3.046 2.97.719 4.192a.75.75 0 01-1.088.791L8 12.347l-3.766 1.98a.75.75 0 01-1.088-.79l.72-4.194L.818 6.374a.75.75 0 01.416-1.28l4.21-.611L7.327.668A.75.75 0 018 .25zm0 2.445L6.615 5.5a.75.75 0 01-.564.41l-3.097.45 2.24 2.184a.75.75 0 01.216.664l-.528 3.084 2.769-1.456a.75.75 0 01.698 0l2.77 1.456-.53-3.084a.75.75 0 01.216-.664l2.24-2.183-3.096-.45a.75.75 0 01-.564-.41L8 2.694v.001z\" fill-rule=\"evenodd\"></path>\n",
              "</svg><span class=\"d-inline\" data-view-component=\"true\">\n",
              "          Star\n",
              "</span> <span aria-label=\"43557 users starred this repository\" class=\"Counter js-social-count\" data-pjax-replace=\"true\" data-plural-suffix=\"users starred this repository\" data-singular-suffix=\"user starred this repository\" data-view-component=\"true\" id=\"repo-stars-counter-star\" title=\"43,557\">43.6k</span>\n",
              "</a> <button aria-label=\"You must be signed in to add this repository to a list\" class=\"btn-sm btn BtnGroup-item px-2\" data-view-component=\"true\" disabled=\"disabled\" type=\"button\"> <svg aria-hidden=\"true\" class=\"octicon octicon-triangle-down\" data-view-component=\"true\" height=\"16\" version=\"1.1\" viewbox=\"0 0 16 16\" width=\"16\">\n",
              "<path d=\"M4.427 7.427l3.396 3.396a.25.25 0 00.354 0l3.396-3.396A.25.25 0 0011.396 7H4.604a.25.25 0 00-.177.427z\"></path>\n",
              "</svg>\n",
              "</button></div>\n",
              "</div>\n",
              "</div>\n",
              "</div>\n",
              "<nav aria-label=\"Repository menu\" class=\"tabnav px-3 mb-0\" data-view-component=\"true\">\n",
              "<ul class=\"tabnav-tabs\" data-view-component=\"true\">\n",
              "<li class=\"d-inline-flex\" data-view-component=\"true\">\n",
              "<a aria-current=\"true\" class=\"tabnav-tab f6 px-2 py-1\" data-ga-click=\"Explore, go to repository, location:explore feed\" data-hydro-click='{\"event_type\":\"explore.click\",\"payload\":{\"click_context\":\"REPOSITORY_CARD\",\"click_target\":\"REPOSITORY\",\"click_visual_representation\":\"CODE_TAB\",\"actor_id\":null,\"record_id\":22887094,\"originating_url\":\"https://github.com/topics/machine-learning\",\"user_id\":null}}' data-hydro-click-hmac=\"80ac6cc31bd00478a8bd80b601193c7b4bbb8b5139a01fb5066bedba45a7bf5f\" data-view-component=\"true\" href=\"/tesseract-ocr/tesseract\" id=\"code-tab-22887094\">\n",
              "<svg aria-hidden=\"true\" class=\"octicon octicon-code color-fg-default\" data-view-component=\"true\" height=\"16\" version=\"1.1\" viewbox=\"0 0 16 16\" width=\"16\">\n",
              "<path d=\"M4.72 3.22a.75.75 0 011.06 1.06L2.06 8l3.72 3.72a.75.75 0 11-1.06 1.06L.47 8.53a.75.75 0 010-1.06l4.25-4.25zm6.56 0a.75.75 0 10-1.06 1.06L13.94 8l-3.72 3.72a.75.75 0 101.06 1.06l4.25-4.25a.75.75 0 000-1.06l-4.25-4.25z\" fill-rule=\"evenodd\"></path>\n",
              "</svg> Code\n",
              "\n",
              "    \n",
              "</a></li>\n",
              "<li class=\"d-inline-flex\" data-view-component=\"true\">\n",
              "<a class=\"tabnav-tab f6 px-2 py-1\" data-ga-click=\"Explore, go to repository issues, location:explore feed\" data-hydro-click='{\"event_type\":\"explore.click\",\"payload\":{\"click_context\":\"REPOSITORY_CARD\",\"click_target\":\"REPOSITORY_ISSUES\",\"click_visual_representation\":\"ISSUES_TAB\",\"actor_id\":null,\"record_id\":22887094,\"originating_url\":\"https://github.com/topics/machine-learning\",\"user_id\":null}}' data-hydro-click-hmac=\"416a2c38c2576549fd811ae282b109cda1ea66ae176969689676e10c19f0ad85\" data-view-component=\"true\" href=\"/tesseract-ocr/tesseract/issues\" id=\"issues-tab-22887094\">\n",
              "<svg aria-hidden=\"true\" class=\"octicon octicon-issue-opened color-gray-light\" height=\"16\" version=\"1.1\" viewbox=\"0 0 16 16\" width=\"16\"><path d=\"M8 9.5a1.5 1.5 0 100-3 1.5 1.5 0 000 3z\"></path><path d=\"M8 0a8 8 0 100 16A8 8 0 008 0zM1.5 8a6.5 6.5 0 1113 0 6.5 6.5 0 01-13 0z\" fill-rule=\"evenodd\"></path></svg> Issues\n",
              "\n",
              "    \n",
              "</a></li>\n",
              "<li class=\"d-inline-flex\" data-view-component=\"true\">\n",
              "<a class=\"tabnav-tab f6 px-2 py-1\" data-ga-click=\"Explore, go to repository pulls, location:explore feed\" data-hydro-click='{\"event_type\":\"explore.click\",\"payload\":{\"click_context\":\"REPOSITORY_CARD\",\"click_target\":\"REPOSITORY_PULL_REQUESTS\",\"click_visual_representation\":\"PULL_REQUESTS_TAB\",\"actor_id\":null,\"record_id\":22887094,\"originating_url\":\"https://github.com/topics/machine-learning\",\"user_id\":null}}' data-hydro-click-hmac=\"7e2018d96533d65ff3b7423c9a301beaaf3b7ab780e49502dafbad36cf41b846\" data-view-component=\"true\" href=\"/tesseract-ocr/tesseract/pulls\" id=\"pull-requests-tab-22887094\">\n",
              "<svg aria-hidden=\"true\" class=\"octicon octicon-git-pull-request color-fg-muted\" data-view-component=\"true\" height=\"16\" version=\"1.1\" viewbox=\"0 0 16 16\" width=\"16\">\n",
              "<path d=\"M7.177 3.073L9.573.677A.25.25 0 0110 .854v4.792a.25.25 0 01-.427.177L7.177 3.427a.25.25 0 010-.354zM3.75 2.5a.75.75 0 100 1.5.75.75 0 000-1.5zm-2.25.75a2.25 2.25 0 113 2.122v5.256a2.251 2.251 0 11-1.5 0V5.372A2.25 2.25 0 011.5 3.25zM11 2.5h-1V4h1a1 1 0 011 1v5.628a2.251 2.251 0 101.5 0V5A2.5 2.5 0 0011 2.5zm1 10.25a.75.75 0 111.5 0 .75.75 0 01-1.5 0zM3.75 12a.75.75 0 100 1.5.75.75 0 000-1.5z\" fill-rule=\"evenodd\"></path>\n",
              "</svg> Pull requests\n",
              "\n",
              "    \n",
              "</a></li>\n",
              "</ul>\n",
              "</nav>\n",
              "<div class=\"color-bg-default rounded-bottom-1\">\n",
              "<div class=\"px-3 pt-3\">\n",
              "<p class=\"color-fg-muted mb-0\"></p><div>Tesseract Open Source OCR Engine (main repository)</div>\n",
              "</div>\n",
              "<div class=\"d-flex flex-wrap border-bottom color-border-muted px-3 pt-2 pb-2\">\n",
              "<a class=\"topic-tag topic-tag-link f6 mb-2\" data-ga-click=\"Explore, go to topic, location:explore feed repository\" data-hydro-click='{\"event_type\":\"explore.click\",\"payload\":{\"click_context\":\"REPOSITORY_CARD\",\"click_target\":\"TOPIC\",\"click_visual_representation\":\"TOPIC_TAG\",\"actor_id\":null,\"record_id\":2169,\"originating_url\":\"https://github.com/topics/machine-learning\",\"user_id\":null}}' data-hydro-click-hmac=\"2ae010ad1be3e78b1c6ad952e345c55d08969a9561b27d50e493f46d399ebfcb\" data-view-component=\"true\" href=\"/topics/machine-learning\" title=\"Topic: machine-learning\">\n",
              "              machine-learning\n",
              "</a> <a class=\"topic-tag topic-tag-link f6 mb-2\" data-ga-click=\"Explore, go to topic, location:explore feed repository\" data-hydro-click='{\"event_type\":\"explore.click\",\"payload\":{\"click_context\":\"REPOSITORY_CARD\",\"click_target\":\"TOPIC\",\"click_visual_representation\":\"TOPIC_TAG\",\"actor_id\":null,\"record_id\":7573,\"originating_url\":\"https://github.com/topics/machine-learning\",\"user_id\":null}}' data-hydro-click-hmac=\"0433e82aedb8be1925854ebb504f1cec679aa18581ca9304cea2aeeee5953bcc\" data-view-component=\"true\" href=\"/topics/ocr\" title=\"Topic: ocr\">\n",
              "              ocr\n",
              "</a> <a class=\"topic-tag topic-tag-link f6 mb-2\" data-ga-click=\"Explore, go to topic, location:explore feed repository\" data-hydro-click='{\"event_type\":\"explore.click\",\"payload\":{\"click_context\":\"REPOSITORY_CARD\",\"click_target\":\"TOPIC\",\"click_visual_representation\":\"TOPIC_TAG\",\"actor_id\":null,\"record_id\":21692,\"originating_url\":\"https://github.com/topics/machine-learning\",\"user_id\":null}}' data-hydro-click-hmac=\"5cf5e16da1d566fe587136d0ff7902f72a9db771edfc208250681c493b738469\" data-view-component=\"true\" href=\"/topics/tesseract\" title=\"Topic: tesseract\">\n",
              "              tesseract\n",
              "</a> <a class=\"topic-tag topic-tag-link f6 mb-2\" data-ga-click=\"Explore, go to topic, location:explore feed repository\" data-hydro-click='{\"event_type\":\"explore.click\",\"payload\":{\"click_context\":\"REPOSITORY_CARD\",\"click_target\":\"TOPIC\",\"click_visual_representation\":\"TOPIC_TAG\",\"actor_id\":null,\"record_id\":39557,\"originating_url\":\"https://github.com/topics/machine-learning\",\"user_id\":null}}' data-hydro-click-hmac=\"bea05b25027d09323812acf59f0e7c866c1af7745fc18ad0ac284f30832e7235\" data-view-component=\"true\" href=\"/topics/lstm\" title=\"Topic: lstm\">\n",
              "              lstm\n",
              "</a> <a class=\"topic-tag topic-tag-link f6 mb-2\" data-ga-click=\"Explore, go to topic, location:explore feed repository\" data-hydro-click='{\"event_type\":\"explore.click\",\"payload\":{\"click_context\":\"REPOSITORY_CARD\",\"click_target\":\"TOPIC\",\"click_visual_representation\":\"TOPIC_TAG\",\"actor_id\":null,\"record_id\":60505,\"originating_url\":\"https://github.com/topics/machine-learning\",\"user_id\":null}}' data-hydro-click-hmac=\"432db8dc97bd307285fcc806716c00e6aa0201edf6d823774945c9742ec8b440\" data-view-component=\"true\" href=\"/topics/tesseract-ocr\" title=\"Topic: tesseract-ocr\">\n",
              "              tesseract-ocr\n",
              "</a> <a class=\"topic-tag topic-tag-link f6 mb-2\" data-ga-click=\"Explore, go to topic, location:explore feed repository\" data-hydro-click='{\"event_type\":\"explore.click\",\"payload\":{\"click_context\":\"REPOSITORY_CARD\",\"click_target\":\"TOPIC\",\"click_visual_representation\":\"TOPIC_TAG\",\"actor_id\":null,\"record_id\":196454,\"originating_url\":\"https://github.com/topics/machine-learning\",\"user_id\":null}}' data-hydro-click-hmac=\"519eda089dceb603999dc257be730819fdc911dbcbe18c4764edbf59a221744b\" data-view-component=\"true\" href=\"/topics/hacktoberfest\" title=\"Topic: hacktoberfest\">\n",
              "              hacktoberfest\n",
              "</a> <a class=\"topic-tag topic-tag-link f6 mb-2\" data-ga-click=\"Explore, go to topic, location:explore feed repository\" data-hydro-click='{\"event_type\":\"explore.click\",\"payload\":{\"click_context\":\"REPOSITORY_CARD\",\"click_target\":\"TOPIC\",\"click_visual_representation\":\"TOPIC_TAG\",\"actor_id\":null,\"record_id\":297861,\"originating_url\":\"https://github.com/topics/machine-learning\",\"user_id\":null}}' data-hydro-click-hmac=\"d593f14eb50d76e87962e7b017bd3a827d64cf663cd6640258d0c4e570750eba\" data-view-component=\"true\" href=\"/topics/ocr-engine\" title=\"Topic: ocr-engine\">\n",
              "              ocr-engine\n",
              "</a> </div>\n",
              "<div class=\"p-3\">\n",
              "<ul class=\"d-flex f6 list-style-none color-fg-muted\">\n",
              "<li class=\"mr-4\">\n",
              "              Updated\n",
              "              <relative-time class=\"no-wrap\" datetime=\"2022-01-12T18:22:52Z\">Jan 12, 2022</relative-time>\n",
              "</li>\n",
              "<li class=\"mr-4\">\n",
              "<span class=\"f6 my-1 ml-0\">\n",
              "<span class=\"repo-language-color\" style=\"background-color: #f34b7d\"></span>\n",
              "<span itemprop=\"programmingLanguage\">C++</span>\n",
              "</span>\n",
              "</li>\n",
              "</ul>\n",
              "</div>\n",
              "</div>\n",
              "</article>"
            ]
          },
          "execution_count": 64,
          "metadata": {},
          "output_type": "execute_result"
        }
      ],
      "source": [
        "article_tags[4]"
      ]
    },
    {
      "cell_type": "code",
      "execution_count": null,
      "id": "94087a52",
      "metadata": {
        "id": "94087a52"
      },
      "outputs": [],
      "source": [
        "a_star_tag = article_tags[4].find('span', class_='Counter js-social-count')"
      ]
    },
    {
      "cell_type": "code",
      "execution_count": null,
      "id": "9d36d2f5",
      "metadata": {
        "id": "9d36d2f5",
        "outputId": "f2fe9071-2bb4-4bc8-f12a-f89af4d2cd73"
      },
      "outputs": [
        {
          "data": {
            "text/plain": [
              "<span aria-label=\"43557 users starred this repository\" class=\"Counter js-social-count\" data-pjax-replace=\"true\" data-plural-suffix=\"users starred this repository\" data-singular-suffix=\"user starred this repository\" data-view-component=\"true\" id=\"repo-stars-counter-star\" title=\"43,557\">43.6k</span>"
            ]
          },
          "execution_count": 66,
          "metadata": {},
          "output_type": "execute_result"
        }
      ],
      "source": [
        "a_star_tag"
      ]
    },
    {
      "cell_type": "markdown",
      "id": "344583fa",
      "metadata": {
        "id": "344583fa"
      },
      "source": [
        "Let's extract the star count from the `a` tag."
      ]
    },
    {
      "cell_type": "code",
      "execution_count": null,
      "id": "1e23d81a",
      "metadata": {
        "id": "1e23d81a",
        "outputId": "20467f53-3e86-4d9d-8c85-b13ad54c026d"
      },
      "outputs": [
        {
          "data": {
            "text/plain": [
              "'43.6k'"
            ]
          },
          "execution_count": 67,
          "metadata": {},
          "output_type": "execute_result"
        }
      ],
      "source": [
        "a_star_tag.text.strip()"
      ]
    },
    {
      "cell_type": "markdown",
      "id": "916a9120",
      "metadata": {
        "id": "916a9120"
      },
      "source": [
        "The `k` at the end indicates `1000`. Let's write a helper function which can convert strings like `40.3k` into the number `40,300`."
      ]
    },
    {
      "cell_type": "code",
      "execution_count": null,
      "id": "7dd35c6f",
      "metadata": {
        "id": "7dd35c6f"
      },
      "outputs": [],
      "source": [
        "def parse_star_count(stars_str):\n",
        "    stars_str = stars_str.strip()\n",
        "    if stars_str[-1] == 'k':\n",
        "        return int(float(stars_str[:-1]) * 1000)\n",
        "    else:\n",
        "        return int(stars_str)"
      ]
    },
    {
      "cell_type": "code",
      "execution_count": null,
      "id": "e7874b56",
      "metadata": {
        "id": "e7874b56",
        "outputId": "a29dd54f-38ec-4b43-e093-e603c90d1996"
      },
      "outputs": [
        {
          "data": {
            "text/plain": [
              "40300"
            ]
          },
          "execution_count": 69,
          "metadata": {},
          "output_type": "execute_result"
        }
      ],
      "source": [
        "parse_star_count('40.3k')"
      ]
    },
    {
      "cell_type": "code",
      "execution_count": null,
      "id": "0a041636",
      "metadata": {
        "id": "0a041636",
        "outputId": "a445aa07-43f0-4e47-8ba8-a1adc19a69d2"
      },
      "outputs": [
        {
          "data": {
            "text/plain": [
              "991"
            ]
          },
          "execution_count": 70,
          "metadata": {},
          "output_type": "execute_result"
        }
      ],
      "source": [
        "parse_star_count('991')"
      ]
    },
    {
      "cell_type": "markdown",
      "id": "970157ad",
      "metadata": {
        "id": "970157ad"
      },
      "source": [
        "We can now determine the star count as a number."
      ]
    },
    {
      "cell_type": "code",
      "execution_count": null,
      "id": "d672904e",
      "metadata": {
        "id": "d672904e"
      },
      "outputs": [],
      "source": [
        "star_count = parse_star_count(a_star_tag.text.strip())"
      ]
    },
    {
      "cell_type": "code",
      "execution_count": null,
      "id": "4fd6b0be",
      "metadata": {
        "id": "4fd6b0be",
        "outputId": "5b30d6bf-9036-475c-c8be-508cadf90017"
      },
      "outputs": [
        {
          "data": {
            "text/plain": [
              "43600"
            ]
          },
          "execution_count": 72,
          "metadata": {},
          "output_type": "execute_result"
        }
      ],
      "source": [
        "star_count"
      ]
    },
    {
      "cell_type": "markdown",
      "id": "2633b0cf",
      "metadata": {
        "id": "2633b0cf"
      },
      "source": [
        "Perfect, we've extracted all the information we were interested in."
      ]
    },
    {
      "cell_type": "code",
      "execution_count": null,
      "id": "b2f68441",
      "metadata": {
        "id": "b2f68441",
        "outputId": "93d63909-d053-4222-ea4d-5d4d78bf72ae"
      },
      "outputs": [
        {
          "name": "stdout",
          "output_type": "stream",
          "text": [
            "Repository name: tesseract\n",
            "Owner's username: tesseract-ocr\n",
            "Stars: 43600\n",
            "Repository URL: https://github.com/tesseract-ocr/tesseract\n"
          ]
        }
      ],
      "source": [
        "print('Repository name:', repo_name)\n",
        "print(\"Owner's username:\", username)\n",
        "print('Stars:', star_count)\n",
        "print('Repository URL:', repo_url)"
      ]
    },
    {
      "cell_type": "markdown",
      "id": "39107171",
      "metadata": {
        "id": "39107171"
      },
      "source": [
        "Let's extract the logic for parsing the required information from an article tag into a function.\n",
        "\n",
        "> **QUESTION**: Write a function `parse_repostory` that returns a dictionary containing the repository name, owner's username, number of stars, and repository URL by parsing a given `article` tag representing a repository."
      ]
    },
    {
      "cell_type": "code",
      "execution_count": null,
      "id": "76e90dd5",
      "metadata": {
        "id": "76e90dd5"
      },
      "outputs": [],
      "source": [
        "def parse_repository(article_tag):\n",
        "    # <a> tags containing username, repository name and URL\n",
        "    a_tags = article_tag.h3.find_all('a')\n",
        "    # Owner's username\n",
        "    username = a_tags[0].text.strip()\n",
        "    # Repository name\n",
        "    repo_name = a_tags[1].text.strip()\n",
        "    # Repository URL\n",
        "    repo_url = base_url + a_tags[1]['href'].strip()\n",
        "    # Star count\n",
        "    stars_tag = article_tag.find('span', class_='Counter js-social-count')\n",
        "    star_count = parse_star_count(stars_tag.text.strip())\n",
        "    # Return a dictionary\n",
        "    return {\n",
        "        'repository_name': repo_name,\n",
        "        'owner_username': username,        \n",
        "        'stars': star_count,\n",
        "        'repository_url': repo_url\n",
        "    }"
      ]
    },
    {
      "cell_type": "markdown",
      "id": "7b10d6c1",
      "metadata": {
        "id": "7b10d6c1"
      },
      "source": [
        "We can now use the function to parse any `article` tag."
      ]
    },
    {
      "cell_type": "code",
      "execution_count": null,
      "id": "cc20c396",
      "metadata": {
        "id": "cc20c396",
        "outputId": "ce8d6830-00fd-4d70-cafb-99a32b4432d9"
      },
      "outputs": [
        {
          "data": {
            "text/plain": [
              "{'repository_name': 'tensorflow',\n",
              " 'owner_username': 'tensorflow',\n",
              " 'stars': 162000,\n",
              " 'repository_url': 'https://github.com/tensorflow/tensorflow'}"
            ]
          },
          "execution_count": 75,
          "metadata": {},
          "output_type": "execute_result"
        }
      ],
      "source": [
        "parse_repository(article_tags[0])"
      ]
    },
    {
      "cell_type": "code",
      "execution_count": null,
      "id": "b7c2a55e",
      "metadata": {
        "id": "b7c2a55e",
        "outputId": "37379ddc-ced3-4364-dc42-c37b012a4425"
      },
      "outputs": [
        {
          "data": {
            "text/plain": [
              "{'repository_name': '100-Days-Of-ML-Code',\n",
              " 'owner_username': 'Avik-Jain',\n",
              " 'stars': 34200,\n",
              " 'repository_url': 'https://github.com/Avik-Jain/100-Days-Of-ML-Code'}"
            ]
          },
          "execution_count": 76,
          "metadata": {},
          "output_type": "execute_result"
        }
      ],
      "source": [
        "parse_repository(article_tags[10])"
      ]
    },
    {
      "cell_type": "markdown",
      "id": "834b84c7",
      "metadata": {
        "id": "834b84c7"
      },
      "source": [
        "We can use a list comprehension to parse all the `article` tags in one go."
      ]
    },
    {
      "cell_type": "code",
      "execution_count": null,
      "id": "6779d6bd",
      "metadata": {
        "id": "6779d6bd"
      },
      "outputs": [],
      "source": [
        "top_repositories = [parse_repository(tag) for tag in article_tags]"
      ]
    },
    {
      "cell_type": "code",
      "execution_count": null,
      "id": "4531eb1f",
      "metadata": {
        "id": "4531eb1f",
        "outputId": "9f6221d6-6f1e-4eca-ea6a-0beb5a63a8d4"
      },
      "outputs": [
        {
          "data": {
            "text/plain": [
              "30"
            ]
          },
          "execution_count": 78,
          "metadata": {},
          "output_type": "execute_result"
        }
      ],
      "source": [
        "len(top_repositories)"
      ]
    },
    {
      "cell_type": "code",
      "execution_count": null,
      "id": "92fbbf79",
      "metadata": {
        "id": "92fbbf79",
        "outputId": "fb7f9715-db9d-4ea1-b6d4-63b8e81d53a9"
      },
      "outputs": [
        {
          "data": {
            "text/plain": [
              "[{'repository_name': 'tensorflow',\n",
              "  'owner_username': 'tensorflow',\n",
              "  'stars': 162000,\n",
              "  'repository_url': 'https://github.com/tensorflow/tensorflow'},\n",
              " {'repository_name': 'keras',\n",
              "  'owner_username': 'keras-team',\n",
              "  'stars': 53700,\n",
              "  'repository_url': 'https://github.com/keras-team/keras'},\n",
              " {'repository_name': 'pytorch',\n",
              "  'owner_username': 'pytorch',\n",
              "  'stars': 53300,\n",
              "  'repository_url': 'https://github.com/pytorch/pytorch'},\n",
              " {'repository_name': 'scikit-learn',\n",
              "  'owner_username': 'scikit-learn',\n",
              "  'stars': 48500,\n",
              "  'repository_url': 'https://github.com/scikit-learn/scikit-learn'},\n",
              " {'repository_name': 'tesseract',\n",
              "  'owner_username': 'tesseract-ocr',\n",
              "  'stars': 43600,\n",
              "  'repository_url': 'https://github.com/tesseract-ocr/tesseract'}]"
            ]
          },
          "execution_count": 79,
          "metadata": {},
          "output_type": "execute_result"
        }
      ],
      "source": [
        "top_repositories[:5]"
      ]
    },
    {
      "cell_type": "markdown",
      "id": "103e09cf",
      "metadata": {
        "id": "103e09cf"
      },
      "source": [
        "\n",
        "\n",
        "> **QUESTION**: Write a function that takes a `BeautifulSoup` object representing a topic page and returns a list of dictionaries containing information about the top repositories for the topic.\n"
      ]
    },
    {
      "cell_type": "code",
      "execution_count": null,
      "id": "def6b0c3",
      "metadata": {
        "id": "def6b0c3"
      },
      "outputs": [],
      "source": [
        "def get_top_repositories(doc):\n",
        "    article_tags = doc.find_all('article', class_='border rounded color-shadow-small color-bg-subtle my-4')\n",
        "    topic_repos = [parse_repository(tag) for tag in article_tags]\n",
        "    return topic_repos"
      ]
    },
    {
      "cell_type": "markdown",
      "id": "7582a9a0",
      "metadata": {
        "id": "7582a9a0"
      },
      "source": [
        "We can now use the functions we've defined to get the top repositories for any topic."
      ]
    },
    {
      "cell_type": "code",
      "execution_count": null,
      "id": "f3f28278",
      "metadata": {
        "id": "f3f28278",
        "outputId": "c2a591df-d6da-49be-d3f3-3fce4dcd97ef"
      },
      "outputs": [
        {
          "data": {
            "text/plain": [
              "[{'repository_name': 'tensorflow',\n",
              "  'owner_username': 'tensorflow',\n",
              "  'stars': 162000,\n",
              "  'repository_url': 'https://github.com/tensorflow/tensorflow'},\n",
              " {'repository_name': 'keras',\n",
              "  'owner_username': 'keras-team',\n",
              "  'stars': 53700,\n",
              "  'repository_url': 'https://github.com/keras-team/keras'},\n",
              " {'repository_name': 'pytorch',\n",
              "  'owner_username': 'pytorch',\n",
              "  'stars': 53300,\n",
              "  'repository_url': 'https://github.com/pytorch/pytorch'},\n",
              " {'repository_name': 'scikit-learn',\n",
              "  'owner_username': 'scikit-learn',\n",
              "  'stars': 48500,\n",
              "  'repository_url': 'https://github.com/scikit-learn/scikit-learn'},\n",
              " {'repository_name': 'tesseract',\n",
              "  'owner_username': 'tesseract-ocr',\n",
              "  'stars': 43600,\n",
              "  'repository_url': 'https://github.com/tesseract-ocr/tesseract'}]"
            ]
          },
          "execution_count": 81,
          "metadata": {},
          "output_type": "execute_result"
        }
      ],
      "source": [
        "topic_page_ml = get_topic_page('machine-learning')\n",
        "top_repos_ml = get_top_repositories(topic_page_ml)\n",
        "top_repos_ml[:5]"
      ]
    },
    {
      "cell_type": "markdown",
      "id": "7e66ac22",
      "metadata": {
        "id": "7e66ac22"
      },
      "source": [
        "Here are the top repositories for the keyword `data-analysis`."
      ]
    },
    {
      "cell_type": "code",
      "execution_count": null,
      "id": "3bb3496c",
      "metadata": {
        "id": "3bb3496c",
        "outputId": "7b5b9226-7bca-43c2-f6e9-707b00c792d2"
      },
      "outputs": [
        {
          "data": {
            "text/plain": [
              "[{'repository_name': 'scikit-learn',\n",
              "  'owner_username': 'scikit-learn',\n",
              "  'stars': 48500,\n",
              "  'repository_url': 'https://github.com/scikit-learn/scikit-learn'},\n",
              " {'repository_name': 'superset',\n",
              "  'owner_username': 'apache',\n",
              "  'stars': 43500,\n",
              "  'repository_url': 'https://github.com/apache/superset'},\n",
              " {'repository_name': 'pandas',\n",
              "  'owner_username': 'pandas-dev',\n",
              "  'stars': 32299,\n",
              "  'repository_url': 'https://github.com/pandas-dev/pandas'},\n",
              " {'repository_name': 'metabase',\n",
              "  'owner_username': 'metabase',\n",
              "  'stars': 27100,\n",
              "  'repository_url': 'https://github.com/metabase/metabase'},\n",
              " {'repository_name': 'streamlit',\n",
              "  'owner_username': 'streamlit',\n",
              "  'stars': 17300,\n",
              "  'repository_url': 'https://github.com/streamlit/streamlit'}]"
            ]
          },
          "execution_count": 82,
          "metadata": {},
          "output_type": "execute_result"
        }
      ],
      "source": [
        "topic_page_da = get_topic_page('data-analysis')\n",
        "top_repos_da = get_top_repositories(topic_page_da)\n",
        "top_repos_da[:5]"
      ]
    },
    {
      "cell_type": "markdown",
      "id": "c2ced693",
      "metadata": {
        "id": "c2ced693"
      },
      "source": [
        "Here are the top repositories for the keyword `python`"
      ]
    },
    {
      "cell_type": "code",
      "execution_count": null,
      "id": "59d27141",
      "metadata": {
        "id": "59d27141",
        "outputId": "6de52ed0-c440-499a-da7b-aa29d38334b1"
      },
      "outputs": [
        {
          "data": {
            "text/plain": [
              "[{'repository_name': 'tensorflow',\n",
              "  'owner_username': 'tensorflow',\n",
              "  'stars': 162000,\n",
              "  'repository_url': 'https://github.com/tensorflow/tensorflow'},\n",
              " {'repository_name': 'system-design-primer',\n",
              "  'owner_username': 'donnemartin',\n",
              "  'stars': 158000,\n",
              "  'repository_url': 'https://github.com/donnemartin/system-design-primer'},\n",
              " {'repository_name': 'CS-Notes',\n",
              "  'owner_username': 'CyC2018',\n",
              "  'stars': 145000,\n",
              "  'repository_url': 'https://github.com/CyC2018/CS-Notes'},\n",
              " {'repository_name': 'Python',\n",
              "  'owner_username': 'TheAlgorithms',\n",
              "  'stars': 127000,\n",
              "  'repository_url': 'https://github.com/TheAlgorithms/Python'},\n",
              " {'repository_name': 'awesome-python',\n",
              "  'owner_username': 'vinta',\n",
              "  'stars': 113000,\n",
              "  'repository_url': 'https://github.com/vinta/awesome-python'}]"
            ]
          },
          "execution_count": 83,
          "metadata": {},
          "output_type": "execute_result"
        }
      ],
      "source": [
        "get_top_repositories(get_topic_page('python'))[:5]"
      ]
    },
    {
      "cell_type": "markdown",
      "id": "71ea3c78",
      "metadata": {
        "id": "71ea3c78"
      },
      "source": [
        "Do you see the power of defining functions and using libraries? With just one line of code, we can scrape GitHub and find the top repositories for any topic."
      ]
    },
    {
      "cell_type": "markdown",
      "id": "77b1b9b1",
      "metadata": {
        "id": "77b1b9b1"
      },
      "source": [
        "Let's save our work before continuing."
      ]
    },
    {
      "cell_type": "code",
      "execution_count": null,
      "id": "6cc0bf32",
      "metadata": {
        "id": "6cc0bf32",
        "outputId": "0c05d9c5-b7e9-4c7e-d007-81d0952ea321"
      },
      "outputs": [
        {
          "data": {
            "application/javascript": [
              "window.require && require([\"base/js/namespace\"],function(Jupyter){Jupyter.notebook.save_checkpoint()})"
            ],
            "text/plain": [
              "<IPython.core.display.Javascript object>"
            ]
          },
          "metadata": {},
          "output_type": "display_data"
        },
        {
          "name": "stdout",
          "output_type": "stream",
          "text": [
            "[jovian] Updating notebook \"aakashns/python-web-scraping-and-rest-api\" on https://jovian.ai\u001b[0m\n",
            "[jovian] Committed successfully! https://jovian.ai/aakashns/python-web-scraping-and-rest-api\u001b[0m\n"
          ]
        },
        {
          "data": {
            "text/plain": [
              "'https://jovian.ai/aakashns/python-web-scraping-and-rest-api'"
            ]
          },
          "execution_count": 84,
          "metadata": {},
          "output_type": "execute_result"
        }
      ],
      "source": [
        "jovian.commit()"
      ]
    },
    {
      "cell_type": "markdown",
      "id": "1d9b6a99",
      "metadata": {
        "id": "1d9b6a99"
      },
      "source": [
        "## Writing information to CSV files\n",
        "\n",
        "Let's create a helper function which takes a list of dictionaries and writes them to a CSV file.\n",
        "\n",
        "The input to our function will be a list of dictionary of the form:\n",
        "\n",
        "```\n",
        "[\n",
        "  {'key1': 'abc', 'key2': 'def', 'key3': 'ghi'},\n",
        "  {'key1': 'jkl', 'key2': 'mno', 'key3': 'pqr'},\n",
        "  {'key1': 'stu', 'key2': 'vwx', 'key3': 'yza'}\n",
        "  ...\n",
        "]\n",
        "```\n",
        "\n",
        "The function will create a file with a given name containing the following data:\n",
        "\n",
        "```\n",
        "key1,key2,key3\n",
        "abc,def,ghi\n",
        "jkl,mno,pqr\n",
        "stu,vwx,yza\n",
        "\n",
        "```"
      ]
    },
    {
      "cell_type": "code",
      "execution_count": null,
      "id": "02246120",
      "metadata": {
        "id": "02246120"
      },
      "outputs": [],
      "source": [
        "def write_csv(items, path):\n",
        "    # Open the file in write mode\n",
        "    with open(path, 'w') as f:\n",
        "        # Return if there's nothing to write\n",
        "        if len(items) == 0:\n",
        "            return\n",
        "        \n",
        "        # Write the headers in the first line\n",
        "        headers = list(items[0].keys())\n",
        "        f.write(','.join(headers) + '\\n')\n",
        "        \n",
        "        # Write one item per line\n",
        "        for item in items:\n",
        "            values = []\n",
        "            for header in headers:\n",
        "                values.append(str(item.get(header, \"\")))\n",
        "            f.write(','.join(values) + \"\\n\")"
      ]
    },
    {
      "cell_type": "markdown",
      "id": "42605109",
      "metadata": {
        "id": "42605109"
      },
      "source": [
        "Let's write the data stored in `top_repos_ml` into a CSV file."
      ]
    },
    {
      "cell_type": "code",
      "execution_count": null,
      "id": "48f8f806",
      "metadata": {
        "id": "48f8f806",
        "outputId": "363be2bc-7e30-4d99-c496-5e202d045442"
      },
      "outputs": [
        {
          "data": {
            "text/plain": [
              "30"
            ]
          },
          "execution_count": 86,
          "metadata": {},
          "output_type": "execute_result"
        }
      ],
      "source": [
        "len(top_repos_ml)"
      ]
    },
    {
      "cell_type": "code",
      "execution_count": null,
      "id": "4dbb192e",
      "metadata": {
        "id": "4dbb192e",
        "outputId": "ec65e53f-5e83-4e96-8aa9-47c52c5fefa6"
      },
      "outputs": [
        {
          "data": {
            "text/plain": [
              "[{'repository_name': 'tensorflow',\n",
              "  'owner_username': 'tensorflow',\n",
              "  'stars': 162000,\n",
              "  'repository_url': 'https://github.com/tensorflow/tensorflow'},\n",
              " {'repository_name': 'keras',\n",
              "  'owner_username': 'keras-team',\n",
              "  'stars': 53700,\n",
              "  'repository_url': 'https://github.com/keras-team/keras'},\n",
              " {'repository_name': 'pytorch',\n",
              "  'owner_username': 'pytorch',\n",
              "  'stars': 53300,\n",
              "  'repository_url': 'https://github.com/pytorch/pytorch'}]"
            ]
          },
          "execution_count": 87,
          "metadata": {},
          "output_type": "execute_result"
        }
      ],
      "source": [
        "top_repos_ml[:3]"
      ]
    },
    {
      "cell_type": "code",
      "execution_count": null,
      "id": "222f9494",
      "metadata": {
        "id": "222f9494"
      },
      "outputs": [],
      "source": [
        "write_csv(top_repositories, 'machine-learning.csv')"
      ]
    },
    {
      "cell_type": "markdown",
      "id": "0e124a61",
      "metadata": {
        "id": "0e124a61"
      },
      "source": [
        "We can now read the file and inspect its contents. The contents of the file can also be inspected using the \"File > Open\" menu option within Jupyter."
      ]
    },
    {
      "cell_type": "code",
      "execution_count": null,
      "id": "ebf303f2",
      "metadata": {
        "id": "ebf303f2",
        "outputId": "73f96ea8-4e84-4a96-8005-31a593059814"
      },
      "outputs": [
        {
          "name": "stdout",
          "output_type": "stream",
          "text": [
            "repository_name,owner_username,stars,repository_url\n",
            "tensorflow,tensorflow,162000,https://github.com/tensorflow/tensorflow\n",
            "keras,keras-team,53700,https://github.com/keras-team/keras\n",
            "pytorch,pytorch,53300,https://github.com/pytorch/pytorch\n",
            "scikit-learn,scikit-learn,48500,https://github.com/scikit-learn/scikit-learn\n",
            "tesseract,tesseract-ocr,43600,https://github.com/tesseract-ocr/tesseract\n",
            "face_recognition,ageitgey,42800,https://github.com/ageitgey/face_recognition\n",
            "TensorFlow-Examples,aymericdamien,41600,https://github.com/aymericdamien/TensorFlow-Examples\n",
            "faceswap,deepfakes,40100,https://github.com/deepfakes/faceswap\n",
            "julia,JuliaLang,37800,https://github.com/JuliaLang/julia\n",
            "awesome-scalability,binhnguyennus,37000,https://github.com/binhnguyennus/awesome-scalability\n",
            "100-Days-Of-ML-Code,Avik-Jain,34200,https://github.com/Avik-Jain/100-Days-Of-ML-Code\n",
            "caffe,BVLC,32200,https://github.com/BVLC/caffe\n",
            "DeepFaceLab,iperov,30700,https://github.com/iperov/DeepFaceLab\n",
            "d2l-zh,d2l-ai,29700,https://github.com/d2l-ai/d2l-zh\n",
            "MadeWithML,GokuMohandas,29400,https://github.com/GokuMohandas/MadeWithML\n",
            "ML-For-Beginners,microsoft,28600,https://github.com/microsoft/ML-For-Beginners\n",
            "machine-learning-for-software-engineers,ZuzooVn,25600,https://github.com/ZuzooVn/machine-learning-for-software-engineers\n",
            "cs-video-courses,Developer-Y,25500,https://github.com/Developer-Y/cs-video-courses\n",
            "handson-ml,ageron,23900,https://github.com/ageron/handson-ml\n",
            "Coursera-ML-AndrewNg-Notes,fengdu78,23800,https://github.com/fengdu78/Coursera-ML-AndrewNg-Notes\n",
            "awesome-deep-learning-papers,terryum,23500,https://github.com/terryum/awesome-deep-learning-papers\n",
            "openpose,CMU-Perceptual-Computing-Lab,23100,https://github.com/CMU-Perceptual-Computing-Lab/openpose\n",
            "data-science-ipython-notebooks,donnemartin,22300,https://github.com/donnemartin/data-science-ipython-notebooks\n",
            "spaCy,explosion,22200,https://github.com/explosion/spaCy\n",
            "xgboost,dmlc,22100,https://github.com/dmlc/xgboost\n",
            "fastai,fastai,21800,https://github.com/fastai/fastai\n",
            "google-research,google-research,21400,https://github.com/google-research/google-research\n",
            "yolov5,ultralytics,20900,https://github.com/ultralytics/yolov5\n",
            "ML-From-Scratch,eriklindernoren,20700,https://github.com/eriklindernoren/ML-From-Scratch\n",
            "NLP-progress,sebastianruder,19600,https://github.com/sebastianruder/NLP-progress\n",
            "\n"
          ]
        }
      ],
      "source": [
        "with open('machine-learning.csv', 'r') as f:\n",
        "    print(f.read())"
      ]
    },
    {
      "cell_type": "markdown",
      "id": "5a97bb99",
      "metadata": {
        "id": "5a97bb99"
      },
      "source": [
        "Perfect! We've created a CSV containing the information about the top GitHub repositories for the topic `machine-learning`. We can now put together everything we've done so far to solve the original problem.\n",
        "\n",
        "> **QUESTION**: Write a Python function that creates a CSV file (comma-separated values) containing details about the 25 top GitHub repositories for any given topic. The top repositories for the topic `machine-learning` can be found on this page: [https://github.com/topics/machine-learning](https://github.com/topics/machine-learning). The output CSV should contain these details: repository name, owner's username, no. of stars, repository URL. \n",
        "\n"
      ]
    },
    {
      "cell_type": "code",
      "execution_count": null,
      "id": "7beb924a",
      "metadata": {
        "id": "7beb924a"
      },
      "outputs": [],
      "source": [
        "import requests\n",
        "from bs4 import BeautifulSoup\n",
        "base_url = 'https://github.com'\n",
        "\n",
        "def scrape_topic_repositories(topic, path=None):\n",
        "    \"\"\"Get the top repositories for a topic and write them to a CSV file\"\"\"\n",
        "    if path is None:\n",
        "        path = topic + '.csv'\n",
        "    topic_page_doc = get_topic_page(topic)\n",
        "    topic_repositories = get_top_repositories(topic_page_doc)\n",
        "    write_csv(topic_repositories, path)\n",
        "    print('Top repositories for topic \"{}\" written to file \"{}\"'.format(topic, path))\n",
        "    return path\n",
        "\n",
        "def get_top_repositories(doc):\n",
        "    \"\"\"Parse the top repositories for a topic given a Beautiful Soup document\"\"\"\n",
        "    article_tags = doc.find_all('article', class_='border rounded color-shadow-small color-bg-subtle my-4')\n",
        "    topic_repos = [parse_repository(tag) for tag in article_tags]\n",
        "    return topic_repos\n",
        "\n",
        "def get_topic_page(topic):\n",
        "    \"\"\"Get the web page containing the top repositories for a topic as a Beautiful Soup document\"\"\"\n",
        "    topic_repos_url = 'https://github.com/topics/' + topic\n",
        "    response = requests.get(topic_repos_url)\n",
        "    if response.status_code != 200:\n",
        "        print('Status code:', response.status_code)\n",
        "        raise Exception('Failed to fetch web page ' + topic_repos_url)\n",
        "    return BeautifulSoup(response.text)    \n",
        "\n",
        "def parse_repository(article_tag):\n",
        "    \"\"\"Parse information about a repository from an <article> tag\"\"\"\n",
        "    a_tags = article_tag.h3.find_all('a')\n",
        "    username = a_tags[0].text.strip()\n",
        "    repo_name = a_tags[1].text.strip()\n",
        "    repo_url = base_url + a_tags[1]['href'].strip()\n",
        "    stars_tag = article_tag.find('span', class_='Counter js-social-count')\n",
        "    star_count = parse_star_count(stars_tag.text.strip())\n",
        "    return {'repository_name': repo_name, 'owner_username': username, 'stars': star_count, 'repository_url': repo_url}\n",
        "\n",
        "def parse_star_count(stars_str):\n",
        "    \"\"\"Parse strings like 40.3k and get the no. of stars as a number\"\"\"\n",
        "    stars_str = stars_str.strip()\n",
        "    return int(float(stars_str[:-1]) * 1000) if stars_str[-1] == 'k' else int(stars_str)\n",
        "\n",
        "def write_csv(items, path):\n",
        "    \"\"\"Write a list of dictionaries to a CSV file\"\"\"\n",
        "    with open(path, 'w') as f:\n",
        "        if len(items) == 0:\n",
        "            return\n",
        "        headers = list(items[0].keys())\n",
        "        f.write(','.join(headers) + '\\n')\n",
        "        for item in items:\n",
        "            values = []\n",
        "            for header in headers:\n",
        "                values.append(str(item.get(header, \"\")))\n",
        "            f.write(','.join(values) + \"\\n\")"
      ]
    },
    {
      "cell_type": "markdown",
      "id": "83664573",
      "metadata": {
        "id": "83664573"
      },
      "source": [
        "The entire code of this problem is only about 50 lines long. Isn't that neat? \n",
        "\n",
        "Put another way, if you understand these 50 lines of code, you know pretty much all there is to know about web scraping. Use the interactive nature of Jupyter to experiment with each function and add print statements wherever required to display intermediate output. Reading and understanding code is an essential skill for programmers."
      ]
    },
    {
      "cell_type": "code",
      "execution_count": null,
      "id": "9207539b",
      "metadata": {
        "id": "9207539b"
      },
      "outputs": [],
      "source": []
    },
    {
      "cell_type": "code",
      "execution_count": null,
      "id": "a79b50d0",
      "metadata": {
        "id": "a79b50d0"
      },
      "outputs": [],
      "source": []
    },
    {
      "cell_type": "code",
      "execution_count": null,
      "id": "59161d29",
      "metadata": {
        "id": "59161d29",
        "outputId": "031dd957-18b6-4e96-8084-7c760b859914"
      },
      "outputs": [
        {
          "name": "stdout",
          "output_type": "stream",
          "text": [
            "Top repositories for topic \"machine-learning\" written to file \"machine-learning.csv\"\n"
          ]
        },
        {
          "data": {
            "text/plain": [
              "'machine-learning.csv'"
            ]
          },
          "execution_count": 91,
          "metadata": {},
          "output_type": "execute_result"
        }
      ],
      "source": [
        "scrape_topic_repositories('machine-learning')"
      ]
    },
    {
      "cell_type": "markdown",
      "id": "f329a2bf",
      "metadata": {
        "id": "f329a2bf"
      },
      "source": [
        "Now that we have a CSV file, we can use the `pandas` library to view its contents."
      ]
    },
    {
      "cell_type": "code",
      "execution_count": null,
      "id": "92d27375",
      "metadata": {
        "id": "92d27375"
      },
      "outputs": [],
      "source": [
        "import pandas as pd"
      ]
    },
    {
      "cell_type": "code",
      "execution_count": null,
      "id": "88c834d6",
      "metadata": {
        "id": "88c834d6",
        "outputId": "64996844-9946-49ca-9d93-a2b41c41dc85"
      },
      "outputs": [
        {
          "data": {
            "text/html": [
              "<div>\n",
              "<style scoped>\n",
              "    .dataframe tbody tr th:only-of-type {\n",
              "        vertical-align: middle;\n",
              "    }\n",
              "\n",
              "    .dataframe tbody tr th {\n",
              "        vertical-align: top;\n",
              "    }\n",
              "\n",
              "    .dataframe thead th {\n",
              "        text-align: right;\n",
              "    }\n",
              "</style>\n",
              "<table border=\"1\" class=\"dataframe\">\n",
              "  <thead>\n",
              "    <tr style=\"text-align: right;\">\n",
              "      <th></th>\n",
              "      <th>repository_name</th>\n",
              "      <th>owner_username</th>\n",
              "      <th>stars</th>\n",
              "      <th>repository_url</th>\n",
              "    </tr>\n",
              "  </thead>\n",
              "  <tbody>\n",
              "    <tr>\n",
              "      <th>0</th>\n",
              "      <td>tensorflow</td>\n",
              "      <td>tensorflow</td>\n",
              "      <td>162000</td>\n",
              "      <td>https://gitub.com/tensorflow/tensorflow</td>\n",
              "    </tr>\n",
              "    <tr>\n",
              "      <th>1</th>\n",
              "      <td>keras</td>\n",
              "      <td>keras-team</td>\n",
              "      <td>53700</td>\n",
              "      <td>https://gitub.com/keras-team/keras</td>\n",
              "    </tr>\n",
              "    <tr>\n",
              "      <th>2</th>\n",
              "      <td>pytorch</td>\n",
              "      <td>pytorch</td>\n",
              "      <td>53300</td>\n",
              "      <td>https://gitub.com/pytorch/pytorch</td>\n",
              "    </tr>\n",
              "    <tr>\n",
              "      <th>3</th>\n",
              "      <td>scikit-learn</td>\n",
              "      <td>scikit-learn</td>\n",
              "      <td>48500</td>\n",
              "      <td>https://gitub.com/scikit-learn/scikit-learn</td>\n",
              "    </tr>\n",
              "    <tr>\n",
              "      <th>4</th>\n",
              "      <td>tesseract</td>\n",
              "      <td>tesseract-ocr</td>\n",
              "      <td>43600</td>\n",
              "      <td>https://gitub.com/tesseract-ocr/tesseract</td>\n",
              "    </tr>\n",
              "    <tr>\n",
              "      <th>5</th>\n",
              "      <td>face_recognition</td>\n",
              "      <td>ageitgey</td>\n",
              "      <td>42800</td>\n",
              "      <td>https://gitub.com/ageitgey/face_recognition</td>\n",
              "    </tr>\n",
              "    <tr>\n",
              "      <th>6</th>\n",
              "      <td>TensorFlow-Examples</td>\n",
              "      <td>aymericdamien</td>\n",
              "      <td>41600</td>\n",
              "      <td>https://gitub.com/aymericdamien/TensorFlow-Exa...</td>\n",
              "    </tr>\n",
              "    <tr>\n",
              "      <th>7</th>\n",
              "      <td>faceswap</td>\n",
              "      <td>deepfakes</td>\n",
              "      <td>40100</td>\n",
              "      <td>https://gitub.com/deepfakes/faceswap</td>\n",
              "    </tr>\n",
              "    <tr>\n",
              "      <th>8</th>\n",
              "      <td>julia</td>\n",
              "      <td>JuliaLang</td>\n",
              "      <td>37800</td>\n",
              "      <td>https://gitub.com/JuliaLang/julia</td>\n",
              "    </tr>\n",
              "    <tr>\n",
              "      <th>9</th>\n",
              "      <td>awesome-scalability</td>\n",
              "      <td>binhnguyennus</td>\n",
              "      <td>37000</td>\n",
              "      <td>https://gitub.com/binhnguyennus/awesome-scalab...</td>\n",
              "    </tr>\n",
              "    <tr>\n",
              "      <th>10</th>\n",
              "      <td>100-Days-Of-ML-Code</td>\n",
              "      <td>Avik-Jain</td>\n",
              "      <td>34200</td>\n",
              "      <td>https://gitub.com/Avik-Jain/100-Days-Of-ML-Code</td>\n",
              "    </tr>\n",
              "    <tr>\n",
              "      <th>11</th>\n",
              "      <td>caffe</td>\n",
              "      <td>BVLC</td>\n",
              "      <td>32200</td>\n",
              "      <td>https://gitub.com/BVLC/caffe</td>\n",
              "    </tr>\n",
              "    <tr>\n",
              "      <th>12</th>\n",
              "      <td>DeepFaceLab</td>\n",
              "      <td>iperov</td>\n",
              "      <td>30700</td>\n",
              "      <td>https://gitub.com/iperov/DeepFaceLab</td>\n",
              "    </tr>\n",
              "    <tr>\n",
              "      <th>13</th>\n",
              "      <td>d2l-zh</td>\n",
              "      <td>d2l-ai</td>\n",
              "      <td>29700</td>\n",
              "      <td>https://gitub.com/d2l-ai/d2l-zh</td>\n",
              "    </tr>\n",
              "    <tr>\n",
              "      <th>14</th>\n",
              "      <td>MadeWithML</td>\n",
              "      <td>GokuMohandas</td>\n",
              "      <td>29400</td>\n",
              "      <td>https://gitub.com/GokuMohandas/MadeWithML</td>\n",
              "    </tr>\n",
              "    <tr>\n",
              "      <th>15</th>\n",
              "      <td>ML-For-Beginners</td>\n",
              "      <td>microsoft</td>\n",
              "      <td>28600</td>\n",
              "      <td>https://gitub.com/microsoft/ML-For-Beginners</td>\n",
              "    </tr>\n",
              "    <tr>\n",
              "      <th>16</th>\n",
              "      <td>machine-learning-for-software-engineers</td>\n",
              "      <td>ZuzooVn</td>\n",
              "      <td>25600</td>\n",
              "      <td>https://gitub.com/ZuzooVn/machine-learning-for...</td>\n",
              "    </tr>\n",
              "    <tr>\n",
              "      <th>17</th>\n",
              "      <td>cs-video-courses</td>\n",
              "      <td>Developer-Y</td>\n",
              "      <td>25500</td>\n",
              "      <td>https://gitub.com/Developer-Y/cs-video-courses</td>\n",
              "    </tr>\n",
              "    <tr>\n",
              "      <th>18</th>\n",
              "      <td>handson-ml</td>\n",
              "      <td>ageron</td>\n",
              "      <td>23900</td>\n",
              "      <td>https://gitub.com/ageron/handson-ml</td>\n",
              "    </tr>\n",
              "    <tr>\n",
              "      <th>19</th>\n",
              "      <td>Coursera-ML-AndrewNg-Notes</td>\n",
              "      <td>fengdu78</td>\n",
              "      <td>23800</td>\n",
              "      <td>https://gitub.com/fengdu78/Coursera-ML-AndrewN...</td>\n",
              "    </tr>\n",
              "    <tr>\n",
              "      <th>20</th>\n",
              "      <td>awesome-deep-learning-papers</td>\n",
              "      <td>terryum</td>\n",
              "      <td>23500</td>\n",
              "      <td>https://gitub.com/terryum/awesome-deep-learnin...</td>\n",
              "    </tr>\n",
              "    <tr>\n",
              "      <th>21</th>\n",
              "      <td>openpose</td>\n",
              "      <td>CMU-Perceptual-Computing-Lab</td>\n",
              "      <td>23100</td>\n",
              "      <td>https://gitub.com/CMU-Perceptual-Computing-Lab...</td>\n",
              "    </tr>\n",
              "    <tr>\n",
              "      <th>22</th>\n",
              "      <td>data-science-ipython-notebooks</td>\n",
              "      <td>donnemartin</td>\n",
              "      <td>22300</td>\n",
              "      <td>https://gitub.com/donnemartin/data-science-ipy...</td>\n",
              "    </tr>\n",
              "    <tr>\n",
              "      <th>23</th>\n",
              "      <td>spaCy</td>\n",
              "      <td>explosion</td>\n",
              "      <td>22200</td>\n",
              "      <td>https://gitub.com/explosion/spaCy</td>\n",
              "    </tr>\n",
              "    <tr>\n",
              "      <th>24</th>\n",
              "      <td>xgboost</td>\n",
              "      <td>dmlc</td>\n",
              "      <td>22100</td>\n",
              "      <td>https://gitub.com/dmlc/xgboost</td>\n",
              "    </tr>\n",
              "    <tr>\n",
              "      <th>25</th>\n",
              "      <td>fastai</td>\n",
              "      <td>fastai</td>\n",
              "      <td>21800</td>\n",
              "      <td>https://gitub.com/fastai/fastai</td>\n",
              "    </tr>\n",
              "    <tr>\n",
              "      <th>26</th>\n",
              "      <td>google-research</td>\n",
              "      <td>google-research</td>\n",
              "      <td>21400</td>\n",
              "      <td>https://gitub.com/google-research/google-research</td>\n",
              "    </tr>\n",
              "    <tr>\n",
              "      <th>27</th>\n",
              "      <td>yolov5</td>\n",
              "      <td>ultralytics</td>\n",
              "      <td>20900</td>\n",
              "      <td>https://gitub.com/ultralytics/yolov5</td>\n",
              "    </tr>\n",
              "    <tr>\n",
              "      <th>28</th>\n",
              "      <td>ML-From-Scratch</td>\n",
              "      <td>eriklindernoren</td>\n",
              "      <td>20700</td>\n",
              "      <td>https://gitub.com/eriklindernoren/ML-From-Scratch</td>\n",
              "    </tr>\n",
              "    <tr>\n",
              "      <th>29</th>\n",
              "      <td>NLP-progress</td>\n",
              "      <td>sebastianruder</td>\n",
              "      <td>19600</td>\n",
              "      <td>https://gitub.com/sebastianruder/NLP-progress</td>\n",
              "    </tr>\n",
              "  </tbody>\n",
              "</table>\n",
              "</div>"
            ],
            "text/plain": [
              "                            repository_name                owner_username  \\\n",
              "0                                tensorflow                    tensorflow   \n",
              "1                                     keras                    keras-team   \n",
              "2                                   pytorch                       pytorch   \n",
              "3                              scikit-learn                  scikit-learn   \n",
              "4                                 tesseract                 tesseract-ocr   \n",
              "5                          face_recognition                      ageitgey   \n",
              "6                       TensorFlow-Examples                 aymericdamien   \n",
              "7                                  faceswap                     deepfakes   \n",
              "8                                     julia                     JuliaLang   \n",
              "9                       awesome-scalability                 binhnguyennus   \n",
              "10                      100-Days-Of-ML-Code                     Avik-Jain   \n",
              "11                                    caffe                          BVLC   \n",
              "12                              DeepFaceLab                        iperov   \n",
              "13                                   d2l-zh                        d2l-ai   \n",
              "14                               MadeWithML                  GokuMohandas   \n",
              "15                         ML-For-Beginners                     microsoft   \n",
              "16  machine-learning-for-software-engineers                       ZuzooVn   \n",
              "17                         cs-video-courses                   Developer-Y   \n",
              "18                               handson-ml                        ageron   \n",
              "19               Coursera-ML-AndrewNg-Notes                      fengdu78   \n",
              "20             awesome-deep-learning-papers                       terryum   \n",
              "21                                 openpose  CMU-Perceptual-Computing-Lab   \n",
              "22           data-science-ipython-notebooks                   donnemartin   \n",
              "23                                    spaCy                     explosion   \n",
              "24                                  xgboost                          dmlc   \n",
              "25                                   fastai                        fastai   \n",
              "26                          google-research               google-research   \n",
              "27                                   yolov5                   ultralytics   \n",
              "28                          ML-From-Scratch               eriklindernoren   \n",
              "29                             NLP-progress                sebastianruder   \n",
              "\n",
              "     stars                                     repository_url  \n",
              "0   162000            https://gitub.com/tensorflow/tensorflow  \n",
              "1    53700                 https://gitub.com/keras-team/keras  \n",
              "2    53300                  https://gitub.com/pytorch/pytorch  \n",
              "3    48500        https://gitub.com/scikit-learn/scikit-learn  \n",
              "4    43600          https://gitub.com/tesseract-ocr/tesseract  \n",
              "5    42800        https://gitub.com/ageitgey/face_recognition  \n",
              "6    41600  https://gitub.com/aymericdamien/TensorFlow-Exa...  \n",
              "7    40100               https://gitub.com/deepfakes/faceswap  \n",
              "8    37800                  https://gitub.com/JuliaLang/julia  \n",
              "9    37000  https://gitub.com/binhnguyennus/awesome-scalab...  \n",
              "10   34200    https://gitub.com/Avik-Jain/100-Days-Of-ML-Code  \n",
              "11   32200                       https://gitub.com/BVLC/caffe  \n",
              "12   30700               https://gitub.com/iperov/DeepFaceLab  \n",
              "13   29700                    https://gitub.com/d2l-ai/d2l-zh  \n",
              "14   29400          https://gitub.com/GokuMohandas/MadeWithML  \n",
              "15   28600       https://gitub.com/microsoft/ML-For-Beginners  \n",
              "16   25600  https://gitub.com/ZuzooVn/machine-learning-for...  \n",
              "17   25500     https://gitub.com/Developer-Y/cs-video-courses  \n",
              "18   23900                https://gitub.com/ageron/handson-ml  \n",
              "19   23800  https://gitub.com/fengdu78/Coursera-ML-AndrewN...  \n",
              "20   23500  https://gitub.com/terryum/awesome-deep-learnin...  \n",
              "21   23100  https://gitub.com/CMU-Perceptual-Computing-Lab...  \n",
              "22   22300  https://gitub.com/donnemartin/data-science-ipy...  \n",
              "23   22200                  https://gitub.com/explosion/spaCy  \n",
              "24   22100                     https://gitub.com/dmlc/xgboost  \n",
              "25   21800                    https://gitub.com/fastai/fastai  \n",
              "26   21400  https://gitub.com/google-research/google-research  \n",
              "27   20900               https://gitub.com/ultralytics/yolov5  \n",
              "28   20700  https://gitub.com/eriklindernoren/ML-From-Scratch  \n",
              "29   19600      https://gitub.com/sebastianruder/NLP-progress  "
            ]
          },
          "execution_count": 93,
          "metadata": {},
          "output_type": "execute_result"
        }
      ],
      "source": [
        "pd.read_csv('machine-learning.csv')"
      ]
    },
    {
      "cell_type": "code",
      "execution_count": null,
      "id": "20b8c243",
      "metadata": {
        "id": "20b8c243",
        "outputId": "e64be7e8-c131-4371-9d1d-a4c672fada4b"
      },
      "outputs": [
        {
          "name": "stdout",
          "output_type": "stream",
          "text": [
            "Top repositories for topic \"data-analysis\" written to file \"data-analysis.csv\"\n"
          ]
        },
        {
          "data": {
            "text/plain": [
              "'data-analysis.csv'"
            ]
          },
          "execution_count": 94,
          "metadata": {},
          "output_type": "execute_result"
        }
      ],
      "source": [
        "scrape_topic_repositories('data-analysis')"
      ]
    },
    {
      "cell_type": "code",
      "execution_count": null,
      "id": "f73a4508",
      "metadata": {
        "scrolled": false,
        "id": "f73a4508",
        "outputId": "7665a406-5fbb-4372-c141-4f772dbfc22b"
      },
      "outputs": [
        {
          "data": {
            "text/html": [
              "<div>\n",
              "<style scoped>\n",
              "    .dataframe tbody tr th:only-of-type {\n",
              "        vertical-align: middle;\n",
              "    }\n",
              "\n",
              "    .dataframe tbody tr th {\n",
              "        vertical-align: top;\n",
              "    }\n",
              "\n",
              "    .dataframe thead th {\n",
              "        text-align: right;\n",
              "    }\n",
              "</style>\n",
              "<table border=\"1\" class=\"dataframe\">\n",
              "  <thead>\n",
              "    <tr style=\"text-align: right;\">\n",
              "      <th></th>\n",
              "      <th>repository_name</th>\n",
              "      <th>owner_username</th>\n",
              "      <th>stars</th>\n",
              "      <th>repository_url</th>\n",
              "    </tr>\n",
              "  </thead>\n",
              "  <tbody>\n",
              "    <tr>\n",
              "      <th>0</th>\n",
              "      <td>scikit-learn</td>\n",
              "      <td>scikit-learn</td>\n",
              "      <td>48500</td>\n",
              "      <td>https://gitub.com/scikit-learn/scikit-learn</td>\n",
              "    </tr>\n",
              "    <tr>\n",
              "      <th>1</th>\n",
              "      <td>superset</td>\n",
              "      <td>apache</td>\n",
              "      <td>43500</td>\n",
              "      <td>https://gitub.com/apache/superset</td>\n",
              "    </tr>\n",
              "    <tr>\n",
              "      <th>2</th>\n",
              "      <td>pandas</td>\n",
              "      <td>pandas-dev</td>\n",
              "      <td>32299</td>\n",
              "      <td>https://gitub.com/pandas-dev/pandas</td>\n",
              "    </tr>\n",
              "    <tr>\n",
              "      <th>3</th>\n",
              "      <td>metabase</td>\n",
              "      <td>metabase</td>\n",
              "      <td>27100</td>\n",
              "      <td>https://gitub.com/metabase/metabase</td>\n",
              "    </tr>\n",
              "    <tr>\n",
              "      <th>4</th>\n",
              "      <td>streamlit</td>\n",
              "      <td>streamlit</td>\n",
              "      <td>17300</td>\n",
              "      <td>https://gitub.com/streamlit/streamlit</td>\n",
              "    </tr>\n",
              "    <tr>\n",
              "      <th>5</th>\n",
              "      <td>AI-Expert-Roadmap</td>\n",
              "      <td>AMAI-GmbH</td>\n",
              "      <td>15600</td>\n",
              "      <td>https://gitub.com/AMAI-GmbH/AI-Expert-Roadmap</td>\n",
              "    </tr>\n",
              "    <tr>\n",
              "      <th>6</th>\n",
              "      <td>goaccess</td>\n",
              "      <td>allinurl</td>\n",
              "      <td>14200</td>\n",
              "      <td>https://gitub.com/allinurl/goaccess</td>\n",
              "    </tr>\n",
              "    <tr>\n",
              "      <th>7</th>\n",
              "      <td>CyberChef</td>\n",
              "      <td>gchq</td>\n",
              "      <td>13900</td>\n",
              "      <td>https://gitub.com/gchq/CyberChef</td>\n",
              "    </tr>\n",
              "    <tr>\n",
              "      <th>8</th>\n",
              "      <td>OpenRefine</td>\n",
              "      <td>OpenRefine</td>\n",
              "      <td>8600</td>\n",
              "      <td>https://gitub.com/OpenRefine/OpenRefine</td>\n",
              "    </tr>\n",
              "    <tr>\n",
              "      <th>9</th>\n",
              "      <td>pandas-profiling</td>\n",
              "      <td>pandas-profiling</td>\n",
              "      <td>8400</td>\n",
              "      <td>https://gitub.com/pandas-profiling/pandas-prof...</td>\n",
              "    </tr>\n",
              "    <tr>\n",
              "      <th>10</th>\n",
              "      <td>mlcourse.ai</td>\n",
              "      <td>Yorko</td>\n",
              "      <td>8000</td>\n",
              "      <td>https://gitub.com/Yorko/mlcourse.ai</td>\n",
              "    </tr>\n",
              "    <tr>\n",
              "      <th>11</th>\n",
              "      <td>Data-Science-For-Beginners</td>\n",
              "      <td>microsoft</td>\n",
              "      <td>8000</td>\n",
              "      <td>https://gitub.com/microsoft/Data-Science-For-B...</td>\n",
              "    </tr>\n",
              "    <tr>\n",
              "      <th>12</th>\n",
              "      <td>gop</td>\n",
              "      <td>goplus</td>\n",
              "      <td>7900</td>\n",
              "      <td>https://gitub.com/goplus/gop</td>\n",
              "    </tr>\n",
              "    <tr>\n",
              "      <th>13</th>\n",
              "      <td>pandas_exercises</td>\n",
              "      <td>guipsamora</td>\n",
              "      <td>7200</td>\n",
              "      <td>https://gitub.com/guipsamora/pandas_exercises</td>\n",
              "    </tr>\n",
              "    <tr>\n",
              "      <th>14</th>\n",
              "      <td>statsmodels</td>\n",
              "      <td>statsmodels</td>\n",
              "      <td>7000</td>\n",
              "      <td>https://gitub.com/statsmodels/statsmodels</td>\n",
              "    </tr>\n",
              "    <tr>\n",
              "      <th>15</th>\n",
              "      <td>imbalanced-learn</td>\n",
              "      <td>scikit-learn-contrib</td>\n",
              "      <td>5700</td>\n",
              "      <td>https://gitub.com/scikit-learn-contrib/imbalan...</td>\n",
              "    </tr>\n",
              "    <tr>\n",
              "      <th>16</th>\n",
              "      <td>gonum</td>\n",
              "      <td>gonum</td>\n",
              "      <td>5400</td>\n",
              "      <td>https://gitub.com/gonum/gonum</td>\n",
              "    </tr>\n",
              "    <tr>\n",
              "      <th>17</th>\n",
              "      <td>alluxio</td>\n",
              "      <td>Alluxio</td>\n",
              "      <td>5400</td>\n",
              "      <td>https://gitub.com/Alluxio/alluxio</td>\n",
              "    </tr>\n",
              "    <tr>\n",
              "      <th>18</th>\n",
              "      <td>pachyderm</td>\n",
              "      <td>pachyderm</td>\n",
              "      <td>5300</td>\n",
              "      <td>https://gitub.com/pachyderm/pachyderm</td>\n",
              "    </tr>\n",
              "    <tr>\n",
              "      <th>19</th>\n",
              "      <td>airbyte</td>\n",
              "      <td>airbytehq</td>\n",
              "      <td>5300</td>\n",
              "      <td>https://gitub.com/airbytehq/airbyte</td>\n",
              "    </tr>\n",
              "    <tr>\n",
              "      <th>20</th>\n",
              "      <td>Data-Analysis-and-Machine-Learning-Projects</td>\n",
              "      <td>rhiever</td>\n",
              "      <td>5200</td>\n",
              "      <td>https://gitub.com/rhiever/Data-Analysis-and-Ma...</td>\n",
              "    </tr>\n",
              "    <tr>\n",
              "      <th>21</th>\n",
              "      <td>pyod</td>\n",
              "      <td>yzhao062</td>\n",
              "      <td>5200</td>\n",
              "      <td>https://gitub.com/yzhao062/pyod</td>\n",
              "    </tr>\n",
              "    <tr>\n",
              "      <th>22</th>\n",
              "      <td>knowledge-repo</td>\n",
              "      <td>airbnb</td>\n",
              "      <td>5000</td>\n",
              "      <td>https://gitub.com/airbnb/knowledge-repo</td>\n",
              "    </tr>\n",
              "    <tr>\n",
              "      <th>23</th>\n",
              "      <td>awesome-R</td>\n",
              "      <td>qinwf</td>\n",
              "      <td>4900</td>\n",
              "      <td>https://gitub.com/qinwf/awesome-R</td>\n",
              "    </tr>\n",
              "    <tr>\n",
              "      <th>24</th>\n",
              "      <td>gradio</td>\n",
              "      <td>gradio-app</td>\n",
              "      <td>4700</td>\n",
              "      <td>https://gitub.com/gradio-app/gradio</td>\n",
              "    </tr>\n",
              "    <tr>\n",
              "      <th>25</th>\n",
              "      <td>weibospider</td>\n",
              "      <td>SpiderClub</td>\n",
              "      <td>4700</td>\n",
              "      <td>https://gitub.com/SpiderClub/weibospider</td>\n",
              "    </tr>\n",
              "    <tr>\n",
              "      <th>26</th>\n",
              "      <td>dataease</td>\n",
              "      <td>dataease</td>\n",
              "      <td>4600</td>\n",
              "      <td>https://gitub.com/dataease/dataease</td>\n",
              "    </tr>\n",
              "    <tr>\n",
              "      <th>27</th>\n",
              "      <td>Ai-Learn</td>\n",
              "      <td>tangyudi</td>\n",
              "      <td>4500</td>\n",
              "      <td>https://gitub.com/tangyudi/Ai-Learn</td>\n",
              "    </tr>\n",
              "    <tr>\n",
              "      <th>28</th>\n",
              "      <td>akshare</td>\n",
              "      <td>akfamily</td>\n",
              "      <td>4400</td>\n",
              "      <td>https://gitub.com/akfamily/akshare</td>\n",
              "    </tr>\n",
              "    <tr>\n",
              "      <th>29</th>\n",
              "      <td>cudf</td>\n",
              "      <td>rapidsai</td>\n",
              "      <td>4400</td>\n",
              "      <td>https://gitub.com/rapidsai/cudf</td>\n",
              "    </tr>\n",
              "  </tbody>\n",
              "</table>\n",
              "</div>"
            ],
            "text/plain": [
              "                                repository_name        owner_username  stars  \\\n",
              "0                                  scikit-learn          scikit-learn  48500   \n",
              "1                                      superset                apache  43500   \n",
              "2                                        pandas            pandas-dev  32299   \n",
              "3                                      metabase              metabase  27100   \n",
              "4                                     streamlit             streamlit  17300   \n",
              "5                             AI-Expert-Roadmap             AMAI-GmbH  15600   \n",
              "6                                      goaccess              allinurl  14200   \n",
              "7                                     CyberChef                  gchq  13900   \n",
              "8                                    OpenRefine            OpenRefine   8600   \n",
              "9                              pandas-profiling      pandas-profiling   8400   \n",
              "10                                  mlcourse.ai                 Yorko   8000   \n",
              "11                   Data-Science-For-Beginners             microsoft   8000   \n",
              "12                                          gop                goplus   7900   \n",
              "13                             pandas_exercises            guipsamora   7200   \n",
              "14                                  statsmodels           statsmodels   7000   \n",
              "15                             imbalanced-learn  scikit-learn-contrib   5700   \n",
              "16                                        gonum                 gonum   5400   \n",
              "17                                      alluxio               Alluxio   5400   \n",
              "18                                    pachyderm             pachyderm   5300   \n",
              "19                                      airbyte             airbytehq   5300   \n",
              "20  Data-Analysis-and-Machine-Learning-Projects               rhiever   5200   \n",
              "21                                         pyod              yzhao062   5200   \n",
              "22                               knowledge-repo                airbnb   5000   \n",
              "23                                    awesome-R                 qinwf   4900   \n",
              "24                                       gradio            gradio-app   4700   \n",
              "25                                  weibospider            SpiderClub   4700   \n",
              "26                                     dataease              dataease   4600   \n",
              "27                                     Ai-Learn              tangyudi   4500   \n",
              "28                                      akshare              akfamily   4400   \n",
              "29                                         cudf              rapidsai   4400   \n",
              "\n",
              "                                       repository_url  \n",
              "0         https://gitub.com/scikit-learn/scikit-learn  \n",
              "1                   https://gitub.com/apache/superset  \n",
              "2                 https://gitub.com/pandas-dev/pandas  \n",
              "3                 https://gitub.com/metabase/metabase  \n",
              "4               https://gitub.com/streamlit/streamlit  \n",
              "5       https://gitub.com/AMAI-GmbH/AI-Expert-Roadmap  \n",
              "6                 https://gitub.com/allinurl/goaccess  \n",
              "7                    https://gitub.com/gchq/CyberChef  \n",
              "8             https://gitub.com/OpenRefine/OpenRefine  \n",
              "9   https://gitub.com/pandas-profiling/pandas-prof...  \n",
              "10                https://gitub.com/Yorko/mlcourse.ai  \n",
              "11  https://gitub.com/microsoft/Data-Science-For-B...  \n",
              "12                       https://gitub.com/goplus/gop  \n",
              "13      https://gitub.com/guipsamora/pandas_exercises  \n",
              "14          https://gitub.com/statsmodels/statsmodels  \n",
              "15  https://gitub.com/scikit-learn-contrib/imbalan...  \n",
              "16                      https://gitub.com/gonum/gonum  \n",
              "17                  https://gitub.com/Alluxio/alluxio  \n",
              "18              https://gitub.com/pachyderm/pachyderm  \n",
              "19                https://gitub.com/airbytehq/airbyte  \n",
              "20  https://gitub.com/rhiever/Data-Analysis-and-Ma...  \n",
              "21                    https://gitub.com/yzhao062/pyod  \n",
              "22            https://gitub.com/airbnb/knowledge-repo  \n",
              "23                  https://gitub.com/qinwf/awesome-R  \n",
              "24                https://gitub.com/gradio-app/gradio  \n",
              "25           https://gitub.com/SpiderClub/weibospider  \n",
              "26                https://gitub.com/dataease/dataease  \n",
              "27                https://gitub.com/tangyudi/Ai-Learn  \n",
              "28                 https://gitub.com/akfamily/akshare  \n",
              "29                    https://gitub.com/rapidsai/cudf  "
            ]
          },
          "execution_count": 95,
          "metadata": {},
          "output_type": "execute_result"
        }
      ],
      "source": [
        "pd.read_csv('data-analysis.csv')"
      ]
    },
    {
      "cell_type": "code",
      "execution_count": null,
      "id": "da0a55c3",
      "metadata": {
        "id": "da0a55c3",
        "outputId": "b2b3c11f-107a-45cc-cbdc-18a9d5031d07"
      },
      "outputs": [
        {
          "name": "stdout",
          "output_type": "stream",
          "text": [
            "Top repositories for topic \"python\" written to file \"python.csv\"\n"
          ]
        },
        {
          "data": {
            "text/plain": [
              "'python.csv'"
            ]
          },
          "execution_count": 96,
          "metadata": {},
          "output_type": "execute_result"
        }
      ],
      "source": [
        "scrape_topic_repositories('python')"
      ]
    },
    {
      "cell_type": "code",
      "execution_count": null,
      "id": "f2124696",
      "metadata": {
        "id": "f2124696",
        "outputId": "bf567cd7-b988-40b2-b37e-f9867ab316fe"
      },
      "outputs": [
        {
          "data": {
            "text/html": [
              "<div>\n",
              "<style scoped>\n",
              "    .dataframe tbody tr th:only-of-type {\n",
              "        vertical-align: middle;\n",
              "    }\n",
              "\n",
              "    .dataframe tbody tr th {\n",
              "        vertical-align: top;\n",
              "    }\n",
              "\n",
              "    .dataframe thead th {\n",
              "        text-align: right;\n",
              "    }\n",
              "</style>\n",
              "<table border=\"1\" class=\"dataframe\">\n",
              "  <thead>\n",
              "    <tr style=\"text-align: right;\">\n",
              "      <th></th>\n",
              "      <th>repository_name</th>\n",
              "      <th>owner_username</th>\n",
              "      <th>stars</th>\n",
              "      <th>repository_url</th>\n",
              "    </tr>\n",
              "  </thead>\n",
              "  <tbody>\n",
              "    <tr>\n",
              "      <th>0</th>\n",
              "      <td>tensorflow</td>\n",
              "      <td>tensorflow</td>\n",
              "      <td>162000</td>\n",
              "      <td>https://gitub.com/tensorflow/tensorflow</td>\n",
              "    </tr>\n",
              "    <tr>\n",
              "      <th>1</th>\n",
              "      <td>system-design-primer</td>\n",
              "      <td>donnemartin</td>\n",
              "      <td>158000</td>\n",
              "      <td>https://gitub.com/donnemartin/system-design-pr...</td>\n",
              "    </tr>\n",
              "    <tr>\n",
              "      <th>2</th>\n",
              "      <td>CS-Notes</td>\n",
              "      <td>CyC2018</td>\n",
              "      <td>145000</td>\n",
              "      <td>https://gitub.com/CyC2018/CS-Notes</td>\n",
              "    </tr>\n",
              "    <tr>\n",
              "      <th>3</th>\n",
              "      <td>Python</td>\n",
              "      <td>TheAlgorithms</td>\n",
              "      <td>127000</td>\n",
              "      <td>https://gitub.com/TheAlgorithms/Python</td>\n",
              "    </tr>\n",
              "    <tr>\n",
              "      <th>4</th>\n",
              "      <td>awesome-python</td>\n",
              "      <td>vinta</td>\n",
              "      <td>113000</td>\n",
              "      <td>https://gitub.com/vinta/awesome-python</td>\n",
              "    </tr>\n",
              "    <tr>\n",
              "      <th>5</th>\n",
              "      <td>free-programming-books-zh_CN</td>\n",
              "      <td>justjavac</td>\n",
              "      <td>86400</td>\n",
              "      <td>https://gitub.com/justjavac/free-programming-b...</td>\n",
              "    </tr>\n",
              "    <tr>\n",
              "      <th>6</th>\n",
              "      <td>thefuck</td>\n",
              "      <td>nvbn</td>\n",
              "      <td>66100</td>\n",
              "      <td>https://gitub.com/nvbn/thefuck</td>\n",
              "    </tr>\n",
              "    <tr>\n",
              "      <th>7</th>\n",
              "      <td>django</td>\n",
              "      <td>django</td>\n",
              "      <td>61700</td>\n",
              "      <td>https://gitub.com/django/django</td>\n",
              "    </tr>\n",
              "    <tr>\n",
              "      <th>8</th>\n",
              "      <td>project-based-learning</td>\n",
              "      <td>practical-tutorials</td>\n",
              "      <td>61100</td>\n",
              "      <td>https://gitub.com/practical-tutorials/project-...</td>\n",
              "    </tr>\n",
              "    <tr>\n",
              "      <th>9</th>\n",
              "      <td>flask</td>\n",
              "      <td>pallets</td>\n",
              "      <td>57600</td>\n",
              "      <td>https://gitub.com/pallets/flask</td>\n",
              "    </tr>\n",
              "    <tr>\n",
              "      <th>10</th>\n",
              "      <td>transformers</td>\n",
              "      <td>huggingface</td>\n",
              "      <td>56800</td>\n",
              "      <td>https://gitub.com/huggingface/transformers</td>\n",
              "    </tr>\n",
              "    <tr>\n",
              "      <th>11</th>\n",
              "      <td>keras</td>\n",
              "      <td>keras-team</td>\n",
              "      <td>53700</td>\n",
              "      <td>https://gitub.com/keras-team/keras</td>\n",
              "    </tr>\n",
              "    <tr>\n",
              "      <th>12</th>\n",
              "      <td>httpie</td>\n",
              "      <td>httpie</td>\n",
              "      <td>53300</td>\n",
              "      <td>https://gitub.com/httpie/httpie</td>\n",
              "    </tr>\n",
              "    <tr>\n",
              "      <th>13</th>\n",
              "      <td>pytorch</td>\n",
              "      <td>pytorch</td>\n",
              "      <td>53300</td>\n",
              "      <td>https://gitub.com/pytorch/pytorch</td>\n",
              "    </tr>\n",
              "    <tr>\n",
              "      <th>14</th>\n",
              "      <td>HelloGitHub</td>\n",
              "      <td>521xueweihan</td>\n",
              "      <td>51400</td>\n",
              "      <td>https://gitub.com/521xueweihan/HelloGitHub</td>\n",
              "    </tr>\n",
              "    <tr>\n",
              "      <th>15</th>\n",
              "      <td>ansible</td>\n",
              "      <td>ansible</td>\n",
              "      <td>51300</td>\n",
              "      <td>https://gitub.com/ansible/ansible</td>\n",
              "    </tr>\n",
              "    <tr>\n",
              "      <th>16</th>\n",
              "      <td>core</td>\n",
              "      <td>home-assistant</td>\n",
              "      <td>48900</td>\n",
              "      <td>https://gitub.com/home-assistant/core</td>\n",
              "    </tr>\n",
              "    <tr>\n",
              "      <th>17</th>\n",
              "      <td>scikit-learn</td>\n",
              "      <td>scikit-learn</td>\n",
              "      <td>48500</td>\n",
              "      <td>https://gitub.com/scikit-learn/scikit-learn</td>\n",
              "    </tr>\n",
              "    <tr>\n",
              "      <th>18</th>\n",
              "      <td>requests</td>\n",
              "      <td>psf</td>\n",
              "      <td>46700</td>\n",
              "      <td>https://gitub.com/psf/requests</td>\n",
              "    </tr>\n",
              "    <tr>\n",
              "      <th>19</th>\n",
              "      <td>leetcode</td>\n",
              "      <td>azl397985856</td>\n",
              "      <td>46000</td>\n",
              "      <td>https://gitub.com/azl397985856/leetcode</td>\n",
              "    </tr>\n",
              "    <tr>\n",
              "      <th>20</th>\n",
              "      <td>superset</td>\n",
              "      <td>apache</td>\n",
              "      <td>43500</td>\n",
              "      <td>https://gitub.com/apache/superset</td>\n",
              "    </tr>\n",
              "    <tr>\n",
              "      <th>21</th>\n",
              "      <td>face_recognition</td>\n",
              "      <td>ageitgey</td>\n",
              "      <td>42800</td>\n",
              "      <td>https://gitub.com/ageitgey/face_recognition</td>\n",
              "    </tr>\n",
              "    <tr>\n",
              "      <th>22</th>\n",
              "      <td>scrapy</td>\n",
              "      <td>scrapy</td>\n",
              "      <td>42500</td>\n",
              "      <td>https://gitub.com/scrapy/scrapy</td>\n",
              "    </tr>\n",
              "    <tr>\n",
              "      <th>23</th>\n",
              "      <td>TensorFlow-Examples</td>\n",
              "      <td>aymericdamien</td>\n",
              "      <td>41600</td>\n",
              "      <td>https://gitub.com/aymericdamien/TensorFlow-Exa...</td>\n",
              "    </tr>\n",
              "    <tr>\n",
              "      <th>24</th>\n",
              "      <td>fastapi</td>\n",
              "      <td>tiangolo</td>\n",
              "      <td>40500</td>\n",
              "      <td>https://gitub.com/tiangolo/fastapi</td>\n",
              "    </tr>\n",
              "    <tr>\n",
              "      <th>25</th>\n",
              "      <td>manim</td>\n",
              "      <td>3b1b</td>\n",
              "      <td>40200</td>\n",
              "      <td>https://gitub.com/3b1b/manim</td>\n",
              "    </tr>\n",
              "    <tr>\n",
              "      <th>26</th>\n",
              "      <td>localstack</td>\n",
              "      <td>localstack</td>\n",
              "      <td>38100</td>\n",
              "      <td>https://gitub.com/localstack/localstack</td>\n",
              "    </tr>\n",
              "    <tr>\n",
              "      <th>27</th>\n",
              "      <td>100-Days-Of-ML-Code</td>\n",
              "      <td>Avik-Jain</td>\n",
              "      <td>34200</td>\n",
              "      <td>https://gitub.com/Avik-Jain/100-Days-Of-ML-Code</td>\n",
              "    </tr>\n",
              "    <tr>\n",
              "      <th>28</th>\n",
              "      <td>Real-Time-Voice-Cloning</td>\n",
              "      <td>CorentinJ</td>\n",
              "      <td>32700</td>\n",
              "      <td>https://gitub.com/CorentinJ/Real-Time-Voice-Cl...</td>\n",
              "    </tr>\n",
              "    <tr>\n",
              "      <th>29</th>\n",
              "      <td>AiLearning</td>\n",
              "      <td>apachecn</td>\n",
              "      <td>32500</td>\n",
              "      <td>https://gitub.com/apachecn/AiLearning</td>\n",
              "    </tr>\n",
              "  </tbody>\n",
              "</table>\n",
              "</div>"
            ],
            "text/plain": [
              "                 repository_name       owner_username   stars  \\\n",
              "0                     tensorflow           tensorflow  162000   \n",
              "1           system-design-primer          donnemartin  158000   \n",
              "2                       CS-Notes              CyC2018  145000   \n",
              "3                         Python        TheAlgorithms  127000   \n",
              "4                 awesome-python                vinta  113000   \n",
              "5   free-programming-books-zh_CN            justjavac   86400   \n",
              "6                        thefuck                 nvbn   66100   \n",
              "7                         django               django   61700   \n",
              "8         project-based-learning  practical-tutorials   61100   \n",
              "9                          flask              pallets   57600   \n",
              "10                  transformers          huggingface   56800   \n",
              "11                         keras           keras-team   53700   \n",
              "12                        httpie               httpie   53300   \n",
              "13                       pytorch              pytorch   53300   \n",
              "14                   HelloGitHub         521xueweihan   51400   \n",
              "15                       ansible              ansible   51300   \n",
              "16                          core       home-assistant   48900   \n",
              "17                  scikit-learn         scikit-learn   48500   \n",
              "18                      requests                  psf   46700   \n",
              "19                      leetcode         azl397985856   46000   \n",
              "20                      superset               apache   43500   \n",
              "21              face_recognition             ageitgey   42800   \n",
              "22                        scrapy               scrapy   42500   \n",
              "23           TensorFlow-Examples        aymericdamien   41600   \n",
              "24                       fastapi             tiangolo   40500   \n",
              "25                         manim                 3b1b   40200   \n",
              "26                    localstack           localstack   38100   \n",
              "27           100-Days-Of-ML-Code            Avik-Jain   34200   \n",
              "28       Real-Time-Voice-Cloning            CorentinJ   32700   \n",
              "29                    AiLearning             apachecn   32500   \n",
              "\n",
              "                                       repository_url  \n",
              "0             https://gitub.com/tensorflow/tensorflow  \n",
              "1   https://gitub.com/donnemartin/system-design-pr...  \n",
              "2                  https://gitub.com/CyC2018/CS-Notes  \n",
              "3              https://gitub.com/TheAlgorithms/Python  \n",
              "4              https://gitub.com/vinta/awesome-python  \n",
              "5   https://gitub.com/justjavac/free-programming-b...  \n",
              "6                      https://gitub.com/nvbn/thefuck  \n",
              "7                     https://gitub.com/django/django  \n",
              "8   https://gitub.com/practical-tutorials/project-...  \n",
              "9                     https://gitub.com/pallets/flask  \n",
              "10         https://gitub.com/huggingface/transformers  \n",
              "11                 https://gitub.com/keras-team/keras  \n",
              "12                    https://gitub.com/httpie/httpie  \n",
              "13                  https://gitub.com/pytorch/pytorch  \n",
              "14         https://gitub.com/521xueweihan/HelloGitHub  \n",
              "15                  https://gitub.com/ansible/ansible  \n",
              "16              https://gitub.com/home-assistant/core  \n",
              "17        https://gitub.com/scikit-learn/scikit-learn  \n",
              "18                     https://gitub.com/psf/requests  \n",
              "19            https://gitub.com/azl397985856/leetcode  \n",
              "20                  https://gitub.com/apache/superset  \n",
              "21        https://gitub.com/ageitgey/face_recognition  \n",
              "22                    https://gitub.com/scrapy/scrapy  \n",
              "23  https://gitub.com/aymericdamien/TensorFlow-Exa...  \n",
              "24                 https://gitub.com/tiangolo/fastapi  \n",
              "25                       https://gitub.com/3b1b/manim  \n",
              "26            https://gitub.com/localstack/localstack  \n",
              "27    https://gitub.com/Avik-Jain/100-Days-Of-ML-Code  \n",
              "28  https://gitub.com/CorentinJ/Real-Time-Voice-Cl...  \n",
              "29              https://gitub.com/apachecn/AiLearning  "
            ]
          },
          "execution_count": 98,
          "metadata": {},
          "output_type": "execute_result"
        }
      ],
      "source": [
        "pd.read_csv('python.csv')"
      ]
    },
    {
      "cell_type": "markdown",
      "id": "a2d95d75",
      "metadata": {
        "id": "a2d95d75"
      },
      "source": [
        "Of course, we can go even further and write a function that scrapes top repositories for several topics.\n",
        "\n",
        "> **EXERCISE**: Write a function `scrape_topics` which takes a list of topics and creates CSV files containing top repositories for a list of topics. Test it out using the empty cells below."
      ]
    },
    {
      "cell_type": "code",
      "execution_count": null,
      "id": "5259df17",
      "metadata": {
        "id": "5259df17"
      },
      "outputs": [],
      "source": []
    },
    {
      "cell_type": "code",
      "execution_count": null,
      "id": "e1b27e6e",
      "metadata": {
        "id": "e1b27e6e"
      },
      "outputs": [],
      "source": []
    },
    {
      "cell_type": "code",
      "execution_count": null,
      "id": "da41c1f0",
      "metadata": {
        "id": "da41c1f0"
      },
      "outputs": [],
      "source": []
    },
    {
      "cell_type": "markdown",
      "id": "347c7497",
      "metadata": {
        "id": "347c7497"
      },
      "source": [
        "Let's save our work before continuing."
      ]
    },
    {
      "cell_type": "code",
      "execution_count": null,
      "id": "937fec02",
      "metadata": {
        "id": "937fec02",
        "outputId": "9fe161e1-c063-4885-e40a-44693d8753e3"
      },
      "outputs": [
        {
          "data": {
            "application/javascript": [
              "window.require && require([\"base/js/namespace\"],function(Jupyter){Jupyter.notebook.save_checkpoint()})"
            ],
            "text/plain": [
              "<IPython.core.display.Javascript object>"
            ]
          },
          "metadata": {},
          "output_type": "display_data"
        },
        {
          "name": "stdout",
          "output_type": "stream",
          "text": [
            "[jovian] Updating notebook \"aakashns/python-web-scraping-and-rest-api\" on https://jovian.ai\u001b[0m\n",
            "[jovian] Uploading additional files...\u001b[0m\n",
            "[jovian] Committed successfully! https://jovian.ai/aakashns/python-web-scraping-and-rest-api\u001b[0m\n"
          ]
        },
        {
          "data": {
            "text/plain": [
              "'https://jovian.ai/aakashns/python-web-scraping-and-rest-api'"
            ]
          },
          "execution_count": 99,
          "metadata": {},
          "output_type": "execute_result"
        }
      ],
      "source": [
        "jovian.commit(files=['machine-learning.csv', 'python.csv', 'data-analysis.csv'])"
      ]
    },
    {
      "cell_type": "markdown",
      "id": "b79f6da7",
      "metadata": {
        "id": "b79f6da7"
      },
      "source": [
        "## Using a REST API to retrieve data as JSON\n",
        "\n",
        "Not all URLs point to an HTML page. Consider this URL for example: https://api.github.com/repos/octocat/hello-world . It points to a JSON document, which has a structure like this:\n",
        "\n",
        "\n",
        "```json\n",
        "{\n",
        "  \"name\": \"Hello-World\",\n",
        "  \"full_name\": \"octocat/Hello-World\",\n",
        "  \"private\": false,\n",
        "  \"owner\": {\n",
        "    \"login\": \"octocat\",\n",
        "    \"id\": 583231,\n",
        "  },\n",
        "  \"html_url\": \"https://github.com/octocat/Hello-World\",\n",
        "}\n",
        "```\n",
        "\n",
        "It's quite similar to a Python dictionary. In fact, you can use the `json` module from python to convert a JSON document into a Python dictionary."
      ]
    },
    {
      "cell_type": "code",
      "execution_count": null,
      "id": "d643cbb8",
      "metadata": {
        "id": "d643cbb8"
      },
      "outputs": [],
      "source": [
        "response = requests.get('https://api.github.com/repos/octocat/hello-world')"
      ]
    },
    {
      "cell_type": "code",
      "execution_count": null,
      "id": "cf66e5ab",
      "metadata": {
        "id": "cf66e5ab"
      },
      "outputs": [],
      "source": [
        "import json\n",
        "\n",
        "data_dict = json.loads(response.text)"
      ]
    },
    {
      "cell_type": "code",
      "execution_count": null,
      "id": "1946e1d5",
      "metadata": {
        "scrolled": true,
        "id": "1946e1d5",
        "outputId": "2a2763da-79cf-4f63-ff89-2e0c4330c57d"
      },
      "outputs": [
        {
          "data": {
            "text/plain": [
              "{'id': 1296269,\n",
              " 'node_id': 'MDEwOlJlcG9zaXRvcnkxMjk2MjY5',\n",
              " 'name': 'Hello-World',\n",
              " 'full_name': 'octocat/Hello-World',\n",
              " 'private': False,\n",
              " 'owner': {'login': 'octocat',\n",
              "  'id': 583231,\n",
              "  'node_id': 'MDQ6VXNlcjU4MzIzMQ==',\n",
              "  'avatar_url': 'https://avatars.githubusercontent.com/u/583231?v=4',\n",
              "  'gravatar_id': '',\n",
              "  'url': 'https://api.github.com/users/octocat',\n",
              "  'html_url': 'https://github.com/octocat',\n",
              "  'followers_url': 'https://api.github.com/users/octocat/followers',\n",
              "  'following_url': 'https://api.github.com/users/octocat/following{/other_user}',\n",
              "  'gists_url': 'https://api.github.com/users/octocat/gists{/gist_id}',\n",
              "  'starred_url': 'https://api.github.com/users/octocat/starred{/owner}{/repo}',\n",
              "  'subscriptions_url': 'https://api.github.com/users/octocat/subscriptions',\n",
              "  'organizations_url': 'https://api.github.com/users/octocat/orgs',\n",
              "  'repos_url': 'https://api.github.com/users/octocat/repos',\n",
              "  'events_url': 'https://api.github.com/users/octocat/events{/privacy}',\n",
              "  'received_events_url': 'https://api.github.com/users/octocat/received_events',\n",
              "  'type': 'User',\n",
              "  'site_admin': False},\n",
              " 'html_url': 'https://github.com/octocat/Hello-World',\n",
              " 'description': 'My first repository on GitHub!',\n",
              " 'fork': False,\n",
              " 'url': 'https://api.github.com/repos/octocat/Hello-World',\n",
              " 'forks_url': 'https://api.github.com/repos/octocat/Hello-World/forks',\n",
              " 'keys_url': 'https://api.github.com/repos/octocat/Hello-World/keys{/key_id}',\n",
              " 'collaborators_url': 'https://api.github.com/repos/octocat/Hello-World/collaborators{/collaborator}',\n",
              " 'teams_url': 'https://api.github.com/repos/octocat/Hello-World/teams',\n",
              " 'hooks_url': 'https://api.github.com/repos/octocat/Hello-World/hooks',\n",
              " 'issue_events_url': 'https://api.github.com/repos/octocat/Hello-World/issues/events{/number}',\n",
              " 'events_url': 'https://api.github.com/repos/octocat/Hello-World/events',\n",
              " 'assignees_url': 'https://api.github.com/repos/octocat/Hello-World/assignees{/user}',\n",
              " 'branches_url': 'https://api.github.com/repos/octocat/Hello-World/branches{/branch}',\n",
              " 'tags_url': 'https://api.github.com/repos/octocat/Hello-World/tags',\n",
              " 'blobs_url': 'https://api.github.com/repos/octocat/Hello-World/git/blobs{/sha}',\n",
              " 'git_tags_url': 'https://api.github.com/repos/octocat/Hello-World/git/tags{/sha}',\n",
              " 'git_refs_url': 'https://api.github.com/repos/octocat/Hello-World/git/refs{/sha}',\n",
              " 'trees_url': 'https://api.github.com/repos/octocat/Hello-World/git/trees{/sha}',\n",
              " 'statuses_url': 'https://api.github.com/repos/octocat/Hello-World/statuses/{sha}',\n",
              " 'languages_url': 'https://api.github.com/repos/octocat/Hello-World/languages',\n",
              " 'stargazers_url': 'https://api.github.com/repos/octocat/Hello-World/stargazers',\n",
              " 'contributors_url': 'https://api.github.com/repos/octocat/Hello-World/contributors',\n",
              " 'subscribers_url': 'https://api.github.com/repos/octocat/Hello-World/subscribers',\n",
              " 'subscription_url': 'https://api.github.com/repos/octocat/Hello-World/subscription',\n",
              " 'commits_url': 'https://api.github.com/repos/octocat/Hello-World/commits{/sha}',\n",
              " 'git_commits_url': 'https://api.github.com/repos/octocat/Hello-World/git/commits{/sha}',\n",
              " 'comments_url': 'https://api.github.com/repos/octocat/Hello-World/comments{/number}',\n",
              " 'issue_comment_url': 'https://api.github.com/repos/octocat/Hello-World/issues/comments{/number}',\n",
              " 'contents_url': 'https://api.github.com/repos/octocat/Hello-World/contents/{+path}',\n",
              " 'compare_url': 'https://api.github.com/repos/octocat/Hello-World/compare/{base}...{head}',\n",
              " 'merges_url': 'https://api.github.com/repos/octocat/Hello-World/merges',\n",
              " 'archive_url': 'https://api.github.com/repos/octocat/Hello-World/{archive_format}{/ref}',\n",
              " 'downloads_url': 'https://api.github.com/repos/octocat/Hello-World/downloads',\n",
              " 'issues_url': 'https://api.github.com/repos/octocat/Hello-World/issues{/number}',\n",
              " 'pulls_url': 'https://api.github.com/repos/octocat/Hello-World/pulls{/number}',\n",
              " 'milestones_url': 'https://api.github.com/repos/octocat/Hello-World/milestones{/number}',\n",
              " 'notifications_url': 'https://api.github.com/repos/octocat/Hello-World/notifications{?since,all,participating}',\n",
              " 'labels_url': 'https://api.github.com/repos/octocat/Hello-World/labels{/name}',\n",
              " 'releases_url': 'https://api.github.com/repos/octocat/Hello-World/releases{/id}',\n",
              " 'deployments_url': 'https://api.github.com/repos/octocat/Hello-World/deployments',\n",
              " 'created_at': '2011-01-26T19:01:12Z',\n",
              " 'updated_at': '2022-01-13T04:09:25Z',\n",
              " 'pushed_at': '2022-01-13T03:39:27Z',\n",
              " 'git_url': 'git://github.com/octocat/Hello-World.git',\n",
              " 'ssh_url': 'git@github.com:octocat/Hello-World.git',\n",
              " 'clone_url': 'https://github.com/octocat/Hello-World.git',\n",
              " 'svn_url': 'https://github.com/octocat/Hello-World',\n",
              " 'homepage': '',\n",
              " 'size': 1,\n",
              " 'stargazers_count': 1748,\n",
              " 'watchers_count': 1748,\n",
              " 'language': None,\n",
              " 'has_issues': True,\n",
              " 'has_projects': True,\n",
              " 'has_downloads': True,\n",
              " 'has_wiki': True,\n",
              " 'has_pages': False,\n",
              " 'forks_count': 1680,\n",
              " 'mirror_url': None,\n",
              " 'archived': False,\n",
              " 'disabled': False,\n",
              " 'open_issues_count': 752,\n",
              " 'license': None,\n",
              " 'allow_forking': True,\n",
              " 'is_template': False,\n",
              " 'topics': [],\n",
              " 'visibility': 'public',\n",
              " 'forks': 1680,\n",
              " 'open_issues': 752,\n",
              " 'watchers': 1748,\n",
              " 'default_branch': 'master',\n",
              " 'temp_clone_token': None,\n",
              " 'network_count': 1680,\n",
              " 'subscribers_count': 1746}"
            ]
          },
          "execution_count": 102,
          "metadata": {},
          "output_type": "execute_result"
        }
      ],
      "source": [
        "data_dict"
      ]
    },
    {
      "cell_type": "markdown",
      "id": "1df6324c",
      "metadata": {
        "id": "1df6324c"
      },
      "source": [
        "Unlike HTML, it's really easy to work with JSON using Python, simply fetch the contents of the URL and convert it to a dictionary. Such URLs are often called **REST APIs** or REST API endpoints. Many websites offer well-documented REST APIs to access data from the site in JSON format:\n",
        "\n",
        "* GitHub: https://docs.github.com/en/rest/reference/repos\n",
        "* Facebook: https://developers.facebook.com/docs/groups-api/reference\n",
        "* Twitter: https://developer.twitter.com/en/docs/twitter-api/v1/tweets/timelines/api-reference/get-statuses-user_timeline\n",
        "* Reddit: https://www.reddit.com/dev/api/\n",
        "\n",
        "Using an API is the *officially supported* way of extracting information from a website. To use an API, you will often need to register as a developer on the platform and generate an API key, which you'll need to send with every request to authenticate yourself. \n",
        "\n",
        "Since GitHub offers a public API, we can use it without any restrictions to fetch information about public repositories.\n",
        "\n",
        "\n",
        "> **QUESTION**: Write a function `get_repo_details` to find the following information about a repository: description, watcher count, fork count, open issues count, created at time and updated at time.\n",
        "\n"
      ]
    },
    {
      "cell_type": "code",
      "execution_count": null,
      "id": "db28f78b",
      "metadata": {
        "id": "db28f78b"
      },
      "outputs": [],
      "source": [
        "def get_repo_details(username, repo_name):\n",
        "    print('Fetching information for {}/{}'.format(username, repo_name))\n",
        "    repo_details_url = \"https://api.github.com/repos/\" + username + \"/\" + repo_name\n",
        "    response = requests.get(repo_details_url)\n",
        "    if not response.ok:\n",
        "        print(\"Failed to fetch!\")\n",
        "        return {}\n",
        "    repo_data = json.loads(response.text)\n",
        "    return {\n",
        "        'description': repo_data['description'],\n",
        "        'watchers': repo_data['watchers_count'],\n",
        "        'open_issues': repo_data['open_issues_count'],\n",
        "        'created_at': repo_data['created_at'],\n",
        "        'updated_at': repo_data['updated_at']\n",
        "    }"
      ]
    },
    {
      "cell_type": "code",
      "execution_count": null,
      "id": "7d49b0d4",
      "metadata": {
        "id": "7d49b0d4",
        "outputId": "6a4b3680-e5db-43c2-87f0-ace6a32cf0da"
      },
      "outputs": [
        {
          "name": "stdout",
          "output_type": "stream",
          "text": [
            "Fetching information for octocat/hello-world\n"
          ]
        },
        {
          "data": {
            "text/plain": [
              "{'description': 'My first repository on GitHub!',\n",
              " 'watchers': 1748,\n",
              " 'open_issues': 752,\n",
              " 'created_at': '2011-01-26T19:01:12Z',\n",
              " 'updated_at': '2022-01-13T04:09:25Z'}"
            ]
          },
          "execution_count": 104,
          "metadata": {},
          "output_type": "execute_result"
        }
      ],
      "source": [
        "get_repo_details('octocat', 'hello-world')"
      ]
    },
    {
      "cell_type": "code",
      "execution_count": null,
      "id": "975a9b32",
      "metadata": {
        "id": "975a9b32",
        "outputId": "a7d3e627-c7f2-47c0-f44e-aedd6ee64d05"
      },
      "outputs": [
        {
          "name": "stdout",
          "output_type": "stream",
          "text": [
            "Fetching information for tensorflow/tensorflow\n"
          ]
        },
        {
          "data": {
            "text/plain": [
              "{'description': 'An Open Source Machine Learning Framework for Everyone',\n",
              " 'watchers': 162000,\n",
              " 'open_issues': 2544,\n",
              " 'created_at': '2015-11-07T01:19:20Z',\n",
              " 'updated_at': '2022-01-13T09:01:41Z'}"
            ]
          },
          "execution_count": 105,
          "metadata": {},
          "output_type": "execute_result"
        }
      ],
      "source": [
        "get_repo_details('tensorflow', 'tensorflow')"
      ]
    },
    {
      "cell_type": "markdown",
      "id": "1055cde9",
      "metadata": {
        "id": "1055cde9"
      },
      "source": [
        "> **QUESTION**: Augment the list of top repositories for a topic with the repository description, watcher count, fork count, open issues count, created at time and updated at time.\n",
        "\n"
      ]
    },
    {
      "cell_type": "code",
      "execution_count": null,
      "id": "4b78b976",
      "metadata": {
        "id": "4b78b976"
      },
      "outputs": [],
      "source": [
        "def add_repo_details(repos):\n",
        "    return [dict(**get_repo_details(repo['owner_username'], repo['repository_name']), **repo) for repo in repos]"
      ]
    },
    {
      "cell_type": "code",
      "execution_count": null,
      "id": "2b1a618e",
      "metadata": {
        "scrolled": false,
        "id": "2b1a618e",
        "outputId": "c15aa24d-5d59-4448-83fe-37f8d33b25f8"
      },
      "outputs": [
        {
          "name": "stdout",
          "output_type": "stream",
          "text": [
            "Fetching information for tensorflow/tensorflow\n",
            "Fetching information for keras-team/keras\n",
            "Fetching information for pytorch/pytorch\n",
            "Fetching information for scikit-learn/scikit-learn\n",
            "Fetching information for tesseract-ocr/tesseract\n"
          ]
        },
        {
          "data": {
            "text/plain": [
              "[{'description': 'An Open Source Machine Learning Framework for Everyone',\n",
              "  'watchers': 162000,\n",
              "  'open_issues': 2544,\n",
              "  'created_at': '2015-11-07T01:19:20Z',\n",
              "  'updated_at': '2022-01-13T09:01:41Z',\n",
              "  'repository_name': 'tensorflow',\n",
              "  'owner_username': 'tensorflow',\n",
              "  'stars': 162000,\n",
              "  'repository_url': 'https://github.com/tensorflow/tensorflow'},\n",
              " {'description': 'Deep Learning for humans',\n",
              "  'watchers': 53666,\n",
              "  'open_issues': 253,\n",
              "  'created_at': '2015-03-28T00:35:42Z',\n",
              "  'updated_at': '2022-01-13T05:22:16Z',\n",
              "  'repository_name': 'keras',\n",
              "  'owner_username': 'keras-team',\n",
              "  'stars': 53700,\n",
              "  'repository_url': 'https://github.com/keras-team/keras'},\n",
              " {'description': 'Tensors and Dynamic neural networks in Python with strong GPU acceleration',\n",
              "  'watchers': 53268,\n",
              "  'open_issues': 11047,\n",
              "  'created_at': '2016-08-13T05:26:41Z',\n",
              "  'updated_at': '2022-01-13T09:03:50Z',\n",
              "  'repository_name': 'pytorch',\n",
              "  'owner_username': 'pytorch',\n",
              "  'stars': 53300,\n",
              "  'repository_url': 'https://github.com/pytorch/pytorch'},\n",
              " {'description': 'scikit-learn: machine learning in Python',\n",
              "  'watchers': 48530,\n",
              "  'open_issues': 2506,\n",
              "  'created_at': '2010-08-17T09:43:38Z',\n",
              "  'updated_at': '2022-01-13T07:09:05Z',\n",
              "  'repository_name': 'scikit-learn',\n",
              "  'owner_username': 'scikit-learn',\n",
              "  'stars': 48500,\n",
              "  'repository_url': 'https://github.com/scikit-learn/scikit-learn'},\n",
              " {'description': 'Tesseract Open Source OCR Engine (main repository)',\n",
              "  'watchers': 43557,\n",
              "  'open_issues': 348,\n",
              "  'created_at': '2014-08-12T18:04:59Z',\n",
              "  'updated_at': '2022-01-13T09:01:46Z',\n",
              "  'repository_name': 'tesseract',\n",
              "  'owner_username': 'tesseract-ocr',\n",
              "  'stars': 43600,\n",
              "  'repository_url': 'https://github.com/tesseract-ocr/tesseract'}]"
            ]
          },
          "execution_count": 107,
          "metadata": {},
          "output_type": "execute_result"
        }
      ],
      "source": [
        "add_repo_details(top_repositories[:5])"
      ]
    },
    {
      "cell_type": "markdown",
      "id": "c6f21c37",
      "metadata": {
        "id": "c6f21c37"
      },
      "source": [
        "You may get rate limited if you attempt to make more than 60 requests per hour. To overcome the rate limit, use the Github OAuth token as described here: https://towardsdatascience.com/all-the-things-you-can-do-with-github-api-and-python-f01790fca131\n",
        "\n",
        "Note: Never publish your Github API token publicly, as it can be used to access your Github account. To store your API token without displaying it on the screen, use `getpass`."
      ]
    },
    {
      "cell_type": "code",
      "execution_count": null,
      "id": "3d555123",
      "metadata": {
        "id": "3d555123",
        "outputId": "2597d16b-dc04-489a-bfd6-fc65d54bc569"
      },
      "outputs": [
        {
          "name": "stdout",
          "output_type": "stream",
          "text": [
            "········\n"
          ]
        }
      ],
      "source": [
        "from getpass import getpass\n",
        "\n",
        "token = getpass()"
      ]
    },
    {
      "cell_type": "markdown",
      "id": "3d7df188",
      "metadata": {
        "id": "3d7df188"
      },
      "source": [
        "> **EXERCISE**: Augment the list of top repositories for a topic with some additional information about the user/organization the repository belong to: name, description, Github URL, no. of repositories, type (user or organization) etc."
      ]
    },
    {
      "cell_type": "markdown",
      "id": "bec97b1c",
      "metadata": {
        "id": "bec97b1c"
      },
      "source": [
        "### Acronyms\n",
        "\n",
        "In case you're feeling overwhelmed by all the acronyms, here are their expansions:\n",
        "- **REST**: Represetational State Transfer\n",
        "- **API**: Application Programming Interface\n",
        "- **JSON**: JavaScript Object Notation\n",
        "- **URL**: Universal Resource Locator\n",
        "\n",
        "Don't worry, you needn't remember any of them!\n"
      ]
    },
    {
      "cell_type": "markdown",
      "id": "805dad34",
      "metadata": {
        "id": "805dad34"
      },
      "source": [
        "Let's save our work before continuing."
      ]
    },
    {
      "cell_type": "code",
      "execution_count": null,
      "id": "52457b64",
      "metadata": {
        "id": "52457b64",
        "outputId": "268b5cb6-fabf-4106-a4c8-5174f0d7e60a"
      },
      "outputs": [
        {
          "data": {
            "application/javascript": [
              "window.require && require([\"base/js/namespace\"],function(Jupyter){Jupyter.notebook.save_checkpoint()})"
            ],
            "text/plain": [
              "<IPython.core.display.Javascript object>"
            ]
          },
          "metadata": {},
          "output_type": "display_data"
        },
        {
          "name": "stdout",
          "output_type": "stream",
          "text": [
            "[jovian] Updating notebook \"aakashns/python-web-scraping-and-rest-api\" on https://jovian.ai\u001b[0m\n",
            "[jovian] Committed successfully! https://jovian.ai/aakashns/python-web-scraping-and-rest-api\u001b[0m\n"
          ]
        },
        {
          "data": {
            "text/plain": [
              "'https://jovian.ai/aakashns/python-web-scraping-and-rest-api'"
            ]
          },
          "execution_count": 109,
          "metadata": {},
          "output_type": "execute_result"
        }
      ],
      "source": [
        "jovian.commit()"
      ]
    },
    {
      "cell_type": "markdown",
      "id": "a27d2799",
      "metadata": {
        "id": "a27d2799"
      },
      "source": [
        "## Crawling Websites by Parsing Links on a Page"
      ]
    },
    {
      "cell_type": "markdown",
      "id": "e4a077a6",
      "metadata": {
        "id": "e4a077a6"
      },
      "source": [
        "When you scrape you a web page, you are likely to find several links on the page. For, example, on the page https://github.com/topics, you will find links to several topic pages. You can parse all the topic page links from this page, and scrape those pages to get the top repositories for each topic. Further, you can parse all the repository links from a topic page and scrape individual repository pages, and so on. \n",
        "\n",
        "The process of scraping a page, parsing links and then using the links to parsing other pages on the same site is called **web crawling**. It's how search engines like Google are able to index and search data from millions of websites on the internet. Python offer libraries like [Scrapy](https://scrapy.org) for crawling websites easily.\n",
        "\n",
        "You can do some basic crawling with `requests`, Beautiful soup, and few simple `for` loops in Python. Here's an exercise to get you started\n",
        "\n",
        "\n",
        "> **EXERCISE**: Get the top 100 repositories for the all the featured topics on GitHub. You might find these URLs useful:\n",
        "> \n",
        "> * Eighth page of featured topics: https://github.com/topics/?page=8  \n",
        "> * Second page of top repositories for a topic: https://github.com/topics/machine-learning?page=2 "
      ]
    },
    {
      "cell_type": "code",
      "execution_count": null,
      "id": "a37b5074",
      "metadata": {
        "id": "a37b5074"
      },
      "outputs": [],
      "source": []
    },
    {
      "cell_type": "code",
      "execution_count": null,
      "id": "f6f0c84c",
      "metadata": {
        "id": "f6f0c84c"
      },
      "outputs": [],
      "source": []
    },
    {
      "cell_type": "code",
      "execution_count": null,
      "id": "991d81ea",
      "metadata": {
        "id": "991d81ea"
      },
      "outputs": [],
      "source": []
    },
    {
      "cell_type": "code",
      "execution_count": null,
      "id": "40c2b6a4",
      "metadata": {
        "id": "40c2b6a4"
      },
      "outputs": [],
      "source": []
    },
    {
      "cell_type": "code",
      "execution_count": null,
      "id": "3e00d20f",
      "metadata": {
        "id": "3e00d20f"
      },
      "outputs": [],
      "source": []
    },
    {
      "cell_type": "code",
      "execution_count": null,
      "id": "e89aeb13",
      "metadata": {
        "id": "e89aeb13"
      },
      "outputs": [],
      "source": []
    },
    {
      "cell_type": "code",
      "execution_count": null,
      "id": "2861a53a",
      "metadata": {
        "id": "2861a53a"
      },
      "outputs": [],
      "source": []
    },
    {
      "cell_type": "code",
      "execution_count": null,
      "id": "aec34103",
      "metadata": {
        "id": "aec34103"
      },
      "outputs": [],
      "source": []
    },
    {
      "cell_type": "code",
      "execution_count": null,
      "id": "0bb7bc70",
      "metadata": {
        "scrolled": true,
        "id": "0bb7bc70",
        "outputId": "9f14cf2b-ca06-442b-d1c4-7207297a2d03"
      },
      "outputs": [
        {
          "data": {
            "application/javascript": [
              "window.require && require([\"base/js/namespace\"],function(Jupyter){Jupyter.notebook.save_checkpoint()})"
            ],
            "text/plain": [
              "<IPython.core.display.Javascript object>"
            ]
          },
          "metadata": {},
          "output_type": "display_data"
        },
        {
          "name": "stdout",
          "output_type": "stream",
          "text": [
            "[jovian] Updating notebook \"samanvitha/python-web-scraping-and-rest-api\" on https://jovian.ai\u001b[0m\n",
            "[jovian] Committed successfully! https://jovian.ai/samanvitha/python-web-scraping-and-rest-api\u001b[0m\n"
          ]
        },
        {
          "data": {
            "text/plain": [
              "'https://jovian.ai/samanvitha/python-web-scraping-and-rest-api'"
            ]
          },
          "execution_count": 113,
          "metadata": {},
          "output_type": "execute_result"
        }
      ],
      "source": [
        "jovian.commit()"
      ]
    },
    {
      "cell_type": "markdown",
      "id": "29d74154",
      "metadata": {
        "id": "29d74154"
      },
      "source": [
        "## Summary and Further Reading\n",
        "\n",
        "We've covered the following topics in this tutorial:\n",
        "\n",
        "* Downloading web pages using the requests library\n",
        "* Inspecting the HTML source code of a web page\n",
        "* Parsing parts of a website using Beautiful Soup\n",
        "* Writing parsed information into CSV files\n",
        "* Using a REST API to retrieve data as JSON\n",
        "* Combining data from multiple sources\n",
        "* Using links on a page to crawl a website\n",
        "\n",
        "\n",
        "Here are some things to keep in mind w.r.t. web scraping:\n",
        "\n",
        "* Most websites disallow web scraping for commercial purposes\n",
        "* Prefer using web scraping only for learning and research purposes\n",
        "* Some websites may block your IP or stop sending valid information if you send too many requests\n",
        "* Review the terms and conditions of a website before scraping data from it\n",
        "* Remove sensitive and personally identifiable information before publishing a dataset online\n",
        "* Use official REST APIs wherever available, with proper API keys\n",
        "* Scraping data that you see after logging in is harder (it requires special cookies and headers)\n",
        "* Websites change their HTML layout frequently, which may cause your scarping scripts to break\n",
        "* Websites with dynamic content cannot be scraped using BeautifulSoup. One way to scrape dynamic website is by using Selenium\n",
        "\n",
        "\n",
        "Here are some more examples of scraping:\n",
        "\n",
        "* https://medium.com/@msalmon00/web-scraping-job-postings-from-indeed-96bd588dcb4b\n",
        "* https://medium.com/the-innovation/scraping-medium-with-python-beautiful-soup-3314f898bbf5\n",
        "* https://medium.com/brainstation23/how-to-become-a-pro-with-scraping-youtube-videos-in-3-minutes-a6ac56021961\n",
        "* https://www.freecodecamp.org/news/web-scraping-python-tutorial-how-to-scrape-data-from-a-website/\n",
        "* https://www.freecodecamp.org/news/scraping-wikipedia-articles-with-python/\n",
        "* https://towardsdatascience.com/web-scraping-yahoo-finance-477fe3daa852\n",
        "* https://www.analyticsvidhya.com/blog/2020/10/web-scraping-selenium-in-python/\n",
        "* https://medium.com/ml-book/web-scraping-using-selenium-python-3be7b8762747\n",
        "\n",
        "### Project Ideas\n",
        "\n",
        "Here are some project ideas if you're looking to work on a web scraping project. You can work of one of these ideas, or pick something entirely different.\n",
        "\n",
        "1. **Dataset of Books (Amazon)**: Create a dataset of popular books in different genres by scraping the site: https://www.amazon.in/gp/bestsellers/books/ \n",
        "\n",
        "\n",
        "2. **Dataset of Quotes (BrainyQuote)**: Create a dataset of quotes for different tags/topics by scraping the site :https://www.brainyquote.com/topics\n",
        "\n",
        "\n",
        "3. **Dataset of Movies (TMDb)**: The Movie Database (TMDb) contains information about thousands of movies from around the world: https://www.themoviedb.org/movie . Can you scape the site to create a dataset of movies containing information like title, release date, cast, etc. ? You can also create datasets of movie actors/actresses/directors using this site.\n",
        "\n",
        "\n",
        "4. **Dataset of TV Shows (TMDb)**: The Movie Database (TMDb) contains information about thousands of TV shows from around the world: https://www.themoviedb.org/tv . Can you scrape the site to create a dataset of TV shows containing information like title, release date, cast, crew, etc. ? You can also create datasets of TV actors/actresses/directors using this site.\n",
        "\n",
        "\n",
        "5. **Collections of Popular Repositories (GitHub)**: Scape GitHub collections ( https://github.com/collections ) to create a dataset of popular repositories organized by different use cases.\n",
        "\n",
        "\n",
        "6. **Dataset of Books (BooksToScrape)**: Create a dataset of popular books in different genres by scraping the site *Books To Scrape*: http://books.toscrape.com\n",
        "\n",
        "\n",
        "7. **Dataset of Quotes (QuotesToScrape)**: Create a dataset of popular quotes for different tags by scraping the site *Quotes To Scrape*: http://quotes.toscrape.com\n",
        "\n",
        "\n",
        "8. **Scrape a User's Repositories (GitHub)**: Given someone's GitHub username, can you scrape their GitHub profile to create a list of their repositories with information like repository name, no. of stars, no. of forks, etc.?\n",
        "\n",
        "\n",
        "9. **Scrape User's Reviews (ConsumerAffairs)**: Consumeraffairs contains reviews about thousands of brands: https://www.consumeraffairs.com/. Can you scrape any category from the site to create a dataset of Reviews containing information like Title, Rating, Reviews and toll-free number etc.?.\n",
        "\n",
        "\n",
        "10. **Songs Dataset (AZLyrics)**: Create a dataset of songs by scraping AZLyrics: https://www.azlyrics.com/f.html . Capture information like song title, artist name, year of release and lyrics URL. \n",
        "\n",
        "\n",
        "11. **Scrape a Popular Blog**: Create a dataset of blog posts on a popular blog e.g. https://m.signalvnoise.com/search/ . The dataset can contain information like the blog title, published date, tags, author, link to blog post, etc.\n",
        "\n",
        "\n",
        "12. **Weekly Top Songs (Top 40 Weekly)**: Create a dataset of the top 40 songs of each week in a given year by scraping the site https://top40weekly.com . Capture information like song title, artist, weekly rank, etc."
      ]
    },
    {
      "cell_type": "markdown",
      "id": "96af5186",
      "metadata": {
        "id": "96af5186"
      },
      "source": [
        "## Questions for Revision\n",
        "1. Why do we need to scrape websites? \n",
        "2. What different tools can we use to scrape websites?\n",
        "3. What are the applications of web-scraping?\n",
        "4. What are the steps involved in web-scraping?\n",
        "5. What are the techniques to get data from websites?\n",
        "6. What technique is used to retrieve data in a machine-readable format in python?\n",
        "7. How can one download a webpage from the internet using python?\n",
        "8. What library do we need for downloading the webpage in python?\n",
        "9. What function from the library do we need for downloading the webpage?\n",
        "10. How do we make sure that the webpage is downloaded successfully?\n",
        "11. How can we access the content of the downloaded webpage?\n",
        "12. What function do we need to find out the total number of characters in the downloaded webpage?\n",
        "13. What defines the content and structure of the downloaded webpage?\n",
        "14. What is a source code? In what language is it usually written in?\n",
        "15. How different are the original webpage and scraped webpage?\n",
        "16. How many parts does HTML tag have? What are they?\n",
        "17. Is it possible to be blocked by website when you scrape more pages? If yes, how can one avoid this?\n",
        "18. How do we get the information we need from the downloaded website?\n",
        "19. What library do we need to install to extract information from HTML source code?\n",
        "20. What is doc object?\n",
        "21. How can we access attributes of a tag?\n",
        "22. How do we find the direct children of the tag?\n",
        "23. What is the purpose of strip()?\n",
        "24. How can we write the extracted information into CSV files?\n",
        "25. What are REST APIs? How are they different from usual URLs?\n",
        "26. What is the official way to extract information from a website? What do we need for that? How does it help one in extracting information?\n",
        "27. What websites offer public APIs?\n",
        "28. Can we extract data from all the websites on web? If not, why?\n",
        "29. What is getpass()?\n",
        "30. What is web crawling and how is it different from web scraping?\n",
        "31. What are the applications of web crawling?\n",
        "32. What does python offer for crawling websites?\n",
        "33. How do we extract data from dynamic websites?"
      ]
    },
    {
      "cell_type": "markdown",
      "id": "7c761bcd",
      "metadata": {
        "id": "7c761bcd"
      },
      "source": [
        "## Solutions for Exercises"
      ]
    },
    {
      "cell_type": "markdown",
      "id": "f8250d3b",
      "metadata": {
        "id": "f8250d3b"
      },
      "source": [
        "> **EXERCISE**: Find the first occurrence of each of these tags in `doc`: `div`, `img`, `span`, `p`, etc."
      ]
    },
    {
      "cell_type": "code",
      "execution_count": null,
      "id": "f0b1898d",
      "metadata": {
        "id": "f0b1898d",
        "outputId": "63f06640-4151-44f4-bc52-7a01d0fa122f"
      },
      "outputs": [
        {
          "data": {
            "text/plain": [
              "<div class=\"position-relative js-header-wrapper\">\n",
              "<a class=\"px-2 py-4 color-bg-accent-emphasis color-fg-on-emphasis show-on-focus js-skip-to-content\" href=\"#start-of-content\">Skip to content</a>\n",
              "<span class=\"progress-pjax-loader js-pjax-loader-bar Progress position-fixed width-full\" data-view-component=\"true\">\n",
              "<span class=\"Progress-item progress-pjax-loader-bar left-0 top-0 color-bg-accent-emphasis\" data-view-component=\"true\" style=\"width: 0%;\"></span>\n",
              "</span>\n",
              "<header class=\"Header-old header-logged-out js-details-container Details position-relative f4 py-2\" role=\"banner\">\n",
              "<div class=\"container-lg d-lg-flex flex-items-center p-responsive\">\n",
              "<div class=\"d-flex flex-justify-between flex-items-center\">\n",
              "<a aria-label=\"Homepage\" class=\"mr-4 color-fg-inherit\" data-ga-click=\"(Logged out) Header, go to homepage, icon:logo-wordmark\" href=\"https://github.com/\">\n",
              "<svg aria-hidden=\"true\" class=\"octicon octicon-mark-github\" data-view-component=\"true\" height=\"32\" version=\"1.1\" viewbox=\"0 0 16 16\" width=\"32\">\n",
              "<path d=\"M8 0C3.58 0 0 3.58 0 8c0 3.54 2.29 6.53 5.47 7.59.4.07.55-.17.55-.38 0-.19-.01-.82-.01-1.49-2.01.37-2.53-.49-2.69-.94-.09-.23-.48-.94-.82-1.13-.28-.15-.68-.52-.01-.53.63-.01 1.08.58 1.23.82.72 1.21 1.87.87 2.33.66.07-.52.28-.87.51-1.07-1.78-.2-3.64-.89-3.64-3.95 0-.87.31-1.59.82-2.15-.08-.2-.36-1.02.08-2.12 0 0 .67-.21 2.2.82.64-.18 1.32-.27 2-.27.68 0 1.36.09 2 .27 1.53-1.04 2.2-.82 2.2-.82.44 1.1.16 1.92.08 2.12.51.56.82 1.27.82 2.15 0 3.07-1.87 3.75-3.65 3.95.29.25.54.73.54 1.48 0 1.07-.01 1.93-.01 2.2 0 .21.15.46.55.38A8.013 8.013 0 0016 8c0-4.42-3.58-8-8-8z\" fill-rule=\"evenodd\"></path>\n",
              "</svg>\n",
              "</a>\n",
              "<div class=\"d-lg-none css-truncate css-truncate-target width-fit p-2\">\n",
              "</div>\n",
              "<div class=\"d-flex flex-items-center\">\n",
              "<a class=\"d-inline-block d-lg-none f5 no-underline border color-border-default rounded-2 px-2 py-1 mr-3 mr-sm-5 color-fg-inherit\" data-hydro-click='{\"event_type\":\"authentication.click\",\"payload\":{\"location_in_page\":\"site header\",\"repository_id\":null,\"auth_type\":\"SIGN_UP\",\"originating_url\":\"https://github.com/topics/machine-learning\",\"user_id\":null}}' data-hydro-click-hmac=\"e755e218b5b5c8ea0dcf7c1afea104ce5b0e7bb40929d477942f46cf5b206533\" href=\"/signup?ref_cta=Sign+up&amp;ref_loc=header+logged+out&amp;ref_page=%2Ftopics%2Fmachine-learning&amp;source=header\">\n",
              "              Sign up\n",
              "            </a>\n",
              "<button aria-expanded=\"false\" aria-label=\"Toggle navigation\" class=\"js-details-target btn-link d-lg-none mt-1 color-fg-inherit\" data-view-component=\"true\" type=\"button\"> <svg aria-hidden=\"true\" class=\"octicon octicon-three-bars\" data-view-component=\"true\" height=\"24\" version=\"1.1\" viewbox=\"0 0 16 16\" width=\"24\">\n",
              "<path d=\"M1 2.75A.75.75 0 011.75 2h12.5a.75.75 0 110 1.5H1.75A.75.75 0 011 2.75zm0 5A.75.75 0 011.75 7h12.5a.75.75 0 110 1.5H1.75A.75.75 0 011 7.75zM1.75 12a.75.75 0 100 1.5h12.5a.75.75 0 100-1.5H1.75z\" fill-rule=\"evenodd\"></path>\n",
              "</svg>\n",
              "</button> </div>\n",
              "</div>\n",
              "<div class=\"HeaderMenu HeaderMenu--logged-out position-fixed top-0 right-0 bottom-0 height-fit position-lg-relative d-lg-flex flex-justify-between flex-items-center flex-auto\">\n",
              "<div class=\"d-flex d-lg-none flex-justify-end border-bottom color-bg-subtle p-3\">\n",
              "<button aria-expanded=\"false\" aria-label=\"Toggle navigation\" class=\"js-details-target btn-link\" data-view-component=\"true\" type=\"button\"> <svg aria-hidden=\"true\" class=\"octicon octicon-x color-fg-muted\" data-view-component=\"true\" height=\"24\" version=\"1.1\" viewbox=\"0 0 24 24\" width=\"24\">\n",
              "<path d=\"M5.72 5.72a.75.75 0 011.06 0L12 10.94l5.22-5.22a.75.75 0 111.06 1.06L13.06 12l5.22 5.22a.75.75 0 11-1.06 1.06L12 13.06l-5.22 5.22a.75.75 0 01-1.06-1.06L10.94 12 5.72 6.78a.75.75 0 010-1.06z\" fill-rule=\"evenodd\"></path>\n",
              "</svg>\n",
              "</button> </div>\n",
              "<nav aria-label=\"Global\" class=\"mt-0 px-3 px-lg-0 mb-5 mb-lg-0\">\n",
              "<ul class=\"d-lg-flex list-style-none\">\n",
              "<li class=\"mr-0 mr-lg-3 position-relative flex-wrap flex-justify-between flex-items-center border-bottom border-lg-bottom-0 d-block d-lg-flex flex-lg-nowrap flex-lg-items-center\">\n",
              "<details class=\"HeaderMenu-details details-overlay details-reset width-full\">\n",
              "<summary class=\"HeaderMenu-summary HeaderMenu-link px-0 py-3 border-0 no-wrap d-block d-lg-inline-block\">\n",
              "        Why GitHub?\n",
              "        <svg class=\"icon-chevon-down-mktg position-absolute position-lg-relative\" fill=\"none\" viewbox=\"0 0 14 8\" x=\"0\" xml:space=\"preserve\" y=\"0\"><path d=\"M1,1l6.2,6L13,1\"></path></svg>\n",
              "</summary>\n",
              "<div class=\"dropdown-menu flex-auto rounded px-0 mt-0 pb-4 p-lg-4 position-relative position-lg-absolute left-0 left-lg-n4\">\n",
              "<ul class=\"list-style-none f5 pb-1\">\n",
              "<li>\n",
              "<a class=\"lh-condensed-ultra d-block no-underline position-relative Link--primary text-bold py-2\" data-analytics-event='{\"category\":\"Header dropdown (logged out), Why GitHub?\",\"action\":\"click to go to Features\",\"label\":\"ref_page:/topics/machine-learning;ref_cta:Features;\"}' data-hydro-click='{\"event_type\":\"analytics.event\",\"payload\":{\"category\":\"Header dropdown (logged out), Why GitHub?\",\"action\":\"click to go to Features\",\"label\":\"ref_page:/topics/machine-learning;ref_cta:Features;\",\"originating_url\":\"https://github.com/topics/machine-learning\",\"user_id\":null}}' data-hydro-click-hmac=\"cf5c2c8c8b8a91b082eb88f4c5f7e6db197d52190cae4068b05ccb057f34430c\" href=\"/features\">\n",
              "      Features\n",
              "</a> </li>\n",
              "<li>\n",
              "<a class=\"lh-condensed-ultra d-block no-underline position-relative Link--secondary py-2\" data-analytics-event='{\"category\":\"Header dropdown (logged out), Why GitHub?\",\"action\":\"click to go to Mobile\",\"label\":\"ref_page:/topics/machine-learning;ref_cta:Mobile;\"}' data-hydro-click='{\"event_type\":\"analytics.event\",\"payload\":{\"category\":\"Header dropdown (logged out), Why GitHub?\",\"action\":\"click to go to Mobile\",\"label\":\"ref_page:/topics/machine-learning;ref_cta:Mobile;\",\"originating_url\":\"https://github.com/topics/machine-learning\",\"user_id\":null}}' data-hydro-click-hmac=\"44cd73fe2c2087b060b1838489a10f261c51a8d7f2e984eff3621f5f4f60f0aa\" href=\"/mobile\">\n",
              "      Mobile\n",
              "</a> </li>\n",
              "<li>\n",
              "<a class=\"lh-condensed-ultra d-block no-underline position-relative Link--secondary py-2\" data-analytics-event='{\"category\":\"Header dropdown (logged out), Why GitHub?\",\"action\":\"click to go to Actions\",\"label\":\"ref_page:/topics/machine-learning;ref_cta:Actions;\"}' data-hydro-click='{\"event_type\":\"analytics.event\",\"payload\":{\"category\":\"Header dropdown (logged out), Why GitHub?\",\"action\":\"click to go to Actions\",\"label\":\"ref_page:/topics/machine-learning;ref_cta:Actions;\",\"originating_url\":\"https://github.com/topics/machine-learning\",\"user_id\":null}}' data-hydro-click-hmac=\"038474db69a707a3c57298c7afccecea912284f0278fc1c1b5f7b4ea50f9b3e7\" href=\"/features/actions\">\n",
              "      Actions\n",
              "</a> </li>\n",
              "<li>\n",
              "<a class=\"lh-condensed-ultra d-block no-underline position-relative Link--secondary py-2\" data-analytics-event='{\"category\":\"Header dropdown (logged out), Why GitHub?\",\"action\":\"click to go to Codespaces\",\"label\":\"ref_page:/topics/machine-learning;ref_cta:Codespaces;\"}' data-hydro-click='{\"event_type\":\"analytics.event\",\"payload\":{\"category\":\"Header dropdown (logged out), Why GitHub?\",\"action\":\"click to go to Codespaces\",\"label\":\"ref_page:/topics/machine-learning;ref_cta:Codespaces;\",\"originating_url\":\"https://github.com/topics/machine-learning\",\"user_id\":null}}' data-hydro-click-hmac=\"11553057316654b641be126483cbf89667d3e1c56f969b476af40b523b30cae5\" href=\"/features/codespaces\">\n",
              "      Codespaces\n",
              "</a> </li>\n",
              "<li>\n",
              "<a class=\"lh-condensed-ultra d-block no-underline position-relative Link--secondary py-2\" data-analytics-event='{\"category\":\"Header dropdown (logged out), Why GitHub?\",\"action\":\"click to go to Packages\",\"label\":\"ref_page:/topics/machine-learning;ref_cta:Packages;\"}' data-hydro-click='{\"event_type\":\"analytics.event\",\"payload\":{\"category\":\"Header dropdown (logged out), Why GitHub?\",\"action\":\"click to go to Packages\",\"label\":\"ref_page:/topics/machine-learning;ref_cta:Packages;\",\"originating_url\":\"https://github.com/topics/machine-learning\",\"user_id\":null}}' data-hydro-click-hmac=\"4d77db26992345a36eefc83da3fb1c7856bda3bcd86ef0b5fb9468838d8ad916\" href=\"/features/packages\">\n",
              "      Packages\n",
              "</a> </li>\n",
              "<li>\n",
              "<a class=\"lh-condensed-ultra d-block no-underline position-relative Link--secondary py-2\" data-analytics-event='{\"category\":\"Header dropdown (logged out), Why GitHub?\",\"action\":\"click to go to Security\",\"label\":\"ref_page:/topics/machine-learning;ref_cta:Security;\"}' data-hydro-click='{\"event_type\":\"analytics.event\",\"payload\":{\"category\":\"Header dropdown (logged out), Why GitHub?\",\"action\":\"click to go to Security\",\"label\":\"ref_page:/topics/machine-learning;ref_cta:Security;\",\"originating_url\":\"https://github.com/topics/machine-learning\",\"user_id\":null}}' data-hydro-click-hmac=\"c1f7a6d533773a2ea93146061c99e4a947747108826c56adedbc0347aa713831\" href=\"/features/security\">\n",
              "      Security\n",
              "</a> </li>\n",
              "<li>\n",
              "<a class=\"lh-condensed-ultra d-block no-underline position-relative Link--secondary py-2\" data-analytics-event='{\"category\":\"Header dropdown (logged out), Why GitHub?\",\"action\":\"click to go to Code review\",\"label\":\"ref_page:/topics/machine-learning;ref_cta:Code review;\"}' data-hydro-click='{\"event_type\":\"analytics.event\",\"payload\":{\"category\":\"Header dropdown (logged out), Why GitHub?\",\"action\":\"click to go to Code review\",\"label\":\"ref_page:/topics/machine-learning;ref_cta:Code review;\",\"originating_url\":\"https://github.com/topics/machine-learning\",\"user_id\":null}}' data-hydro-click-hmac=\"c62385ca60fb597914072a4dd997f46b8f4f496cfbaaf926894add62196e5d5b\" href=\"/features/code-review\">\n",
              "      Code review\n",
              "</a> </li>\n",
              "<li>\n",
              "<a class=\"lh-condensed-ultra d-block no-underline position-relative Link--secondary py-2\" data-analytics-event='{\"category\":\"Header dropdown (logged out), Why GitHub?\",\"action\":\"click to go to Issues\",\"label\":\"ref_page:/topics/machine-learning;ref_cta:Issues;\"}' data-hydro-click='{\"event_type\":\"analytics.event\",\"payload\":{\"category\":\"Header dropdown (logged out), Why GitHub?\",\"action\":\"click to go to Issues\",\"label\":\"ref_page:/topics/machine-learning;ref_cta:Issues;\",\"originating_url\":\"https://github.com/topics/machine-learning\",\"user_id\":null}}' data-hydro-click-hmac=\"6a1bbd35852767701cbf7e9ef17c4613cfed470160e9e7b4ce36d6de5939727d\" href=\"/features/issues\">\n",
              "      Issues\n",
              "</a> </li>\n",
              "<li>\n",
              "<a class=\"lh-condensed-ultra d-block no-underline position-relative Link--secondary py-2\" data-analytics-event='{\"category\":\"Header dropdown (logged out), Why GitHub?\",\"action\":\"click to go to Integrations\",\"label\":\"ref_page:/topics/machine-learning;ref_cta:Integrations;\"}' data-hydro-click='{\"event_type\":\"analytics.event\",\"payload\":{\"category\":\"Header dropdown (logged out), Why GitHub?\",\"action\":\"click to go to Integrations\",\"label\":\"ref_page:/topics/machine-learning;ref_cta:Integrations;\",\"originating_url\":\"https://github.com/topics/machine-learning\",\"user_id\":null}}' data-hydro-click-hmac=\"cd307afc175c539ab670058c8b5463745cd10bd590f6bd0d9d231546d68ef8fb\" href=\"/features/integrations\">\n",
              "      Integrations\n",
              "</a> </li>\n",
              "<li>\n",
              "<a class=\"lh-condensed-ultra d-block no-underline position-relative Link--primary text-bold border-top pt-4 pb-2 mt-3\" data-analytics-event='{\"category\":\"Header dropdown (logged out), Why GitHub?\",\"action\":\"click to go to GitHub Sponsors\",\"label\":\"ref_page:/topics/machine-learning;ref_cta:GitHub Sponsors;\"}' data-hydro-click='{\"event_type\":\"analytics.event\",\"payload\":{\"category\":\"Header dropdown (logged out), Why GitHub?\",\"action\":\"click to go to GitHub Sponsors\",\"label\":\"ref_page:/topics/machine-learning;ref_cta:GitHub Sponsors;\",\"originating_url\":\"https://github.com/topics/machine-learning\",\"user_id\":null}}' data-hydro-click-hmac=\"ec5e04dea2323ef28019dc347ec4616a671d21018dafcd27525b4afe0c91ea55\" href=\"/sponsors\">\n",
              "      GitHub Sponsors\n",
              "</a> </li>\n",
              "<li>\n",
              "<a class=\"lh-condensed-ultra d-block no-underline position-relative Link--primary text-bold py-2\" data-analytics-event='{\"category\":\"Header dropdown (logged out), Why GitHub?\",\"action\":\"click to go to Customer stories\",\"label\":\"ref_page:/topics/machine-learning;ref_cta:Customer stories;\"}' data-hydro-click='{\"event_type\":\"analytics.event\",\"payload\":{\"category\":\"Header dropdown (logged out), Why GitHub?\",\"action\":\"click to go to Customer stories\",\"label\":\"ref_page:/topics/machine-learning;ref_cta:Customer stories;\",\"originating_url\":\"https://github.com/topics/machine-learning\",\"user_id\":null}}' data-hydro-click-hmac=\"81f83e7334fbd3ef17561698dc7fffe4b09f718ba14946e55cb0d8fb76e4dd18\" href=\"/customer-stories\">\n",
              "      Customer stories\n",
              "</a> </li>\n",
              "</ul>\n",
              "</div>\n",
              "</details>\n",
              "</li>\n",
              "<li class=\"mr-0 mr-lg-3 position-relative flex-wrap flex-justify-between flex-items-center border-bottom border-lg-bottom-0 d-block d-lg-flex flex-lg-nowrap flex-lg-items-center\">\n",
              "<a class=\"HeaderMenu-link no-underline py-3 d-block d-lg-inline-block\" data-analytics-event='{\"category\":\"Header menu top item (logged out)\",\"action\":\"click to go to Team\",\"label\":\"ref_page:/topics/machine-learning;ref_cta:Team;\"}' data-hydro-click='{\"event_type\":\"analytics.event\",\"payload\":{\"category\":\"Header menu top item (logged out)\",\"action\":\"click to go to Team\",\"label\":\"ref_page:/topics/machine-learning;ref_cta:Team;\",\"originating_url\":\"https://github.com/topics/machine-learning\",\"user_id\":null}}' data-hydro-click-hmac=\"b19e66b512aa3d1ec4f913987dac03b09dc9a8dbd5b73af28c5146126299681c\" href=\"/team\">Team</a>\n",
              "</li>\n",
              "<li class=\"mr-0 mr-lg-3 position-relative flex-wrap flex-justify-between flex-items-center border-bottom border-lg-bottom-0 d-block d-lg-flex flex-lg-nowrap flex-lg-items-center\">\n",
              "<a class=\"HeaderMenu-link no-underline py-3 d-block d-lg-inline-block\" data-analytics-event='{\"category\":\"Header menu top item (logged out)\",\"action\":\"click to go to Enterprise\",\"label\":\"ref_page:/topics/machine-learning;ref_cta:Enterprise;\"}' data-hydro-click='{\"event_type\":\"analytics.event\",\"payload\":{\"category\":\"Header menu top item (logged out)\",\"action\":\"click to go to Enterprise\",\"label\":\"ref_page:/topics/machine-learning;ref_cta:Enterprise;\",\"originating_url\":\"https://github.com/topics/machine-learning\",\"user_id\":null}}' data-hydro-click-hmac=\"a6426118a4bcbc78ac48ffce3035372c339f82be4e9ee10f083874cc79b54ff8\" href=\"/enterprise\">Enterprise</a>\n",
              "</li>\n",
              "<li class=\"mr-0 mr-lg-3 position-relative flex-wrap flex-justify-between flex-items-center border-bottom border-lg-bottom-0 d-block d-lg-flex flex-lg-nowrap flex-lg-items-center\">\n",
              "<details class=\"HeaderMenu-details details-overlay details-reset width-full\">\n",
              "<summary class=\"HeaderMenu-summary HeaderMenu-link px-0 py-3 border-0 no-wrap d-block d-lg-inline-block\">\n",
              "        Explore\n",
              "        <svg class=\"icon-chevon-down-mktg position-absolute position-lg-relative\" fill=\"none\" viewbox=\"0 0 14 8\" x=\"0\" xml:space=\"preserve\" y=\"0\"><path d=\"M1,1l6.2,6L13,1\"></path></svg>\n",
              "</summary>\n",
              "<div class=\"dropdown-menu flex-auto rounded px-0 mt-0 pb-4 p-lg-4 position-relative position-lg-absolute left-0 left-lg-n4\">\n",
              "<ul class=\"list-style-none f5 pb-1\">\n",
              "<li>\n",
              "<a class=\"lh-condensed-ultra d-block no-underline position-relative Link--primary text-bold py-2\" data-analytics-event='{\"category\":\"Header dropdown (logged out), Explore\",\"action\":\"click to go to Explore GitHub\",\"label\":\"ref_page:/topics/machine-learning;ref_cta:Explore GitHub;\"}' data-hydro-click='{\"event_type\":\"analytics.event\",\"payload\":{\"category\":\"Header dropdown (logged out), Explore\",\"action\":\"click to go to Explore GitHub\",\"label\":\"ref_page:/topics/machine-learning;ref_cta:Explore GitHub;\",\"originating_url\":\"https://github.com/topics/machine-learning\",\"user_id\":null}}' data-hydro-click-hmac=\"fb0ab8746b8916954b3b307ff150aa080672926024b10e230ca6e99bebb6d4be\" href=\"/explore\">\n",
              "      Explore GitHub\n",
              "</a> </li>\n",
              "<li class=\"color-fg-muted text-normal f6 text-mono mb-1 border-top pt-3 mt-3 mb-1\">Learn and contribute</li>\n",
              "<li>\n",
              "<a class=\"lh-condensed-ultra d-block no-underline position-relative Link--secondary py-2\" data-analytics-event='{\"category\":\"Header dropdown (logged out), Explore\",\"action\":\"click to go to Topics\",\"label\":\"ref_page:/topics/machine-learning;ref_cta:Topics;\"}' data-hydro-click='{\"event_type\":\"analytics.event\",\"payload\":{\"category\":\"Header dropdown (logged out), Explore\",\"action\":\"click to go to Topics\",\"label\":\"ref_page:/topics/machine-learning;ref_cta:Topics;\",\"originating_url\":\"https://github.com/topics/machine-learning\",\"user_id\":null}}' data-hydro-click-hmac=\"1e1504dfae3a5635c4dfdd0c41789f47212109384ee801aed6c421bd500e9a58\" href=\"/topics\">\n",
              "      Topics\n",
              "</a> </li>\n",
              "<li>\n",
              "<a class=\"lh-condensed-ultra d-block no-underline position-relative Link--secondary py-2\" data-analytics-event='{\"category\":\"Header dropdown (logged out), Explore\",\"action\":\"click to go to Collections\",\"label\":\"ref_page:/topics/machine-learning;ref_cta:Collections;\"}' data-hydro-click='{\"event_type\":\"analytics.event\",\"payload\":{\"category\":\"Header dropdown (logged out), Explore\",\"action\":\"click to go to Collections\",\"label\":\"ref_page:/topics/machine-learning;ref_cta:Collections;\",\"originating_url\":\"https://github.com/topics/machine-learning\",\"user_id\":null}}' data-hydro-click-hmac=\"1c3439b2d817ffe0d32c8bbf39b5b8c6e85a28017aaf8c442bea3eacd227043c\" href=\"/collections\">\n",
              "      Collections\n",
              "</a> </li>\n",
              "<li>\n",
              "<a class=\"lh-condensed-ultra d-block no-underline position-relative Link--secondary py-2\" data-analytics-event='{\"category\":\"Header dropdown (logged out), Explore\",\"action\":\"click to go to Trending\",\"label\":\"ref_page:/topics/machine-learning;ref_cta:Trending;\"}' data-hydro-click='{\"event_type\":\"analytics.event\",\"payload\":{\"category\":\"Header dropdown (logged out), Explore\",\"action\":\"click to go to Trending\",\"label\":\"ref_page:/topics/machine-learning;ref_cta:Trending;\",\"originating_url\":\"https://github.com/topics/machine-learning\",\"user_id\":null}}' data-hydro-click-hmac=\"c0c89f7b0a9e0f1d57601f468e644d19407c74b7f56c75912722960e793b6d16\" href=\"/trending\">\n",
              "      Trending\n",
              "</a> </li>\n",
              "<li>\n",
              "<a class=\"lh-condensed-ultra d-block no-underline position-relative Link--secondary py-2\" data-analytics-event='{\"category\":\"Header dropdown (logged out), Explore\",\"action\":\"click to go to Learning Lab\",\"label\":\"ref_page:/topics/machine-learning;ref_cta:Learning Lab;\"}' data-hydro-click='{\"event_type\":\"analytics.event\",\"payload\":{\"category\":\"Header dropdown (logged out), Explore\",\"action\":\"click to go to Learning Lab\",\"label\":\"ref_page:/topics/machine-learning;ref_cta:Learning Lab;\",\"originating_url\":\"https://github.com/topics/machine-learning\",\"user_id\":null}}' data-hydro-click-hmac=\"aa0849018e91da405dbde865cf0b1c28ba73d6fc9efaf861c08113ebbe3d615a\" href=\"https://lab.github.com/\">\n",
              "      Learning Lab\n",
              "</a> </li>\n",
              "<li>\n",
              "<a class=\"lh-condensed-ultra d-block no-underline position-relative Link--secondary py-2\" data-analytics-event='{\"category\":\"Header dropdown (logged out), Explore\",\"action\":\"click to go to Open source guides\",\"label\":\"ref_page:/topics/machine-learning;ref_cta:Open source guides;\"}' data-hydro-click='{\"event_type\":\"analytics.event\",\"payload\":{\"category\":\"Header dropdown (logged out), Explore\",\"action\":\"click to go to Open source guides\",\"label\":\"ref_page:/topics/machine-learning;ref_cta:Open source guides;\",\"originating_url\":\"https://github.com/topics/machine-learning\",\"user_id\":null}}' data-hydro-click-hmac=\"3d3821f51aae1922404c49447f5a483c5eac17ce3c7058f7782376adc3a26ad0\" href=\"https://opensource.guide\">\n",
              "      Open source guides\n",
              "</a> </li>\n",
              "<li class=\"color-fg-muted text-normal f6 text-mono mb-1 border-top pt-3 mt-3 mb-1\">Connect with others</li>\n",
              "<li>\n",
              "<a class=\"lh-condensed-ultra d-block no-underline position-relative Link--secondary py-2\" data-analytics-event='{\"category\":\"Header dropdown (logged out), Explore\",\"action\":\"click to go to The ReadME Project\",\"label\":\"ref_page:/topics/machine-learning;ref_cta:The ReadME Project;\"}' data-hydro-click='{\"event_type\":\"analytics.event\",\"payload\":{\"category\":\"Header dropdown (logged out), Explore\",\"action\":\"click to go to The ReadME Project\",\"label\":\"ref_page:/topics/machine-learning;ref_cta:The ReadME Project;\",\"originating_url\":\"https://github.com/topics/machine-learning\",\"user_id\":null}}' data-hydro-click-hmac=\"da3b598e0e73c3697babebfbf9efea0ed03dfe07a47cbcaf95c6cefc62d11bb8\" href=\"/readme\">\n",
              "      The ReadME Project\n",
              "</a> </li>\n",
              "<li>\n",
              "<a class=\"lh-condensed-ultra d-block no-underline position-relative Link--secondary py-2\" data-analytics-event='{\"category\":\"Header dropdown (logged out), Explore\",\"action\":\"click to go to Events\",\"label\":\"ref_page:/topics/machine-learning;ref_cta:Events;\"}' data-hydro-click='{\"event_type\":\"analytics.event\",\"payload\":{\"category\":\"Header dropdown (logged out), Explore\",\"action\":\"click to go to Events\",\"label\":\"ref_page:/topics/machine-learning;ref_cta:Events;\",\"originating_url\":\"https://github.com/topics/machine-learning\",\"user_id\":null}}' data-hydro-click-hmac=\"1eaa32e7b7e71867a012cfad3bdc9ba346d4b4a5f8afa500c439477b08222fae\" href=\"/events\">\n",
              "      Events\n",
              "</a> </li>\n",
              "<li>\n",
              "<a class=\"lh-condensed-ultra d-block no-underline position-relative Link--secondary py-2\" data-analytics-event='{\"category\":\"Header dropdown (logged out), Explore\",\"action\":\"click to go to Community forum\",\"label\":\"ref_page:/topics/machine-learning;ref_cta:Community forum;\"}' data-hydro-click='{\"event_type\":\"analytics.event\",\"payload\":{\"category\":\"Header dropdown (logged out), Explore\",\"action\":\"click to go to Community forum\",\"label\":\"ref_page:/topics/machine-learning;ref_cta:Community forum;\",\"originating_url\":\"https://github.com/topics/machine-learning\",\"user_id\":null}}' data-hydro-click-hmac=\"3f473c6a4ab5ae1d89aac2d3c63af28c158b908f7eccfa76f616d4ca97d94613\" href=\"https://github.community\">\n",
              "      Community forum\n",
              "</a> </li>\n",
              "<li>\n",
              "<a class=\"lh-condensed-ultra d-block no-underline position-relative Link--secondary py-2\" data-analytics-event='{\"category\":\"Header dropdown (logged out), Explore\",\"action\":\"click to go to GitHub Education\",\"label\":\"ref_page:/topics/machine-learning;ref_cta:GitHub Education;\"}' data-hydro-click='{\"event_type\":\"analytics.event\",\"payload\":{\"category\":\"Header dropdown (logged out), Explore\",\"action\":\"click to go to GitHub Education\",\"label\":\"ref_page:/topics/machine-learning;ref_cta:GitHub Education;\",\"originating_url\":\"https://github.com/topics/machine-learning\",\"user_id\":null}}' data-hydro-click-hmac=\"f5ba5879e42f8f98d17eaab25c0866223eee0f7d0ce61089a779f618aba6b593\" href=\"https://education.github.com\">\n",
              "      GitHub Education\n",
              "</a> </li>\n",
              "<li>\n",
              "<a class=\"lh-condensed-ultra d-block no-underline position-relative Link--secondary py-2\" data-analytics-event='{\"category\":\"Header dropdown (logged out), Explore\",\"action\":\"click to go to GitHub Stars program\",\"label\":\"ref_page:/topics/machine-learning;ref_cta:GitHub Stars program;\"}' data-hydro-click='{\"event_type\":\"analytics.event\",\"payload\":{\"category\":\"Header dropdown (logged out), Explore\",\"action\":\"click to go to GitHub Stars program\",\"label\":\"ref_page:/topics/machine-learning;ref_cta:GitHub Stars program;\",\"originating_url\":\"https://github.com/topics/machine-learning\",\"user_id\":null}}' data-hydro-click-hmac=\"63ddf172c17130dfc6ccaa991964fdd638ad698c9348499a173256fb4cbc1be4\" href=\"https://stars.github.com\">\n",
              "      GitHub Stars program\n",
              "</a> </li>\n",
              "</ul>\n",
              "</div>\n",
              "</details>\n",
              "</li>\n",
              "<li class=\"mr-0 mr-lg-3 position-relative flex-wrap flex-justify-between flex-items-center border-bottom border-lg-bottom-0 d-block d-lg-flex flex-lg-nowrap flex-lg-items-center\">\n",
              "<a class=\"HeaderMenu-link no-underline py-3 d-block d-lg-inline-block\" data-analytics-event='{\"category\":\"Header menu top item (logged out)\",\"action\":\"click to go to Marketplace\",\"label\":\"ref_page:/topics/machine-learning;ref_cta:Marketplace;\"}' data-hydro-click='{\"event_type\":\"analytics.event\",\"payload\":{\"category\":\"Header menu top item (logged out)\",\"action\":\"click to go to Marketplace\",\"label\":\"ref_page:/topics/machine-learning;ref_cta:Marketplace;\",\"originating_url\":\"https://github.com/topics/machine-learning\",\"user_id\":null}}' data-hydro-click-hmac=\"ba2e84dbf5c036bad823765ef50c9bd49f3b97b7ba4107508aebd051524557e4\" href=\"/marketplace\">Marketplace</a>\n",
              "</li>\n",
              "<li class=\"mr-0 mr-lg-3 position-relative flex-wrap flex-justify-between flex-items-center border-bottom border-lg-bottom-0 d-block d-lg-flex flex-lg-nowrap flex-lg-items-center\">\n",
              "<details class=\"HeaderMenu-details details-overlay details-reset width-full\">\n",
              "<summary class=\"HeaderMenu-summary HeaderMenu-link px-0 py-3 border-0 no-wrap d-block d-lg-inline-block\">\n",
              "        Pricing\n",
              "        <svg class=\"icon-chevon-down-mktg position-absolute position-lg-relative\" fill=\"none\" viewbox=\"0 0 14 8\" x=\"0\" xml:space=\"preserve\" y=\"0\"><path d=\"M1,1l6.2,6L13,1\"></path></svg>\n",
              "</summary>\n",
              "<div class=\"dropdown-menu flex-auto rounded px-0 mt-0 pb-4 p-lg-4 position-relative position-lg-absolute left-0 left-lg-n4\">\n",
              "<ul class=\"list-style-none f5 pb-1\">\n",
              "<li>\n",
              "<a class=\"lh-condensed-ultra d-block no-underline position-relative Link--primary text-bold py-2\" data-analytics-event='{\"category\":\"Header dropdown (logged out), Pricing\",\"action\":\"click to go to Plans\",\"label\":\"ref_page:/topics/machine-learning;ref_cta:Plans;\"}' data-hydro-click='{\"event_type\":\"analytics.event\",\"payload\":{\"category\":\"Header dropdown (logged out), Pricing\",\"action\":\"click to go to Plans\",\"label\":\"ref_page:/topics/machine-learning;ref_cta:Plans;\",\"originating_url\":\"https://github.com/topics/machine-learning\",\"user_id\":null}}' data-hydro-click-hmac=\"456f9d2ed8e16b95eb0440a3973a811f723580a53ff9cd574455ccb79679b461\" href=\"/pricing\">\n",
              "      Plans\n",
              "</a> </li>\n",
              "<li>\n",
              "<a class=\"lh-condensed-ultra d-block no-underline position-relative Link--secondary py-2\" data-analytics-event='{\"category\":\"Header dropdown (logged out), Pricing\",\"action\":\"click to go to Compare plans\",\"label\":\"ref_page:/topics/machine-learning;ref_cta:Compare plans;\"}' data-hydro-click='{\"event_type\":\"analytics.event\",\"payload\":{\"category\":\"Header dropdown (logged out), Pricing\",\"action\":\"click to go to Compare plans\",\"label\":\"ref_page:/topics/machine-learning;ref_cta:Compare plans;\",\"originating_url\":\"https://github.com/topics/machine-learning\",\"user_id\":null}}' data-hydro-click-hmac=\"34885664fef940ead2dd0db12e8f08fec42b7cbf566f9c685106db208c85d1a8\" href=\"/pricing#compare-features\">\n",
              "      Compare plans\n",
              "</a> </li>\n",
              "<li>\n",
              "<a class=\"lh-condensed-ultra d-block no-underline position-relative Link--secondary py-2\" data-analytics-event='{\"category\":\"Header dropdown (logged out), Pricing\",\"action\":\"click to go to Contact Sales\",\"label\":\"ref_page:/topics/machine-learning;ref_cta:Contact Sales;\"}' data-hydro-click='{\"event_type\":\"analytics.event\",\"payload\":{\"category\":\"Header dropdown (logged out), Pricing\",\"action\":\"click to go to Contact Sales\",\"label\":\"ref_page:/topics/machine-learning;ref_cta:Contact Sales;\",\"originating_url\":\"https://github.com/topics/machine-learning\",\"user_id\":null}}' data-hydro-click-hmac=\"42a052f23c6fe0d3f9200dff4d26337e348987469935aad0d9f3092360d2548e\" href=\"https://github.com/enterprise/contact\">\n",
              "      Contact Sales\n",
              "</a> </li>\n",
              "<li>\n",
              "<a class=\"lh-condensed-ultra d-block no-underline position-relative Link--primary text-bold border-top pt-4 pb-2 mt-3\" data-analytics-event='{\"category\":\"Header dropdown (logged out), Pricing\",\"action\":\"click to go to Education\",\"label\":\"ref_page:/topics/machine-learning;ref_cta:Education;\"}' data-hydro-click='{\"event_type\":\"analytics.event\",\"payload\":{\"category\":\"Header dropdown (logged out), Pricing\",\"action\":\"click to go to Education\",\"label\":\"ref_page:/topics/machine-learning;ref_cta:Education;\",\"originating_url\":\"https://github.com/topics/machine-learning\",\"user_id\":null}}' data-hydro-click-hmac=\"899e4c578bb977baa75a67718da705edff5132bbef3270a13de61fe7bb9b750f\" href=\"https://education.github.com\">\n",
              "      Education\n",
              "</a> </li>\n",
              "</ul>\n",
              "</div>\n",
              "</details>\n",
              "</li>\n",
              "</ul>\n",
              "</nav>\n",
              "<div class=\"d-lg-flex flex-items-center px-3 px-lg-0 text-center text-lg-left\">\n",
              "<div class=\"d-lg-flex min-width-0 mb-3 mb-lg-0\">\n",
              "<div class=\"header-search flex-auto js-site-search position-relative flex-self-stretch flex-md-self-auto mb-3 mb-md-0 mr-0 mr-md-3 scoped-search site-scoped-search js-jump-to\">\n",
              "<div class=\"position-relative\">\n",
              "<!-- '\"` --><!-- </textarea></xmp> --><form accept-charset=\"UTF-8\" action=\"/topics/machine-learning\" aria-label=\"Site\" class=\"js-site-search-form\" data-scope-id=\"2169\" data-scope-type=\"Topic\" data-scoped-search-url=\"/topics/machine-learning\" data-unscoped-search-url=\"/search\" method=\"get\" role=\"search\">\n",
              "<label class=\"form-control input-sm header-search-wrapper p-0 js-chromeless-input-container header-search-wrapper-jump-to position-relative d-flex flex-justify-between flex-items-center\">\n",
              "<input aria-autocomplete=\"list\" aria-controls=\"jump-to-results\" aria-expanded=\"false\" aria-haspopup=\"listbox\" aria-label=\"Search\" autocapitalize=\"off\" autocomplete=\"off\" class=\"form-control input-sm header-search-input jump-to-field js-jump-to-field js-site-search-focus js-site-search-field is-clearable\" data-hotkey=\"s,/\" data-jump-to-suggestions-path=\"/_graphql/GetSuggestedNavigationDestinations\" data-scoped-placeholder=\"Search\" data-test-selector=\"nav-search-input\" data-unscoped-placeholder=\"Search GitHub\" name=\"q\" placeholder=\"Search\" role=\"combobox\" spellcheck=\"false\" type=\"text\" value=\"\"/>\n",
              "<input class=\"js-data-jump-to-suggestions-path-csrf\" data-csrf=\"true\" type=\"hidden\" value=\"Eq0FRjNPLIWgw0BEQ1KaRHblIoB35S5qlknXXkls78U0YOSh7/d1GxhNj5RS+KWo3Rn+Pe/TEXnyov4TPRakpg==\"/>\n",
              "<input class=\"js-site-search-type-field\" name=\"type\" type=\"hidden\"/>\n",
              "<svg aria-hidden=\"true\" class=\"mr-1 header-search-key-slash\" height=\"20\" width=\"22\" xmlns=\"http://www.w3.org/2000/svg\"><path d=\"M3.5.5h12c1.7 0 3 1.3 3 3v13c0 1.7-1.3 3-3 3h-12c-1.7 0-3-1.3-3-3v-13c0-1.7 1.3-3 3-3z\" fill=\"none\" opacity=\".4\" stroke=\"#979A9C\"></path><path d=\"M11.8 6L8 15.1h-.9L10.8 6h1z\" fill=\"#979A9C\"></path></svg>\n",
              "<div class=\"Box position-absolute overflow-hidden d-none jump-to-suggestions js-jump-to-suggestions-container\">\n",
              "<ul class=\"d-none js-jump-to-suggestions-template-container\">\n",
              "<li class=\"d-flex flex-justify-start flex-items-center p-0 f5 navigation-item js-navigation-item js-jump-to-suggestion\" role=\"option\">\n",
              "<a class=\"no-underline d-flex flex-auto flex-items-center jump-to-suggestions-path js-jump-to-suggestion-path js-navigation-open p-2\" data-item-type=\"suggestion\" href=\"\" tabindex=\"-1\">\n",
              "<div class=\"jump-to-octicon js-jump-to-octicon flex-shrink-0 mr-2 text-center d-none\">\n",
              "<svg aria-label=\"Repository\" class=\"octicon octicon-repo js-jump-to-octicon-repo d-none flex-shrink-0\" data-view-component=\"true\" height=\"16\" role=\"img\" title=\"Repository\" version=\"1.1\" viewbox=\"0 0 16 16\" width=\"16\">\n",
              "<path d=\"M2 2.5A2.5 2.5 0 014.5 0h8.75a.75.75 0 01.75.75v12.5a.75.75 0 01-.75.75h-2.5a.75.75 0 110-1.5h1.75v-2h-8a1 1 0 00-.714 1.7.75.75 0 01-1.072 1.05A2.495 2.495 0 012 11.5v-9zm10.5-1V9h-8c-.356 0-.694.074-1 .208V2.5a1 1 0 011-1h8zM5 12.25v3.25a.25.25 0 00.4.2l1.45-1.087a.25.25 0 01.3 0L8.6 15.7a.25.25 0 00.4-.2v-3.25a.25.25 0 00-.25-.25h-3.5a.25.25 0 00-.25.25z\" fill-rule=\"evenodd\"></path>\n",
              "</svg>\n",
              "<svg aria-label=\"Project\" class=\"octicon octicon-project js-jump-to-octicon-project d-none flex-shrink-0\" data-view-component=\"true\" height=\"16\" role=\"img\" title=\"Project\" version=\"1.1\" viewbox=\"0 0 16 16\" width=\"16\">\n",
              "<path d=\"M1.75 0A1.75 1.75 0 000 1.75v12.5C0 15.216.784 16 1.75 16h12.5A1.75 1.75 0 0016 14.25V1.75A1.75 1.75 0 0014.25 0H1.75zM1.5 1.75a.25.25 0 01.25-.25h12.5a.25.25 0 01.25.25v12.5a.25.25 0 01-.25.25H1.75a.25.25 0 01-.25-.25V1.75zM11.75 3a.75.75 0 00-.75.75v7.5a.75.75 0 001.5 0v-7.5a.75.75 0 00-.75-.75zm-8.25.75a.75.75 0 011.5 0v5.5a.75.75 0 01-1.5 0v-5.5zM8 3a.75.75 0 00-.75.75v3.5a.75.75 0 001.5 0v-3.5A.75.75 0 008 3z\" fill-rule=\"evenodd\"></path>\n",
              "</svg>\n",
              "<svg aria-label=\"Search\" class=\"octicon octicon-search js-jump-to-octicon-search d-none flex-shrink-0\" data-view-component=\"true\" height=\"16\" role=\"img\" title=\"Search\" version=\"1.1\" viewbox=\"0 0 16 16\" width=\"16\">\n",
              "<path d=\"M11.5 7a4.499 4.499 0 11-8.998 0A4.499 4.499 0 0111.5 7zm-.82 4.74a6 6 0 111.06-1.06l3.04 3.04a.75.75 0 11-1.06 1.06l-3.04-3.04z\" fill-rule=\"evenodd\"></path>\n",
              "</svg>\n",
              "</div>\n",
              "<img alt=\"\" aria-label=\"Team\" class=\"avatar mr-2 flex-shrink-0 js-jump-to-suggestion-avatar d-none\" height=\"28\" src=\"\" width=\"28\"/>\n",
              "<div class=\"jump-to-suggestion-name js-jump-to-suggestion-name flex-auto overflow-hidden text-left no-wrap css-truncate css-truncate-target\">\n",
              "</div>\n",
              "<div class=\"border rounded-1 flex-shrink-0 color-bg-subtle px-1 color-fg-muted ml-1 f6 d-none js-jump-to-badge-search\">\n",
              "<span aria-label=\"in this topic\" class=\"js-jump-to-badge-search-text-default d-none\">\n",
              "        In this topic\n",
              "      </span>\n",
              "<span aria-label=\"in all of GitHub\" class=\"js-jump-to-badge-search-text-global d-none\">\n",
              "        All GitHub\n",
              "      </span>\n",
              "<span aria-hidden=\"true\" class=\"d-inline-block ml-1 v-align-middle\">↵</span>\n",
              "</div>\n",
              "<div aria-hidden=\"true\" class=\"border rounded-1 flex-shrink-0 color-bg-subtle px-1 color-fg-muted ml-1 f6 d-none d-on-nav-focus js-jump-to-badge-jump\">\n",
              "      Jump to\n",
              "      <span class=\"d-inline-block ml-1 v-align-middle\">↵</span>\n",
              "</div>\n",
              "</a>\n",
              "</li>\n",
              "</ul>\n",
              "<ul class=\"d-none js-jump-to-no-results-template-container\">\n",
              "<li class=\"d-flex flex-justify-center flex-items-center f5 d-none js-jump-to-suggestion p-2\">\n",
              "<span class=\"color-fg-muted\">No suggested jump to results</span>\n",
              "</li>\n",
              "</ul>\n",
              "<ul class=\"p-0 m-0 js-navigation-container jump-to-suggestions-results-container js-jump-to-suggestions-results-container\" id=\"jump-to-results\" role=\"listbox\">\n",
              "<li class=\"d-flex flex-justify-start flex-items-center p-0 f5 navigation-item js-navigation-item js-jump-to-scoped-search d-none\" role=\"option\">\n",
              "<a class=\"no-underline d-flex flex-auto flex-items-center jump-to-suggestions-path js-jump-to-suggestion-path js-navigation-open p-2\" data-item-type=\"scoped_search\" href=\"\" tabindex=\"-1\">\n",
              "<div class=\"jump-to-octicon js-jump-to-octicon flex-shrink-0 mr-2 text-center d-none\">\n",
              "<svg aria-label=\"Repository\" class=\"octicon octicon-repo js-jump-to-octicon-repo d-none flex-shrink-0\" data-view-component=\"true\" height=\"16\" role=\"img\" title=\"Repository\" version=\"1.1\" viewbox=\"0 0 16 16\" width=\"16\">\n",
              "<path d=\"M2 2.5A2.5 2.5 0 014.5 0h8.75a.75.75 0 01.75.75v12.5a.75.75 0 01-.75.75h-2.5a.75.75 0 110-1.5h1.75v-2h-8a1 1 0 00-.714 1.7.75.75 0 01-1.072 1.05A2.495 2.495 0 012 11.5v-9zm10.5-1V9h-8c-.356 0-.694.074-1 .208V2.5a1 1 0 011-1h8zM5 12.25v3.25a.25.25 0 00.4.2l1.45-1.087a.25.25 0 01.3 0L8.6 15.7a.25.25 0 00.4-.2v-3.25a.25.25 0 00-.25-.25h-3.5a.25.25 0 00-.25.25z\" fill-rule=\"evenodd\"></path>\n",
              "</svg>\n",
              "<svg aria-label=\"Project\" class=\"octicon octicon-project js-jump-to-octicon-project d-none flex-shrink-0\" data-view-component=\"true\" height=\"16\" role=\"img\" title=\"Project\" version=\"1.1\" viewbox=\"0 0 16 16\" width=\"16\">\n",
              "<path d=\"M1.75 0A1.75 1.75 0 000 1.75v12.5C0 15.216.784 16 1.75 16h12.5A1.75 1.75 0 0016 14.25V1.75A1.75 1.75 0 0014.25 0H1.75zM1.5 1.75a.25.25 0 01.25-.25h12.5a.25.25 0 01.25.25v12.5a.25.25 0 01-.25.25H1.75a.25.25 0 01-.25-.25V1.75zM11.75 3a.75.75 0 00-.75.75v7.5a.75.75 0 001.5 0v-7.5a.75.75 0 00-.75-.75zm-8.25.75a.75.75 0 011.5 0v5.5a.75.75 0 01-1.5 0v-5.5zM8 3a.75.75 0 00-.75.75v3.5a.75.75 0 001.5 0v-3.5A.75.75 0 008 3z\" fill-rule=\"evenodd\"></path>\n",
              "</svg>\n",
              "<svg aria-label=\"Search\" class=\"octicon octicon-search js-jump-to-octicon-search d-none flex-shrink-0\" data-view-component=\"true\" height=\"16\" role=\"img\" title=\"Search\" version=\"1.1\" viewbox=\"0 0 16 16\" width=\"16\">\n",
              "<path d=\"M11.5 7a4.499 4.499 0 11-8.998 0A4.499 4.499 0 0111.5 7zm-.82 4.74a6 6 0 111.06-1.06l3.04 3.04a.75.75 0 11-1.06 1.06l-3.04-3.04z\" fill-rule=\"evenodd\"></path>\n",
              "</svg>\n",
              "</div>\n",
              "<img alt=\"\" aria-label=\"Team\" class=\"avatar mr-2 flex-shrink-0 js-jump-to-suggestion-avatar d-none\" height=\"28\" src=\"\" width=\"28\"/>\n",
              "<div class=\"jump-to-suggestion-name js-jump-to-suggestion-name flex-auto overflow-hidden text-left no-wrap css-truncate css-truncate-target\">\n",
              "</div>\n",
              "<div class=\"border rounded-1 flex-shrink-0 color-bg-subtle px-1 color-fg-muted ml-1 f6 d-none js-jump-to-badge-search\">\n",
              "<span aria-label=\"in this topic\" class=\"js-jump-to-badge-search-text-default d-none\">\n",
              "        In this topic\n",
              "      </span>\n",
              "<span aria-label=\"in all of GitHub\" class=\"js-jump-to-badge-search-text-global d-none\">\n",
              "        All GitHub\n",
              "      </span>\n",
              "<span aria-hidden=\"true\" class=\"d-inline-block ml-1 v-align-middle\">↵</span>\n",
              "</div>\n",
              "<div aria-hidden=\"true\" class=\"border rounded-1 flex-shrink-0 color-bg-subtle px-1 color-fg-muted ml-1 f6 d-none d-on-nav-focus js-jump-to-badge-jump\">\n",
              "      Jump to\n",
              "      <span class=\"d-inline-block ml-1 v-align-middle\">↵</span>\n",
              "</div>\n",
              "</a>\n",
              "</li>\n",
              "<li class=\"d-flex flex-justify-start flex-items-center p-0 f5 navigation-item js-navigation-item js-jump-to-owner-scoped-search d-none\" role=\"option\">\n",
              "<a class=\"no-underline d-flex flex-auto flex-items-center jump-to-suggestions-path js-jump-to-suggestion-path js-navigation-open p-2\" data-item-type=\"owner_scoped_search\" href=\"\" tabindex=\"-1\">\n",
              "<div class=\"jump-to-octicon js-jump-to-octicon flex-shrink-0 mr-2 text-center d-none\">\n",
              "<svg aria-label=\"Repository\" class=\"octicon octicon-repo js-jump-to-octicon-repo d-none flex-shrink-0\" data-view-component=\"true\" height=\"16\" role=\"img\" title=\"Repository\" version=\"1.1\" viewbox=\"0 0 16 16\" width=\"16\">\n",
              "<path d=\"M2 2.5A2.5 2.5 0 014.5 0h8.75a.75.75 0 01.75.75v12.5a.75.75 0 01-.75.75h-2.5a.75.75 0 110-1.5h1.75v-2h-8a1 1 0 00-.714 1.7.75.75 0 01-1.072 1.05A2.495 2.495 0 012 11.5v-9zm10.5-1V9h-8c-.356 0-.694.074-1 .208V2.5a1 1 0 011-1h8zM5 12.25v3.25a.25.25 0 00.4.2l1.45-1.087a.25.25 0 01.3 0L8.6 15.7a.25.25 0 00.4-.2v-3.25a.25.25 0 00-.25-.25h-3.5a.25.25 0 00-.25.25z\" fill-rule=\"evenodd\"></path>\n",
              "</svg>\n",
              "<svg aria-label=\"Project\" class=\"octicon octicon-project js-jump-to-octicon-project d-none flex-shrink-0\" data-view-component=\"true\" height=\"16\" role=\"img\" title=\"Project\" version=\"1.1\" viewbox=\"0 0 16 16\" width=\"16\">\n",
              "<path d=\"M1.75 0A1.75 1.75 0 000 1.75v12.5C0 15.216.784 16 1.75 16h12.5A1.75 1.75 0 0016 14.25V1.75A1.75 1.75 0 0014.25 0H1.75zM1.5 1.75a.25.25 0 01.25-.25h12.5a.25.25 0 01.25.25v12.5a.25.25 0 01-.25.25H1.75a.25.25 0 01-.25-.25V1.75zM11.75 3a.75.75 0 00-.75.75v7.5a.75.75 0 001.5 0v-7.5a.75.75 0 00-.75-.75zm-8.25.75a.75.75 0 011.5 0v5.5a.75.75 0 01-1.5 0v-5.5zM8 3a.75.75 0 00-.75.75v3.5a.75.75 0 001.5 0v-3.5A.75.75 0 008 3z\" fill-rule=\"evenodd\"></path>\n",
              "</svg>\n",
              "<svg aria-label=\"Search\" class=\"octicon octicon-search js-jump-to-octicon-search d-none flex-shrink-0\" data-view-component=\"true\" height=\"16\" role=\"img\" title=\"Search\" version=\"1.1\" viewbox=\"0 0 16 16\" width=\"16\">\n",
              "<path d=\"M11.5 7a4.499 4.499 0 11-8.998 0A4.499 4.499 0 0111.5 7zm-.82 4.74a6 6 0 111.06-1.06l3.04 3.04a.75.75 0 11-1.06 1.06l-3.04-3.04z\" fill-rule=\"evenodd\"></path>\n",
              "</svg>\n",
              "</div>\n",
              "<img alt=\"\" aria-label=\"Team\" class=\"avatar mr-2 flex-shrink-0 js-jump-to-suggestion-avatar d-none\" height=\"28\" src=\"\" width=\"28\"/>\n",
              "<div class=\"jump-to-suggestion-name js-jump-to-suggestion-name flex-auto overflow-hidden text-left no-wrap css-truncate css-truncate-target\">\n",
              "</div>\n",
              "<div class=\"border rounded-1 flex-shrink-0 color-bg-subtle px-1 color-fg-muted ml-1 f6 d-none js-jump-to-badge-search\">\n",
              "<span aria-label=\"in all of GitHub\" class=\"js-jump-to-badge-search-text-default d-none\">\n",
              "        Search\n",
              "      </span>\n",
              "<span aria-label=\"in all of GitHub\" class=\"js-jump-to-badge-search-text-global d-none\">\n",
              "        All GitHub\n",
              "      </span>\n",
              "<span aria-hidden=\"true\" class=\"d-inline-block ml-1 v-align-middle\">↵</span>\n",
              "</div>\n",
              "<div aria-hidden=\"true\" class=\"border rounded-1 flex-shrink-0 color-bg-subtle px-1 color-fg-muted ml-1 f6 d-none d-on-nav-focus js-jump-to-badge-jump\">\n",
              "      Jump to\n",
              "      <span class=\"d-inline-block ml-1 v-align-middle\">↵</span>\n",
              "</div>\n",
              "</a>\n",
              "</li>\n",
              "<li class=\"d-flex flex-justify-start flex-items-center p-0 f5 navigation-item js-navigation-item js-jump-to-global-search d-none\" role=\"option\">\n",
              "<a class=\"no-underline d-flex flex-auto flex-items-center jump-to-suggestions-path js-jump-to-suggestion-path js-navigation-open p-2\" data-item-type=\"global_search\" href=\"\" tabindex=\"-1\">\n",
              "<div class=\"jump-to-octicon js-jump-to-octicon flex-shrink-0 mr-2 text-center d-none\">\n",
              "<svg aria-label=\"Repository\" class=\"octicon octicon-repo js-jump-to-octicon-repo d-none flex-shrink-0\" data-view-component=\"true\" height=\"16\" role=\"img\" title=\"Repository\" version=\"1.1\" viewbox=\"0 0 16 16\" width=\"16\">\n",
              "<path d=\"M2 2.5A2.5 2.5 0 014.5 0h8.75a.75.75 0 01.75.75v12.5a.75.75 0 01-.75.75h-2.5a.75.75 0 110-1.5h1.75v-2h-8a1 1 0 00-.714 1.7.75.75 0 01-1.072 1.05A2.495 2.495 0 012 11.5v-9zm10.5-1V9h-8c-.356 0-.694.074-1 .208V2.5a1 1 0 011-1h8zM5 12.25v3.25a.25.25 0 00.4.2l1.45-1.087a.25.25 0 01.3 0L8.6 15.7a.25.25 0 00.4-.2v-3.25a.25.25 0 00-.25-.25h-3.5a.25.25 0 00-.25.25z\" fill-rule=\"evenodd\"></path>\n",
              "</svg>\n",
              "<svg aria-label=\"Project\" class=\"octicon octicon-project js-jump-to-octicon-project d-none flex-shrink-0\" data-view-component=\"true\" height=\"16\" role=\"img\" title=\"Project\" version=\"1.1\" viewbox=\"0 0 16 16\" width=\"16\">\n",
              "<path d=\"M1.75 0A1.75 1.75 0 000 1.75v12.5C0 15.216.784 16 1.75 16h12.5A1.75 1.75 0 0016 14.25V1.75A1.75 1.75 0 0014.25 0H1.75zM1.5 1.75a.25.25 0 01.25-.25h12.5a.25.25 0 01.25.25v12.5a.25.25 0 01-.25.25H1.75a.25.25 0 01-.25-.25V1.75zM11.75 3a.75.75 0 00-.75.75v7.5a.75.75 0 001.5 0v-7.5a.75.75 0 00-.75-.75zm-8.25.75a.75.75 0 011.5 0v5.5a.75.75 0 01-1.5 0v-5.5zM8 3a.75.75 0 00-.75.75v3.5a.75.75 0 001.5 0v-3.5A.75.75 0 008 3z\" fill-rule=\"evenodd\"></path>\n",
              "</svg>\n",
              "<svg aria-label=\"Search\" class=\"octicon octicon-search js-jump-to-octicon-search d-none flex-shrink-0\" data-view-component=\"true\" height=\"16\" role=\"img\" title=\"Search\" version=\"1.1\" viewbox=\"0 0 16 16\" width=\"16\">\n",
              "<path d=\"M11.5 7a4.499 4.499 0 11-8.998 0A4.499 4.499 0 0111.5 7zm-.82 4.74a6 6 0 111.06-1.06l3.04 3.04a.75.75 0 11-1.06 1.06l-3.04-3.04z\" fill-rule=\"evenodd\"></path>\n",
              "</svg>\n",
              "</div>\n",
              "<img alt=\"\" aria-label=\"Team\" class=\"avatar mr-2 flex-shrink-0 js-jump-to-suggestion-avatar d-none\" height=\"28\" src=\"\" width=\"28\"/>\n",
              "<div class=\"jump-to-suggestion-name js-jump-to-suggestion-name flex-auto overflow-hidden text-left no-wrap css-truncate css-truncate-target\">\n",
              "</div>\n",
              "<div class=\"border rounded-1 flex-shrink-0 color-bg-subtle px-1 color-fg-muted ml-1 f6 d-none js-jump-to-badge-search\">\n",
              "<span aria-label=\"in this topic\" class=\"js-jump-to-badge-search-text-default d-none\">\n",
              "        In this topic\n",
              "      </span>\n",
              "<span aria-label=\"in all of GitHub\" class=\"js-jump-to-badge-search-text-global d-none\">\n",
              "        All GitHub\n",
              "      </span>\n",
              "<span aria-hidden=\"true\" class=\"d-inline-block ml-1 v-align-middle\">↵</span>\n",
              "</div>\n",
              "<div aria-hidden=\"true\" class=\"border rounded-1 flex-shrink-0 color-bg-subtle px-1 color-fg-muted ml-1 f6 d-none d-on-nav-focus js-jump-to-badge-jump\">\n",
              "      Jump to\n",
              "      <span class=\"d-inline-block ml-1 v-align-middle\">↵</span>\n",
              "</div>\n",
              "</a>\n",
              "</li>\n",
              "</ul>\n",
              "</div>\n",
              "</label>\n",
              "</form> </div>\n",
              "</div>\n",
              "</div>\n",
              "<div class=\"position-relative mr-3 mb-4 mb-lg-0 d-inline-block\">\n",
              "<a class=\"HeaderMenu-link flex-shrink-0 no-underline\" data-ga-click=\"(Logged out) Header, clicked Sign in, text:sign-in\" data-hydro-click='{\"event_type\":\"authentication.click\",\"payload\":{\"location_in_page\":\"site header menu\",\"repository_id\":null,\"auth_type\":\"SIGN_UP\",\"originating_url\":\"https://github.com/topics/machine-learning\",\"user_id\":null}}' data-hydro-click-hmac=\"77fa0805c2ee5e083e5dbe5571a2e37d8661eca3a115806e97d54914b8332ea9\" href=\"/login?return_to=https%3A%2F%2Fgithub.com%2Ftopics%2Fmachine-learning\">\n",
              "            Sign in\n",
              "          </a>\n",
              "</div>\n",
              "<a class=\"HeaderMenu-link flex-shrink-0 d-inline-block no-underline border color-border-default rounded px-2 py-1\" data-analytics-event='{\"category\":\"Sign up\",\"action\":\"click to sign up for account\",\"label\":\"ref_page:/topics/machine-learning;ref_cta:Sign up;ref_loc:header logged out\"}' data-hydro-click='{\"event_type\":\"authentication.click\",\"payload\":{\"location_in_page\":\"site header menu\",\"repository_id\":null,\"auth_type\":\"SIGN_UP\",\"originating_url\":\"https://github.com/topics/machine-learning\",\"user_id\":null}}' data-hydro-click-hmac=\"77fa0805c2ee5e083e5dbe5571a2e37d8661eca3a115806e97d54914b8332ea9\" href=\"/signup?ref_cta=Sign+up&amp;ref_loc=header+logged+out&amp;ref_page=%2Ftopics%2Fmachine-learning&amp;source=header\">\n",
              "            Sign up\n",
              "          </a>\n",
              "</div>\n",
              "</div>\n",
              "</div>\n",
              "</header>\n",
              "</div>"
            ]
          },
          "execution_count": 110,
          "metadata": {},
          "output_type": "execute_result"
        }
      ],
      "source": [
        "first_div=doc.find_all('div')\n",
        "#first=doc.find('div')\n",
        "#first=doc.div\n",
        "first_div[0]"
      ]
    },
    {
      "cell_type": "code",
      "execution_count": null,
      "id": "eed3415e",
      "metadata": {
        "id": "eed3415e",
        "outputId": "25ae65a4-68c4-4c7a-e469-ed5fedc2f09b"
      },
      "outputs": [
        {
          "data": {
            "text/plain": [
              "<img alt=\"\" aria-label=\"Team\" class=\"avatar mr-2 flex-shrink-0 js-jump-to-suggestion-avatar d-none\" height=\"28\" src=\"\" width=\"28\"/>"
            ]
          },
          "execution_count": 111,
          "metadata": {},
          "output_type": "execute_result"
        }
      ],
      "source": [
        "first_img=doc.find('img')\n",
        "#first_img=doc.find_all('img')\n",
        "#first_img=doc.img\n",
        "first_img"
      ]
    },
    {
      "cell_type": "code",
      "execution_count": null,
      "id": "58716acc",
      "metadata": {
        "id": "58716acc",
        "outputId": "55ea80ac-052f-4e82-f93b-197974f9b207"
      },
      "outputs": [
        {
          "data": {
            "text/plain": [
              "<span class=\"progress-pjax-loader js-pjax-loader-bar Progress position-fixed width-full\" data-view-component=\"true\">\n",
              "<span class=\"Progress-item progress-pjax-loader-bar left-0 top-0 color-bg-accent-emphasis\" data-view-component=\"true\" style=\"width: 0%;\"></span>\n",
              "</span>"
            ]
          },
          "execution_count": 112,
          "metadata": {},
          "output_type": "execute_result"
        }
      ],
      "source": [
        "first_span=doc.span\n",
        "#first_span=doc.find_all['span']\n",
        "#first_span=doc.find['span']\n",
        "first_span"
      ]
    },
    {
      "cell_type": "code",
      "execution_count": null,
      "id": "914b0762",
      "metadata": {
        "id": "914b0762",
        "outputId": "a6ed9860-b148-4165-9199-ecb738085be7"
      },
      "outputs": [
        {
          "data": {
            "text/plain": [
              "<p>Machine learning is the practice of teaching a computer to learn. The concept uses pattern recognition, as well as other forms of predictive algorithms, to make judgments on incoming data. This field is closely related to artificial intelligence and computational statistics.</p>"
            ]
          },
          "execution_count": 113,
          "metadata": {},
          "output_type": "execute_result"
        }
      ],
      "source": [
        "first_p=doc.find_all('p')\n",
        "first_p[0]"
      ]
    },
    {
      "cell_type": "markdown",
      "id": "c9ee0c4e",
      "metadata": {
        "id": "c9ee0c4e"
      },
      "source": [
        "> **EXERCISE**: Get a list of all the `img` tags on the page. How many images does the page contain?"
      ]
    },
    {
      "cell_type": "code",
      "execution_count": null,
      "id": "79887129",
      "metadata": {
        "id": "79887129",
        "outputId": "acdff9cd-f547-4a03-b424-0a03b7857416"
      },
      "outputs": [
        {
          "data": {
            "text/plain": [
              "16"
            ]
          },
          "execution_count": 114,
          "metadata": {},
          "output_type": "execute_result"
        }
      ],
      "source": [
        "all_images=doc.find_all('img')\n",
        "len(all_images)"
      ]
    },
    {
      "cell_type": "markdown",
      "id": "bad547ac",
      "metadata": {
        "id": "bad547ac"
      },
      "source": [
        "> **EXERCISE**: Find the 5th image tag on the page (counting from 0). Which attributes does the tag contain? Find the values of the `src` and `alt` attributes of the tag."
      ]
    },
    {
      "cell_type": "code",
      "execution_count": null,
      "id": "2260207d",
      "metadata": {
        "id": "2260207d",
        "outputId": "c06e9541-0e90-4088-d874-9afadb8bb62a"
      },
      "outputs": [
        {
          "data": {
            "text/plain": [
              "<img alt=\"janeyx99\" class=\"avatar avatar-user avatar-small\" height=\"32\" src=\"https://avatars.githubusercontent.com/u/31798555?v=4\" width=\"32\"/>"
            ]
          },
          "execution_count": 115,
          "metadata": {},
          "output_type": "execute_result"
        }
      ],
      "source": [
        "fifth_image=all_images[5]\n",
        "fifth_image"
      ]
    },
    {
      "cell_type": "code",
      "execution_count": null,
      "id": "46173a9b",
      "metadata": {
        "id": "46173a9b",
        "outputId": "305d34a7-fa96-4425-b0e8-a94773b659f5"
      },
      "outputs": [
        {
          "data": {
            "text/plain": [
              "'https://avatars.githubusercontent.com/u/31798555?v=4'"
            ]
          },
          "execution_count": 116,
          "metadata": {},
          "output_type": "execute_result"
        }
      ],
      "source": [
        "fifth_image['src']"
      ]
    },
    {
      "cell_type": "code",
      "execution_count": null,
      "id": "742b6213",
      "metadata": {
        "id": "742b6213",
        "outputId": "c41c79d6-f5c3-4d08-877b-00254e96df16"
      },
      "outputs": [
        {
          "data": {
            "text/plain": [
              "'janeyx99'"
            ]
          },
          "execution_count": 117,
          "metadata": {},
          "output_type": "execute_result"
        }
      ],
      "source": [
        "fifth_image['alt']"
      ]
    },
    {
      "cell_type": "markdown",
      "id": "3e1c4b8a",
      "metadata": {
        "id": "3e1c4b8a"
      },
      "source": [
        "> **EXERCISE**: Find the `src` attribute of the first `img` tag with the `alt` attribute set to `julia`. Visit the link and check what the image represents."
      ]
    },
    {
      "cell_type": "code",
      "execution_count": null,
      "id": "acbfb4be",
      "metadata": {
        "id": "acbfb4be",
        "outputId": "fc32daee-ac16-49bf-aeef-c71ffb9d21cc"
      },
      "outputs": [
        {
          "data": {
            "text/plain": [
              "'https://repository-images.githubusercontent.com/1644196/ddfc1e00-6638-11e9-9b80-0fe7b9aedd72'"
            ]
          },
          "execution_count": 118,
          "metadata": {},
          "output_type": "execute_result"
        }
      ],
      "source": [
        "doc.find('img',{'alt':'julia'})['src']"
      ]
    },
    {
      "cell_type": "markdown",
      "id": "aa228941",
      "metadata": {
        "id": "aa228941"
      },
      "source": [
        "> **EXERCISE**: Find the list of all the images matching the class `d-block width-full`. Each list element should be a dictionary containing two keys, `\"username\"` and `\"url\"`. You can obtain the username using the `alt` attribute of a tag and the URL using the `src` attribute."
      ]
    },
    {
      "cell_type": "code",
      "execution_count": null,
      "id": "77a01755",
      "metadata": {
        "id": "77a01755",
        "outputId": "9ec8b5f0-857b-4754-f481-bd14bbc7e4c4"
      },
      "outputs": [
        {
          "data": {
            "text/plain": [
              "[{'username': 'transformers',\n",
              "  'url': 'https://repository-images.githubusercontent.com/155220641/a16c4880-a501-11ea-9e8f-646cf611702e'},\n",
              " {'username': 'ML-For-Beginners',\n",
              "  'url': 'https://repository-images.githubusercontent.com/343965132/549b1a80-c897-11eb-9436-918072d2e0f8'},\n",
              " {'username': 'awesome-scalability',\n",
              "  'url': 'https://repository-images.githubusercontent.com/115478820/109a8e00-283a-11ea-8891-ad7215b06a4c'},\n",
              " {'username': 'julia',\n",
              "  'url': 'https://repository-images.githubusercontent.com/1644196/ddfc1e00-6638-11e9-9b80-0fe7b9aedd72'},\n",
              " {'username': 'Made-With-ML',\n",
              "  'url': 'https://repository-images.githubusercontent.com/156157055/5d88d9c5-1030-4da2-a153-d2836b299eac'},\n",
              " {'username': 'yolov5',\n",
              "  'url': 'https://repository-images.githubusercontent.com/264818686/40f8c2c3-7919-4652-b278-ec6a7fb06a53'}]"
            ]
          },
          "execution_count": 19,
          "metadata": {},
          "output_type": "execute_result"
        }
      ],
      "source": [
        "image_link_tags = doc.find_all('img', class_='d-block width-full')\n",
        "avatar_users = []\n",
        "for tag in image_link_tags:\n",
        "    avatar_users.append({\n",
        "        'username' : tag['alt'],\n",
        "        'url': tag['src']\n",
        "        })\n",
        "avatar_users"
      ]
    },
    {
      "cell_type": "markdown",
      "id": "fb663cc8",
      "metadata": {
        "id": "fb663cc8"
      },
      "source": [
        "> **EXERCISE**: Write a function `scrape_topics` which takes a list of topics and creates CSV files containing top repositories for a list of topics. Test it out using the empty cells below."
      ]
    },
    {
      "cell_type": "code",
      "execution_count": null,
      "id": "c47c0de7",
      "metadata": {
        "id": "c47c0de7"
      },
      "outputs": [],
      "source": [
        "topics=['data-analysis','python','deep-learning']"
      ]
    },
    {
      "cell_type": "code",
      "execution_count": null,
      "id": "81fe57af",
      "metadata": {
        "id": "81fe57af"
      },
      "outputs": [],
      "source": [
        "def scrape_topics(topics):\n",
        "    for topic in topics:\n",
        "        scrape_topic_repositories(topic)"
      ]
    },
    {
      "cell_type": "code",
      "execution_count": null,
      "id": "3b8bd7b9",
      "metadata": {
        "id": "3b8bd7b9",
        "outputId": "9098019e-8831-4212-f6b7-8510fd61543c"
      },
      "outputs": [
        {
          "name": "stdout",
          "output_type": "stream",
          "text": [
            "Top repositories for topic \"data-analysis\" written to file \"data-analysis.csv\"\n",
            "Top repositories for topic \"python\" written to file \"python.csv\"\n",
            "Top repositories for topic \"deep-learning\" written to file \"deep-learning.csv\"\n"
          ]
        }
      ],
      "source": [
        "scrape_topics(topics)"
      ]
    },
    {
      "cell_type": "code",
      "execution_count": null,
      "id": "16a70109",
      "metadata": {
        "id": "16a70109",
        "outputId": "c1e45dd2-b7f3-4798-d3ad-2bbe63a41d03"
      },
      "outputs": [
        {
          "data": {
            "text/html": [
              "<div>\n",
              "<style scoped>\n",
              "    .dataframe tbody tr th:only-of-type {\n",
              "        vertical-align: middle;\n",
              "    }\n",
              "\n",
              "    .dataframe tbody tr th {\n",
              "        vertical-align: top;\n",
              "    }\n",
              "\n",
              "    .dataframe thead th {\n",
              "        text-align: right;\n",
              "    }\n",
              "</style>\n",
              "<table border=\"1\" class=\"dataframe\">\n",
              "  <thead>\n",
              "    <tr style=\"text-align: right;\">\n",
              "      <th></th>\n",
              "      <th>repository_name</th>\n",
              "      <th>owner_username</th>\n",
              "      <th>stars</th>\n",
              "      <th>repository_url</th>\n",
              "    </tr>\n",
              "  </thead>\n",
              "  <tbody>\n",
              "    <tr>\n",
              "      <th>0</th>\n",
              "      <td>scikit-learn</td>\n",
              "      <td>scikit-learn</td>\n",
              "      <td>48500</td>\n",
              "      <td>https://gitub.com/scikit-learn/scikit-learn</td>\n",
              "    </tr>\n",
              "    <tr>\n",
              "      <th>1</th>\n",
              "      <td>superset</td>\n",
              "      <td>apache</td>\n",
              "      <td>43500</td>\n",
              "      <td>https://gitub.com/apache/superset</td>\n",
              "    </tr>\n",
              "    <tr>\n",
              "      <th>2</th>\n",
              "      <td>pandas</td>\n",
              "      <td>pandas-dev</td>\n",
              "      <td>32299</td>\n",
              "      <td>https://gitub.com/pandas-dev/pandas</td>\n",
              "    </tr>\n",
              "    <tr>\n",
              "      <th>3</th>\n",
              "      <td>metabase</td>\n",
              "      <td>metabase</td>\n",
              "      <td>27100</td>\n",
              "      <td>https://gitub.com/metabase/metabase</td>\n",
              "    </tr>\n",
              "    <tr>\n",
              "      <th>4</th>\n",
              "      <td>streamlit</td>\n",
              "      <td>streamlit</td>\n",
              "      <td>17300</td>\n",
              "      <td>https://gitub.com/streamlit/streamlit</td>\n",
              "    </tr>\n",
              "    <tr>\n",
              "      <th>5</th>\n",
              "      <td>AI-Expert-Roadmap</td>\n",
              "      <td>AMAI-GmbH</td>\n",
              "      <td>15600</td>\n",
              "      <td>https://gitub.com/AMAI-GmbH/AI-Expert-Roadmap</td>\n",
              "    </tr>\n",
              "    <tr>\n",
              "      <th>6</th>\n",
              "      <td>goaccess</td>\n",
              "      <td>allinurl</td>\n",
              "      <td>14200</td>\n",
              "      <td>https://gitub.com/allinurl/goaccess</td>\n",
              "    </tr>\n",
              "    <tr>\n",
              "      <th>7</th>\n",
              "      <td>CyberChef</td>\n",
              "      <td>gchq</td>\n",
              "      <td>13900</td>\n",
              "      <td>https://gitub.com/gchq/CyberChef</td>\n",
              "    </tr>\n",
              "    <tr>\n",
              "      <th>8</th>\n",
              "      <td>OpenRefine</td>\n",
              "      <td>OpenRefine</td>\n",
              "      <td>8600</td>\n",
              "      <td>https://gitub.com/OpenRefine/OpenRefine</td>\n",
              "    </tr>\n",
              "    <tr>\n",
              "      <th>9</th>\n",
              "      <td>pandas-profiling</td>\n",
              "      <td>pandas-profiling</td>\n",
              "      <td>8400</td>\n",
              "      <td>https://gitub.com/pandas-profiling/pandas-prof...</td>\n",
              "    </tr>\n",
              "    <tr>\n",
              "      <th>10</th>\n",
              "      <td>mlcourse.ai</td>\n",
              "      <td>Yorko</td>\n",
              "      <td>8000</td>\n",
              "      <td>https://gitub.com/Yorko/mlcourse.ai</td>\n",
              "    </tr>\n",
              "    <tr>\n",
              "      <th>11</th>\n",
              "      <td>Data-Science-For-Beginners</td>\n",
              "      <td>microsoft</td>\n",
              "      <td>8000</td>\n",
              "      <td>https://gitub.com/microsoft/Data-Science-For-B...</td>\n",
              "    </tr>\n",
              "    <tr>\n",
              "      <th>12</th>\n",
              "      <td>gop</td>\n",
              "      <td>goplus</td>\n",
              "      <td>7900</td>\n",
              "      <td>https://gitub.com/goplus/gop</td>\n",
              "    </tr>\n",
              "    <tr>\n",
              "      <th>13</th>\n",
              "      <td>pandas_exercises</td>\n",
              "      <td>guipsamora</td>\n",
              "      <td>7200</td>\n",
              "      <td>https://gitub.com/guipsamora/pandas_exercises</td>\n",
              "    </tr>\n",
              "    <tr>\n",
              "      <th>14</th>\n",
              "      <td>statsmodels</td>\n",
              "      <td>statsmodels</td>\n",
              "      <td>7000</td>\n",
              "      <td>https://gitub.com/statsmodels/statsmodels</td>\n",
              "    </tr>\n",
              "    <tr>\n",
              "      <th>15</th>\n",
              "      <td>imbalanced-learn</td>\n",
              "      <td>scikit-learn-contrib</td>\n",
              "      <td>5700</td>\n",
              "      <td>https://gitub.com/scikit-learn-contrib/imbalan...</td>\n",
              "    </tr>\n",
              "    <tr>\n",
              "      <th>16</th>\n",
              "      <td>gonum</td>\n",
              "      <td>gonum</td>\n",
              "      <td>5400</td>\n",
              "      <td>https://gitub.com/gonum/gonum</td>\n",
              "    </tr>\n",
              "    <tr>\n",
              "      <th>17</th>\n",
              "      <td>alluxio</td>\n",
              "      <td>Alluxio</td>\n",
              "      <td>5400</td>\n",
              "      <td>https://gitub.com/Alluxio/alluxio</td>\n",
              "    </tr>\n",
              "    <tr>\n",
              "      <th>18</th>\n",
              "      <td>pachyderm</td>\n",
              "      <td>pachyderm</td>\n",
              "      <td>5300</td>\n",
              "      <td>https://gitub.com/pachyderm/pachyderm</td>\n",
              "    </tr>\n",
              "    <tr>\n",
              "      <th>19</th>\n",
              "      <td>airbyte</td>\n",
              "      <td>airbytehq</td>\n",
              "      <td>5300</td>\n",
              "      <td>https://gitub.com/airbytehq/airbyte</td>\n",
              "    </tr>\n",
              "    <tr>\n",
              "      <th>20</th>\n",
              "      <td>Data-Analysis-and-Machine-Learning-Projects</td>\n",
              "      <td>rhiever</td>\n",
              "      <td>5200</td>\n",
              "      <td>https://gitub.com/rhiever/Data-Analysis-and-Ma...</td>\n",
              "    </tr>\n",
              "    <tr>\n",
              "      <th>21</th>\n",
              "      <td>pyod</td>\n",
              "      <td>yzhao062</td>\n",
              "      <td>5200</td>\n",
              "      <td>https://gitub.com/yzhao062/pyod</td>\n",
              "    </tr>\n",
              "    <tr>\n",
              "      <th>22</th>\n",
              "      <td>knowledge-repo</td>\n",
              "      <td>airbnb</td>\n",
              "      <td>5000</td>\n",
              "      <td>https://gitub.com/airbnb/knowledge-repo</td>\n",
              "    </tr>\n",
              "    <tr>\n",
              "      <th>23</th>\n",
              "      <td>awesome-R</td>\n",
              "      <td>qinwf</td>\n",
              "      <td>4900</td>\n",
              "      <td>https://gitub.com/qinwf/awesome-R</td>\n",
              "    </tr>\n",
              "    <tr>\n",
              "      <th>24</th>\n",
              "      <td>gradio</td>\n",
              "      <td>gradio-app</td>\n",
              "      <td>4700</td>\n",
              "      <td>https://gitub.com/gradio-app/gradio</td>\n",
              "    </tr>\n",
              "    <tr>\n",
              "      <th>25</th>\n",
              "      <td>weibospider</td>\n",
              "      <td>SpiderClub</td>\n",
              "      <td>4700</td>\n",
              "      <td>https://gitub.com/SpiderClub/weibospider</td>\n",
              "    </tr>\n",
              "    <tr>\n",
              "      <th>26</th>\n",
              "      <td>dataease</td>\n",
              "      <td>dataease</td>\n",
              "      <td>4600</td>\n",
              "      <td>https://gitub.com/dataease/dataease</td>\n",
              "    </tr>\n",
              "    <tr>\n",
              "      <th>27</th>\n",
              "      <td>Ai-Learn</td>\n",
              "      <td>tangyudi</td>\n",
              "      <td>4500</td>\n",
              "      <td>https://gitub.com/tangyudi/Ai-Learn</td>\n",
              "    </tr>\n",
              "    <tr>\n",
              "      <th>28</th>\n",
              "      <td>akshare</td>\n",
              "      <td>akfamily</td>\n",
              "      <td>4400</td>\n",
              "      <td>https://gitub.com/akfamily/akshare</td>\n",
              "    </tr>\n",
              "    <tr>\n",
              "      <th>29</th>\n",
              "      <td>cudf</td>\n",
              "      <td>rapidsai</td>\n",
              "      <td>4400</td>\n",
              "      <td>https://gitub.com/rapidsai/cudf</td>\n",
              "    </tr>\n",
              "  </tbody>\n",
              "</table>\n",
              "</div>"
            ],
            "text/plain": [
              "                                repository_name        owner_username  stars  \\\n",
              "0                                  scikit-learn          scikit-learn  48500   \n",
              "1                                      superset                apache  43500   \n",
              "2                                        pandas            pandas-dev  32299   \n",
              "3                                      metabase              metabase  27100   \n",
              "4                                     streamlit             streamlit  17300   \n",
              "5                             AI-Expert-Roadmap             AMAI-GmbH  15600   \n",
              "6                                      goaccess              allinurl  14200   \n",
              "7                                     CyberChef                  gchq  13900   \n",
              "8                                    OpenRefine            OpenRefine   8600   \n",
              "9                              pandas-profiling      pandas-profiling   8400   \n",
              "10                                  mlcourse.ai                 Yorko   8000   \n",
              "11                   Data-Science-For-Beginners             microsoft   8000   \n",
              "12                                          gop                goplus   7900   \n",
              "13                             pandas_exercises            guipsamora   7200   \n",
              "14                                  statsmodels           statsmodels   7000   \n",
              "15                             imbalanced-learn  scikit-learn-contrib   5700   \n",
              "16                                        gonum                 gonum   5400   \n",
              "17                                      alluxio               Alluxio   5400   \n",
              "18                                    pachyderm             pachyderm   5300   \n",
              "19                                      airbyte             airbytehq   5300   \n",
              "20  Data-Analysis-and-Machine-Learning-Projects               rhiever   5200   \n",
              "21                                         pyod              yzhao062   5200   \n",
              "22                               knowledge-repo                airbnb   5000   \n",
              "23                                    awesome-R                 qinwf   4900   \n",
              "24                                       gradio            gradio-app   4700   \n",
              "25                                  weibospider            SpiderClub   4700   \n",
              "26                                     dataease              dataease   4600   \n",
              "27                                     Ai-Learn              tangyudi   4500   \n",
              "28                                      akshare              akfamily   4400   \n",
              "29                                         cudf              rapidsai   4400   \n",
              "\n",
              "                                       repository_url  \n",
              "0         https://gitub.com/scikit-learn/scikit-learn  \n",
              "1                   https://gitub.com/apache/superset  \n",
              "2                 https://gitub.com/pandas-dev/pandas  \n",
              "3                 https://gitub.com/metabase/metabase  \n",
              "4               https://gitub.com/streamlit/streamlit  \n",
              "5       https://gitub.com/AMAI-GmbH/AI-Expert-Roadmap  \n",
              "6                 https://gitub.com/allinurl/goaccess  \n",
              "7                    https://gitub.com/gchq/CyberChef  \n",
              "8             https://gitub.com/OpenRefine/OpenRefine  \n",
              "9   https://gitub.com/pandas-profiling/pandas-prof...  \n",
              "10                https://gitub.com/Yorko/mlcourse.ai  \n",
              "11  https://gitub.com/microsoft/Data-Science-For-B...  \n",
              "12                       https://gitub.com/goplus/gop  \n",
              "13      https://gitub.com/guipsamora/pandas_exercises  \n",
              "14          https://gitub.com/statsmodels/statsmodels  \n",
              "15  https://gitub.com/scikit-learn-contrib/imbalan...  \n",
              "16                      https://gitub.com/gonum/gonum  \n",
              "17                  https://gitub.com/Alluxio/alluxio  \n",
              "18              https://gitub.com/pachyderm/pachyderm  \n",
              "19                https://gitub.com/airbytehq/airbyte  \n",
              "20  https://gitub.com/rhiever/Data-Analysis-and-Ma...  \n",
              "21                    https://gitub.com/yzhao062/pyod  \n",
              "22            https://gitub.com/airbnb/knowledge-repo  \n",
              "23                  https://gitub.com/qinwf/awesome-R  \n",
              "24                https://gitub.com/gradio-app/gradio  \n",
              "25           https://gitub.com/SpiderClub/weibospider  \n",
              "26                https://gitub.com/dataease/dataease  \n",
              "27                https://gitub.com/tangyudi/Ai-Learn  \n",
              "28                 https://gitub.com/akfamily/akshare  \n",
              "29                    https://gitub.com/rapidsai/cudf  "
            ]
          },
          "execution_count": 123,
          "metadata": {},
          "output_type": "execute_result"
        }
      ],
      "source": [
        "pd.read_csv('data-analysis.csv')"
      ]
    },
    {
      "cell_type": "code",
      "execution_count": null,
      "id": "baf6d0a2",
      "metadata": {
        "id": "baf6d0a2",
        "outputId": "565af17b-0933-45d9-e978-57d9cd076d87"
      },
      "outputs": [
        {
          "data": {
            "text/html": [
              "<div>\n",
              "<style scoped>\n",
              "    .dataframe tbody tr th:only-of-type {\n",
              "        vertical-align: middle;\n",
              "    }\n",
              "\n",
              "    .dataframe tbody tr th {\n",
              "        vertical-align: top;\n",
              "    }\n",
              "\n",
              "    .dataframe thead th {\n",
              "        text-align: right;\n",
              "    }\n",
              "</style>\n",
              "<table border=\"1\" class=\"dataframe\">\n",
              "  <thead>\n",
              "    <tr style=\"text-align: right;\">\n",
              "      <th></th>\n",
              "      <th>repository_name</th>\n",
              "      <th>owner_username</th>\n",
              "      <th>stars</th>\n",
              "      <th>repository_url</th>\n",
              "    </tr>\n",
              "  </thead>\n",
              "  <tbody>\n",
              "    <tr>\n",
              "      <th>0</th>\n",
              "      <td>tensorflow</td>\n",
              "      <td>tensorflow</td>\n",
              "      <td>162000</td>\n",
              "      <td>https://gitub.com/tensorflow/tensorflow</td>\n",
              "    </tr>\n",
              "    <tr>\n",
              "      <th>1</th>\n",
              "      <td>system-design-primer</td>\n",
              "      <td>donnemartin</td>\n",
              "      <td>158000</td>\n",
              "      <td>https://gitub.com/donnemartin/system-design-pr...</td>\n",
              "    </tr>\n",
              "    <tr>\n",
              "      <th>2</th>\n",
              "      <td>CS-Notes</td>\n",
              "      <td>CyC2018</td>\n",
              "      <td>145000</td>\n",
              "      <td>https://gitub.com/CyC2018/CS-Notes</td>\n",
              "    </tr>\n",
              "    <tr>\n",
              "      <th>3</th>\n",
              "      <td>Python</td>\n",
              "      <td>TheAlgorithms</td>\n",
              "      <td>127000</td>\n",
              "      <td>https://gitub.com/TheAlgorithms/Python</td>\n",
              "    </tr>\n",
              "    <tr>\n",
              "      <th>4</th>\n",
              "      <td>awesome-python</td>\n",
              "      <td>vinta</td>\n",
              "      <td>113000</td>\n",
              "      <td>https://gitub.com/vinta/awesome-python</td>\n",
              "    </tr>\n",
              "    <tr>\n",
              "      <th>5</th>\n",
              "      <td>free-programming-books-zh_CN</td>\n",
              "      <td>justjavac</td>\n",
              "      <td>86400</td>\n",
              "      <td>https://gitub.com/justjavac/free-programming-b...</td>\n",
              "    </tr>\n",
              "    <tr>\n",
              "      <th>6</th>\n",
              "      <td>thefuck</td>\n",
              "      <td>nvbn</td>\n",
              "      <td>66100</td>\n",
              "      <td>https://gitub.com/nvbn/thefuck</td>\n",
              "    </tr>\n",
              "    <tr>\n",
              "      <th>7</th>\n",
              "      <td>django</td>\n",
              "      <td>django</td>\n",
              "      <td>61700</td>\n",
              "      <td>https://gitub.com/django/django</td>\n",
              "    </tr>\n",
              "    <tr>\n",
              "      <th>8</th>\n",
              "      <td>project-based-learning</td>\n",
              "      <td>practical-tutorials</td>\n",
              "      <td>61100</td>\n",
              "      <td>https://gitub.com/practical-tutorials/project-...</td>\n",
              "    </tr>\n",
              "    <tr>\n",
              "      <th>9</th>\n",
              "      <td>flask</td>\n",
              "      <td>pallets</td>\n",
              "      <td>57600</td>\n",
              "      <td>https://gitub.com/pallets/flask</td>\n",
              "    </tr>\n",
              "    <tr>\n",
              "      <th>10</th>\n",
              "      <td>transformers</td>\n",
              "      <td>huggingface</td>\n",
              "      <td>56800</td>\n",
              "      <td>https://gitub.com/huggingface/transformers</td>\n",
              "    </tr>\n",
              "    <tr>\n",
              "      <th>11</th>\n",
              "      <td>keras</td>\n",
              "      <td>keras-team</td>\n",
              "      <td>53700</td>\n",
              "      <td>https://gitub.com/keras-team/keras</td>\n",
              "    </tr>\n",
              "    <tr>\n",
              "      <th>12</th>\n",
              "      <td>httpie</td>\n",
              "      <td>httpie</td>\n",
              "      <td>53300</td>\n",
              "      <td>https://gitub.com/httpie/httpie</td>\n",
              "    </tr>\n",
              "    <tr>\n",
              "      <th>13</th>\n",
              "      <td>pytorch</td>\n",
              "      <td>pytorch</td>\n",
              "      <td>53300</td>\n",
              "      <td>https://gitub.com/pytorch/pytorch</td>\n",
              "    </tr>\n",
              "    <tr>\n",
              "      <th>14</th>\n",
              "      <td>HelloGitHub</td>\n",
              "      <td>521xueweihan</td>\n",
              "      <td>51400</td>\n",
              "      <td>https://gitub.com/521xueweihan/HelloGitHub</td>\n",
              "    </tr>\n",
              "    <tr>\n",
              "      <th>15</th>\n",
              "      <td>ansible</td>\n",
              "      <td>ansible</td>\n",
              "      <td>51300</td>\n",
              "      <td>https://gitub.com/ansible/ansible</td>\n",
              "    </tr>\n",
              "    <tr>\n",
              "      <th>16</th>\n",
              "      <td>core</td>\n",
              "      <td>home-assistant</td>\n",
              "      <td>48900</td>\n",
              "      <td>https://gitub.com/home-assistant/core</td>\n",
              "    </tr>\n",
              "    <tr>\n",
              "      <th>17</th>\n",
              "      <td>scikit-learn</td>\n",
              "      <td>scikit-learn</td>\n",
              "      <td>48500</td>\n",
              "      <td>https://gitub.com/scikit-learn/scikit-learn</td>\n",
              "    </tr>\n",
              "    <tr>\n",
              "      <th>18</th>\n",
              "      <td>requests</td>\n",
              "      <td>psf</td>\n",
              "      <td>46700</td>\n",
              "      <td>https://gitub.com/psf/requests</td>\n",
              "    </tr>\n",
              "    <tr>\n",
              "      <th>19</th>\n",
              "      <td>leetcode</td>\n",
              "      <td>azl397985856</td>\n",
              "      <td>46000</td>\n",
              "      <td>https://gitub.com/azl397985856/leetcode</td>\n",
              "    </tr>\n",
              "    <tr>\n",
              "      <th>20</th>\n",
              "      <td>superset</td>\n",
              "      <td>apache</td>\n",
              "      <td>43500</td>\n",
              "      <td>https://gitub.com/apache/superset</td>\n",
              "    </tr>\n",
              "    <tr>\n",
              "      <th>21</th>\n",
              "      <td>face_recognition</td>\n",
              "      <td>ageitgey</td>\n",
              "      <td>42800</td>\n",
              "      <td>https://gitub.com/ageitgey/face_recognition</td>\n",
              "    </tr>\n",
              "    <tr>\n",
              "      <th>22</th>\n",
              "      <td>scrapy</td>\n",
              "      <td>scrapy</td>\n",
              "      <td>42500</td>\n",
              "      <td>https://gitub.com/scrapy/scrapy</td>\n",
              "    </tr>\n",
              "    <tr>\n",
              "      <th>23</th>\n",
              "      <td>TensorFlow-Examples</td>\n",
              "      <td>aymericdamien</td>\n",
              "      <td>41600</td>\n",
              "      <td>https://gitub.com/aymericdamien/TensorFlow-Exa...</td>\n",
              "    </tr>\n",
              "    <tr>\n",
              "      <th>24</th>\n",
              "      <td>fastapi</td>\n",
              "      <td>tiangolo</td>\n",
              "      <td>40500</td>\n",
              "      <td>https://gitub.com/tiangolo/fastapi</td>\n",
              "    </tr>\n",
              "    <tr>\n",
              "      <th>25</th>\n",
              "      <td>manim</td>\n",
              "      <td>3b1b</td>\n",
              "      <td>40200</td>\n",
              "      <td>https://gitub.com/3b1b/manim</td>\n",
              "    </tr>\n",
              "    <tr>\n",
              "      <th>26</th>\n",
              "      <td>localstack</td>\n",
              "      <td>localstack</td>\n",
              "      <td>38100</td>\n",
              "      <td>https://gitub.com/localstack/localstack</td>\n",
              "    </tr>\n",
              "    <tr>\n",
              "      <th>27</th>\n",
              "      <td>100-Days-Of-ML-Code</td>\n",
              "      <td>Avik-Jain</td>\n",
              "      <td>34200</td>\n",
              "      <td>https://gitub.com/Avik-Jain/100-Days-Of-ML-Code</td>\n",
              "    </tr>\n",
              "    <tr>\n",
              "      <th>28</th>\n",
              "      <td>Real-Time-Voice-Cloning</td>\n",
              "      <td>CorentinJ</td>\n",
              "      <td>32700</td>\n",
              "      <td>https://gitub.com/CorentinJ/Real-Time-Voice-Cl...</td>\n",
              "    </tr>\n",
              "    <tr>\n",
              "      <th>29</th>\n",
              "      <td>AiLearning</td>\n",
              "      <td>apachecn</td>\n",
              "      <td>32500</td>\n",
              "      <td>https://gitub.com/apachecn/AiLearning</td>\n",
              "    </tr>\n",
              "  </tbody>\n",
              "</table>\n",
              "</div>"
            ],
            "text/plain": [
              "                 repository_name       owner_username   stars  \\\n",
              "0                     tensorflow           tensorflow  162000   \n",
              "1           system-design-primer          donnemartin  158000   \n",
              "2                       CS-Notes              CyC2018  145000   \n",
              "3                         Python        TheAlgorithms  127000   \n",
              "4                 awesome-python                vinta  113000   \n",
              "5   free-programming-books-zh_CN            justjavac   86400   \n",
              "6                        thefuck                 nvbn   66100   \n",
              "7                         django               django   61700   \n",
              "8         project-based-learning  practical-tutorials   61100   \n",
              "9                          flask              pallets   57600   \n",
              "10                  transformers          huggingface   56800   \n",
              "11                         keras           keras-team   53700   \n",
              "12                        httpie               httpie   53300   \n",
              "13                       pytorch              pytorch   53300   \n",
              "14                   HelloGitHub         521xueweihan   51400   \n",
              "15                       ansible              ansible   51300   \n",
              "16                          core       home-assistant   48900   \n",
              "17                  scikit-learn         scikit-learn   48500   \n",
              "18                      requests                  psf   46700   \n",
              "19                      leetcode         azl397985856   46000   \n",
              "20                      superset               apache   43500   \n",
              "21              face_recognition             ageitgey   42800   \n",
              "22                        scrapy               scrapy   42500   \n",
              "23           TensorFlow-Examples        aymericdamien   41600   \n",
              "24                       fastapi             tiangolo   40500   \n",
              "25                         manim                 3b1b   40200   \n",
              "26                    localstack           localstack   38100   \n",
              "27           100-Days-Of-ML-Code            Avik-Jain   34200   \n",
              "28       Real-Time-Voice-Cloning            CorentinJ   32700   \n",
              "29                    AiLearning             apachecn   32500   \n",
              "\n",
              "                                       repository_url  \n",
              "0             https://gitub.com/tensorflow/tensorflow  \n",
              "1   https://gitub.com/donnemartin/system-design-pr...  \n",
              "2                  https://gitub.com/CyC2018/CS-Notes  \n",
              "3              https://gitub.com/TheAlgorithms/Python  \n",
              "4              https://gitub.com/vinta/awesome-python  \n",
              "5   https://gitub.com/justjavac/free-programming-b...  \n",
              "6                      https://gitub.com/nvbn/thefuck  \n",
              "7                     https://gitub.com/django/django  \n",
              "8   https://gitub.com/practical-tutorials/project-...  \n",
              "9                     https://gitub.com/pallets/flask  \n",
              "10         https://gitub.com/huggingface/transformers  \n",
              "11                 https://gitub.com/keras-team/keras  \n",
              "12                    https://gitub.com/httpie/httpie  \n",
              "13                  https://gitub.com/pytorch/pytorch  \n",
              "14         https://gitub.com/521xueweihan/HelloGitHub  \n",
              "15                  https://gitub.com/ansible/ansible  \n",
              "16              https://gitub.com/home-assistant/core  \n",
              "17        https://gitub.com/scikit-learn/scikit-learn  \n",
              "18                     https://gitub.com/psf/requests  \n",
              "19            https://gitub.com/azl397985856/leetcode  \n",
              "20                  https://gitub.com/apache/superset  \n",
              "21        https://gitub.com/ageitgey/face_recognition  \n",
              "22                    https://gitub.com/scrapy/scrapy  \n",
              "23  https://gitub.com/aymericdamien/TensorFlow-Exa...  \n",
              "24                 https://gitub.com/tiangolo/fastapi  \n",
              "25                       https://gitub.com/3b1b/manim  \n",
              "26            https://gitub.com/localstack/localstack  \n",
              "27    https://gitub.com/Avik-Jain/100-Days-Of-ML-Code  \n",
              "28  https://gitub.com/CorentinJ/Real-Time-Voice-Cl...  \n",
              "29              https://gitub.com/apachecn/AiLearning  "
            ]
          },
          "execution_count": 124,
          "metadata": {},
          "output_type": "execute_result"
        }
      ],
      "source": [
        "pd.read_csv('python.csv')"
      ]
    },
    {
      "cell_type": "code",
      "execution_count": null,
      "id": "575fc1f5",
      "metadata": {
        "id": "575fc1f5",
        "outputId": "ad33f6c9-4372-4083-ce67-248663eed708"
      },
      "outputs": [
        {
          "data": {
            "text/html": [
              "<div>\n",
              "<style scoped>\n",
              "    .dataframe tbody tr th:only-of-type {\n",
              "        vertical-align: middle;\n",
              "    }\n",
              "\n",
              "    .dataframe tbody tr th {\n",
              "        vertical-align: top;\n",
              "    }\n",
              "\n",
              "    .dataframe thead th {\n",
              "        text-align: right;\n",
              "    }\n",
              "</style>\n",
              "<table border=\"1\" class=\"dataframe\">\n",
              "  <thead>\n",
              "    <tr style=\"text-align: right;\">\n",
              "      <th></th>\n",
              "      <th>repository_name</th>\n",
              "      <th>owner_username</th>\n",
              "      <th>stars</th>\n",
              "      <th>repository_url</th>\n",
              "    </tr>\n",
              "  </thead>\n",
              "  <tbody>\n",
              "    <tr>\n",
              "      <th>0</th>\n",
              "      <td>tensorflow</td>\n",
              "      <td>tensorflow</td>\n",
              "      <td>162000</td>\n",
              "      <td>https://gitub.com/tensorflow/tensorflow</td>\n",
              "    </tr>\n",
              "    <tr>\n",
              "      <th>1</th>\n",
              "      <td>opencv</td>\n",
              "      <td>opencv</td>\n",
              "      <td>59100</td>\n",
              "      <td>https://gitub.com/opencv/opencv</td>\n",
              "    </tr>\n",
              "    <tr>\n",
              "      <th>2</th>\n",
              "      <td>keras</td>\n",
              "      <td>keras-team</td>\n",
              "      <td>53700</td>\n",
              "      <td>https://gitub.com/keras-team/keras</td>\n",
              "    </tr>\n",
              "    <tr>\n",
              "      <th>3</th>\n",
              "      <td>pytorch</td>\n",
              "      <td>pytorch</td>\n",
              "      <td>53300</td>\n",
              "      <td>https://gitub.com/pytorch/pytorch</td>\n",
              "    </tr>\n",
              "    <tr>\n",
              "      <th>4</th>\n",
              "      <td>TensorFlow-Examples</td>\n",
              "      <td>aymericdamien</td>\n",
              "      <td>41600</td>\n",
              "      <td>https://gitub.com/aymericdamien/TensorFlow-Exa...</td>\n",
              "    </tr>\n",
              "    <tr>\n",
              "      <th>5</th>\n",
              "      <td>faceswap</td>\n",
              "      <td>deepfakes</td>\n",
              "      <td>40100</td>\n",
              "      <td>https://gitub.com/deepfakes/faceswap</td>\n",
              "    </tr>\n",
              "    <tr>\n",
              "      <th>6</th>\n",
              "      <td>100-Days-Of-ML-Code</td>\n",
              "      <td>Avik-Jain</td>\n",
              "      <td>34200</td>\n",
              "      <td>https://gitub.com/Avik-Jain/100-Days-Of-ML-Code</td>\n",
              "    </tr>\n",
              "    <tr>\n",
              "      <th>7</th>\n",
              "      <td>Real-Time-Voice-Cloning</td>\n",
              "      <td>CorentinJ</td>\n",
              "      <td>32700</td>\n",
              "      <td>https://gitub.com/CorentinJ/Real-Time-Voice-Cl...</td>\n",
              "    </tr>\n",
              "    <tr>\n",
              "      <th>8</th>\n",
              "      <td>caffe</td>\n",
              "      <td>BVLC</td>\n",
              "      <td>32200</td>\n",
              "      <td>https://gitub.com/BVLC/caffe</td>\n",
              "    </tr>\n",
              "    <tr>\n",
              "      <th>9</th>\n",
              "      <td>Deep-Learning-Papers-Reading-Roadmap</td>\n",
              "      <td>floodsung</td>\n",
              "      <td>31500</td>\n",
              "      <td>https://gitub.com/floodsung/Deep-Learning-Pape...</td>\n",
              "    </tr>\n",
              "    <tr>\n",
              "      <th>10</th>\n",
              "      <td>DeepFaceLab</td>\n",
              "      <td>iperov</td>\n",
              "      <td>30700</td>\n",
              "      <td>https://gitub.com/iperov/DeepFaceLab</td>\n",
              "    </tr>\n",
              "    <tr>\n",
              "      <th>11</th>\n",
              "      <td>d2l-zh</td>\n",
              "      <td>d2l-ai</td>\n",
              "      <td>29700</td>\n",
              "      <td>https://gitub.com/d2l-ai/d2l-zh</td>\n",
              "    </tr>\n",
              "    <tr>\n",
              "      <th>12</th>\n",
              "      <td>MadeWithML</td>\n",
              "      <td>GokuMohandas</td>\n",
              "      <td>29400</td>\n",
              "      <td>https://gitub.com/GokuMohandas/MadeWithML</td>\n",
              "    </tr>\n",
              "    <tr>\n",
              "      <th>13</th>\n",
              "      <td>machine-learning-for-software-engineers</td>\n",
              "      <td>ZuzooVn</td>\n",
              "      <td>25600</td>\n",
              "      <td>https://gitub.com/ZuzooVn/machine-learning-for...</td>\n",
              "    </tr>\n",
              "    <tr>\n",
              "      <th>14</th>\n",
              "      <td>tesseract.js</td>\n",
              "      <td>naptha</td>\n",
              "      <td>25400</td>\n",
              "      <td>https://gitub.com/naptha/tesseract.js</td>\n",
              "    </tr>\n",
              "    <tr>\n",
              "      <th>15</th>\n",
              "      <td>handson-ml</td>\n",
              "      <td>ageron</td>\n",
              "      <td>23900</td>\n",
              "      <td>https://gitub.com/ageron/handson-ml</td>\n",
              "    </tr>\n",
              "    <tr>\n",
              "      <th>16</th>\n",
              "      <td>awesome-deep-learning-papers</td>\n",
              "      <td>terryum</td>\n",
              "      <td>23500</td>\n",
              "      <td>https://gitub.com/terryum/awesome-deep-learnin...</td>\n",
              "    </tr>\n",
              "    <tr>\n",
              "      <th>17</th>\n",
              "      <td>openpose</td>\n",
              "      <td>CMU-Perceptual-Computing-Lab</td>\n",
              "      <td>23100</td>\n",
              "      <td>https://gitub.com/CMU-Perceptual-Computing-Lab...</td>\n",
              "    </tr>\n",
              "    <tr>\n",
              "      <th>18</th>\n",
              "      <td>pytorch-tutorial</td>\n",
              "      <td>yunjey</td>\n",
              "      <td>22800</td>\n",
              "      <td>https://gitub.com/yunjey/pytorch-tutorial</td>\n",
              "    </tr>\n",
              "    <tr>\n",
              "      <th>19</th>\n",
              "      <td>data-science-ipython-notebooks</td>\n",
              "      <td>donnemartin</td>\n",
              "      <td>22300</td>\n",
              "      <td>https://gitub.com/donnemartin/data-science-ipy...</td>\n",
              "    </tr>\n",
              "    <tr>\n",
              "      <th>20</th>\n",
              "      <td>spaCy</td>\n",
              "      <td>explosion</td>\n",
              "      <td>22200</td>\n",
              "      <td>https://gitub.com/explosion/spaCy</td>\n",
              "    </tr>\n",
              "    <tr>\n",
              "      <th>21</th>\n",
              "      <td>fastai</td>\n",
              "      <td>fastai</td>\n",
              "      <td>21800</td>\n",
              "      <td>https://gitub.com/fastai/fastai</td>\n",
              "    </tr>\n",
              "    <tr>\n",
              "      <th>22</th>\n",
              "      <td>yolov5</td>\n",
              "      <td>ultralytics</td>\n",
              "      <td>20900</td>\n",
              "      <td>https://gitub.com/ultralytics/yolov5</td>\n",
              "    </tr>\n",
              "    <tr>\n",
              "      <th>23</th>\n",
              "      <td>ML-From-Scratch</td>\n",
              "      <td>eriklindernoren</td>\n",
              "      <td>20700</td>\n",
              "      <td>https://gitub.com/eriklindernoren/ML-From-Scratch</td>\n",
              "    </tr>\n",
              "    <tr>\n",
              "      <th>24</th>\n",
              "      <td>DeepSpeech</td>\n",
              "      <td>mozilla</td>\n",
              "      <td>18800</td>\n",
              "      <td>https://gitub.com/mozilla/DeepSpeech</td>\n",
              "    </tr>\n",
              "    <tr>\n",
              "      <th>25</th>\n",
              "      <td>ray</td>\n",
              "      <td>ray-project</td>\n",
              "      <td>18800</td>\n",
              "      <td>https://gitub.com/ray-project/ray</td>\n",
              "    </tr>\n",
              "    <tr>\n",
              "      <th>26</th>\n",
              "      <td>spleeter</td>\n",
              "      <td>deezer</td>\n",
              "      <td>18500</td>\n",
              "      <td>https://gitub.com/deezer/spleeter</td>\n",
              "    </tr>\n",
              "    <tr>\n",
              "      <th>27</th>\n",
              "      <td>darknet</td>\n",
              "      <td>AlexeyAB</td>\n",
              "      <td>18300</td>\n",
              "      <td>https://gitub.com/AlexeyAB/darknet</td>\n",
              "    </tr>\n",
              "    <tr>\n",
              "      <th>28</th>\n",
              "      <td>awesome-deep-learning</td>\n",
              "      <td>ChristosChristofidis</td>\n",
              "      <td>18200</td>\n",
              "      <td>https://gitub.com/ChristosChristofidis/awesome...</td>\n",
              "    </tr>\n",
              "    <tr>\n",
              "      <th>29</th>\n",
              "      <td>applied-ml</td>\n",
              "      <td>eugeneyan</td>\n",
              "      <td>18000</td>\n",
              "      <td>https://gitub.com/eugeneyan/applied-ml</td>\n",
              "    </tr>\n",
              "  </tbody>\n",
              "</table>\n",
              "</div>"
            ],
            "text/plain": [
              "                            repository_name                owner_username  \\\n",
              "0                                tensorflow                    tensorflow   \n",
              "1                                    opencv                        opencv   \n",
              "2                                     keras                    keras-team   \n",
              "3                                   pytorch                       pytorch   \n",
              "4                       TensorFlow-Examples                 aymericdamien   \n",
              "5                                  faceswap                     deepfakes   \n",
              "6                       100-Days-Of-ML-Code                     Avik-Jain   \n",
              "7                   Real-Time-Voice-Cloning                     CorentinJ   \n",
              "8                                     caffe                          BVLC   \n",
              "9      Deep-Learning-Papers-Reading-Roadmap                     floodsung   \n",
              "10                              DeepFaceLab                        iperov   \n",
              "11                                   d2l-zh                        d2l-ai   \n",
              "12                               MadeWithML                  GokuMohandas   \n",
              "13  machine-learning-for-software-engineers                       ZuzooVn   \n",
              "14                             tesseract.js                        naptha   \n",
              "15                               handson-ml                        ageron   \n",
              "16             awesome-deep-learning-papers                       terryum   \n",
              "17                                 openpose  CMU-Perceptual-Computing-Lab   \n",
              "18                         pytorch-tutorial                        yunjey   \n",
              "19           data-science-ipython-notebooks                   donnemartin   \n",
              "20                                    spaCy                     explosion   \n",
              "21                                   fastai                        fastai   \n",
              "22                                   yolov5                   ultralytics   \n",
              "23                          ML-From-Scratch               eriklindernoren   \n",
              "24                               DeepSpeech                       mozilla   \n",
              "25                                      ray                   ray-project   \n",
              "26                                 spleeter                        deezer   \n",
              "27                                  darknet                      AlexeyAB   \n",
              "28                    awesome-deep-learning          ChristosChristofidis   \n",
              "29                               applied-ml                     eugeneyan   \n",
              "\n",
              "     stars                                     repository_url  \n",
              "0   162000            https://gitub.com/tensorflow/tensorflow  \n",
              "1    59100                    https://gitub.com/opencv/opencv  \n",
              "2    53700                 https://gitub.com/keras-team/keras  \n",
              "3    53300                  https://gitub.com/pytorch/pytorch  \n",
              "4    41600  https://gitub.com/aymericdamien/TensorFlow-Exa...  \n",
              "5    40100               https://gitub.com/deepfakes/faceswap  \n",
              "6    34200    https://gitub.com/Avik-Jain/100-Days-Of-ML-Code  \n",
              "7    32700  https://gitub.com/CorentinJ/Real-Time-Voice-Cl...  \n",
              "8    32200                       https://gitub.com/BVLC/caffe  \n",
              "9    31500  https://gitub.com/floodsung/Deep-Learning-Pape...  \n",
              "10   30700               https://gitub.com/iperov/DeepFaceLab  \n",
              "11   29700                    https://gitub.com/d2l-ai/d2l-zh  \n",
              "12   29400          https://gitub.com/GokuMohandas/MadeWithML  \n",
              "13   25600  https://gitub.com/ZuzooVn/machine-learning-for...  \n",
              "14   25400              https://gitub.com/naptha/tesseract.js  \n",
              "15   23900                https://gitub.com/ageron/handson-ml  \n",
              "16   23500  https://gitub.com/terryum/awesome-deep-learnin...  \n",
              "17   23100  https://gitub.com/CMU-Perceptual-Computing-Lab...  \n",
              "18   22800          https://gitub.com/yunjey/pytorch-tutorial  \n",
              "19   22300  https://gitub.com/donnemartin/data-science-ipy...  \n",
              "20   22200                  https://gitub.com/explosion/spaCy  \n",
              "21   21800                    https://gitub.com/fastai/fastai  \n",
              "22   20900               https://gitub.com/ultralytics/yolov5  \n",
              "23   20700  https://gitub.com/eriklindernoren/ML-From-Scratch  \n",
              "24   18800               https://gitub.com/mozilla/DeepSpeech  \n",
              "25   18800                  https://gitub.com/ray-project/ray  \n",
              "26   18500                  https://gitub.com/deezer/spleeter  \n",
              "27   18300                 https://gitub.com/AlexeyAB/darknet  \n",
              "28   18200  https://gitub.com/ChristosChristofidis/awesome...  \n",
              "29   18000             https://gitub.com/eugeneyan/applied-ml  "
            ]
          },
          "execution_count": 125,
          "metadata": {},
          "output_type": "execute_result"
        }
      ],
      "source": [
        "pd.read_csv('deep-learning.csv')"
      ]
    },
    {
      "cell_type": "markdown",
      "id": "dcaa5dc1",
      "metadata": {
        "id": "dcaa5dc1"
      },
      "source": [
        "> **EXERCISE**: Get the top 100 repositories for the all the featured topics on GitHub. You might find these URLs useful:\n",
        "> \n",
        "> * Eighth page of featured topics: https://github.com/topics/?page=8  \n",
        "> * Second page of top repositories for a topic: https://github.com/topics/machine-learning?page=2 "
      ]
    },
    {
      "cell_type": "code",
      "execution_count": null,
      "id": "0fd6573c",
      "metadata": {
        "id": "0fd6573c"
      },
      "outputs": [],
      "source": [
        "def get_feature_page(n):\n",
        "    docs=[]\n",
        "    for i in range(1,n):\n",
        "        topic_repos_url = 'https://github.com/topics/?page=' + str(i)\n",
        "        response = requests.get(topic_repos_url)\n",
        "        if response.status_code != 200:\n",
        "            print('Status code:', response.status_code)\n",
        "            raise Exception('Failed to fetch web page ' + topic_repos_url)\n",
        "        doc = BeautifulSoup(response.text)\n",
        "        docs.append(doc)\n",
        "    \n",
        "    return docs "
      ]
    },
    {
      "cell_type": "code",
      "execution_count": null,
      "id": "1d64cbd0",
      "metadata": {
        "id": "1d64cbd0"
      },
      "outputs": [],
      "source": [
        "def get_featured_topics(docs):\n",
        "    hrefs=[]\n",
        "    for doc in docs:\n",
        "        href=doc.find_all('a',class_='no-underline d-flex flex-column flex-justify-center')\n",
        "        for a in href:\n",
        "            link=a['href']\n",
        "            hrefs.append(link)\n",
        "    return hrefs"
      ]
    },
    {
      "cell_type": "code",
      "execution_count": null,
      "id": "8be16813",
      "metadata": {
        "id": "8be16813"
      },
      "outputs": [],
      "source": [
        "def scrape_featured_repositories(topic, path=None):\n",
        "    \"\"\"Get the top repositories for a topic and write them to a CSV file\"\"\"\n",
        "    for i in range(1,6):\n",
        "        path = topic.strip('/topics')+ str(i) + '.csv'\n",
        "        topic_repos_url = 'https://github.com/' + topic +'?page=' + str(i)\n",
        "        response = requests.get(topic_repos_url)\n",
        "        if response.status_code != 200:\n",
        "            print('Status code:', response.status_code)\n",
        "            raise Exception('Failed to fetch web page ' + topic_repos_url)\n",
        "        topic_page_doc = BeautifulSoup(response.text)\n",
        "        topic_repositories = get_top_repositories(topic_page_doc)\n",
        "        write_csv(topic_repositories, path)\n",
        "        print('Top repositories for topic \"{}\" written to file \"{}\"'.format(topic, path))\n",
        "    return path"
      ]
    },
    {
      "cell_type": "code",
      "execution_count": null,
      "id": "4d691725",
      "metadata": {
        "id": "4d691725"
      },
      "outputs": [],
      "source": [
        "def get_top_featured_repositories(n):\n",
        "    docs=get_feature_page(n)\n",
        "    topics=get_featured_topics(docs)\n",
        "    dfs=[]\n",
        "    for topic in topics:\n",
        "        scrape_featured_repositories(topic)"
      ]
    },
    {
      "cell_type": "code",
      "execution_count": null,
      "id": "33dc4dfa",
      "metadata": {
        "id": "33dc4dfa",
        "outputId": "915ef64a-a104-4812-9b48-b53252cff850"
      },
      "outputs": [
        {
          "name": "stdout",
          "output_type": "stream",
          "text": [
            "Top repositories for topic \"/topics/matlab\" written to file \"matlab1.csv\"\n",
            "Top repositories for topic \"/topics/matlab\" written to file \"matlab2.csv\"\n",
            "Top repositories for topic \"/topics/matlab\" written to file \"matlab3.csv\"\n",
            "Top repositories for topic \"/topics/matlab\" written to file \"matlab4.csv\"\n",
            "Top repositories for topic \"/topics/matlab\" written to file \"matlab5.csv\"\n",
            "Top repositories for topic \"/topics/covid-19\" written to file \"vid-191.csv\"\n",
            "Top repositories for topic \"/topics/covid-19\" written to file \"vid-192.csv\"\n",
            "Top repositories for topic \"/topics/covid-19\" written to file \"vid-193.csv\"\n",
            "Top repositories for topic \"/topics/covid-19\" written to file \"vid-194.csv\"\n",
            "Top repositories for topic \"/topics/covid-19\" written to file \"vid-195.csv\"\n",
            "Top repositories for topic \"/topics/r\" written to file \"r1.csv\"\n",
            "Top repositories for topic \"/topics/r\" written to file \"r2.csv\"\n",
            "Top repositories for topic \"/topics/r\" written to file \"r3.csv\"\n",
            "Top repositories for topic \"/topics/r\" written to file \"r4.csv\"\n",
            "Top repositories for topic \"/topics/r\" written to file \"r5.csv\"\n"
          ]
        }
      ],
      "source": [
        "#scarping featured topics in first page. You can go ahead and scrape for as many pages as you'd like.\n",
        "get_top_featured_repositories(2)"
      ]
    },
    {
      "cell_type": "code",
      "execution_count": null,
      "id": "870a4a1d",
      "metadata": {
        "id": "870a4a1d",
        "outputId": "25dc495f-e24f-43d6-df30-7829a33bb02a"
      },
      "outputs": [
        {
          "data": {
            "text/html": [
              "<div>\n",
              "<style scoped>\n",
              "    .dataframe tbody tr th:only-of-type {\n",
              "        vertical-align: middle;\n",
              "    }\n",
              "\n",
              "    .dataframe tbody tr th {\n",
              "        vertical-align: top;\n",
              "    }\n",
              "\n",
              "    .dataframe thead th {\n",
              "        text-align: right;\n",
              "    }\n",
              "</style>\n",
              "<table border=\"1\" class=\"dataframe\">\n",
              "  <thead>\n",
              "    <tr style=\"text-align: right;\">\n",
              "      <th></th>\n",
              "      <th>repository_name</th>\n",
              "      <th>owner_username</th>\n",
              "      <th>stars</th>\n",
              "      <th>repository_url</th>\n",
              "    </tr>\n",
              "  </thead>\n",
              "  <tbody>\n",
              "    <tr>\n",
              "      <th>0</th>\n",
              "      <td>PRMLT</td>\n",
              "      <td>PRML</td>\n",
              "      <td>5400</td>\n",
              "      <td>https://gitub.com/PRML/PRMLT</td>\n",
              "    </tr>\n",
              "    <tr>\n",
              "      <th>1</th>\n",
              "      <td>Realtime_Multi-Person_Pose_Estimation</td>\n",
              "      <td>ZheC</td>\n",
              "      <td>4800</td>\n",
              "      <td>https://gitub.com/ZheC/Realtime_Multi-Person_P...</td>\n",
              "    </tr>\n",
              "    <tr>\n",
              "      <th>2</th>\n",
              "      <td>a32nx</td>\n",
              "      <td>flybywiresim</td>\n",
              "      <td>3900</td>\n",
              "      <td>https://gitub.com/flybywiresim/a32nx</td>\n",
              "    </tr>\n",
              "    <tr>\n",
              "      <th>3</th>\n",
              "      <td>MathModel</td>\n",
              "      <td>zhanwen</td>\n",
              "      <td>3900</td>\n",
              "      <td>https://gitub.com/zhanwen/MathModel</td>\n",
              "    </tr>\n",
              "    <tr>\n",
              "      <th>4</th>\n",
              "      <td>Lenia</td>\n",
              "      <td>Chakazul</td>\n",
              "      <td>2800</td>\n",
              "      <td>https://gitub.com/Chakazul/Lenia</td>\n",
              "    </tr>\n",
              "    <tr>\n",
              "      <th>5</th>\n",
              "      <td>Bilibili-plus</td>\n",
              "      <td>19PDP</td>\n",
              "      <td>2000</td>\n",
              "      <td>https://gitub.com/19PDP/Bilibili-plus</td>\n",
              "    </tr>\n",
              "    <tr>\n",
              "      <th>6</th>\n",
              "      <td>arl</td>\n",
              "      <td>kaxap</td>\n",
              "      <td>1600</td>\n",
              "      <td>https://gitub.com/kaxap/arl</td>\n",
              "    </tr>\n",
              "    <tr>\n",
              "      <th>7</th>\n",
              "      <td>Algorithms_MathModels</td>\n",
              "      <td>HuangCongQing</td>\n",
              "      <td>1300</td>\n",
              "      <td>https://gitub.com/HuangCongQing/Algorithms_Mat...</td>\n",
              "    </tr>\n",
              "    <tr>\n",
              "      <th>8</th>\n",
              "      <td>matlab2tikz</td>\n",
              "      <td>matlab2tikz</td>\n",
              "      <td>1200</td>\n",
              "      <td>https://gitub.com/matlab2tikz/matlab2tikz</td>\n",
              "    </tr>\n",
              "    <tr>\n",
              "      <th>9</th>\n",
              "      <td>facerec</td>\n",
              "      <td>bytefish</td>\n",
              "      <td>934</td>\n",
              "      <td>https://gitub.com/bytefish/facerec</td>\n",
              "    </tr>\n",
              "    <tr>\n",
              "      <th>10</th>\n",
              "      <td>casadi</td>\n",
              "      <td>casadi</td>\n",
              "      <td>891</td>\n",
              "      <td>https://gitub.com/casadi/casadi</td>\n",
              "    </tr>\n",
              "    <tr>\n",
              "      <th>11</th>\n",
              "      <td>probabilistic_robotics</td>\n",
              "      <td>pptacher</td>\n",
              "      <td>855</td>\n",
              "      <td>https://gitub.com/pptacher/probabilistic_robotics</td>\n",
              "    </tr>\n",
              "    <tr>\n",
              "      <th>12</th>\n",
              "      <td>awesome-neuroscience</td>\n",
              "      <td>analyticalmonk</td>\n",
              "      <td>850</td>\n",
              "      <td>https://gitub.com/analyticalmonk/awesome-neuro...</td>\n",
              "    </tr>\n",
              "    <tr>\n",
              "      <th>13</th>\n",
              "      <td>matlab-schemer</td>\n",
              "      <td>scottclowe</td>\n",
              "      <td>837</td>\n",
              "      <td>https://gitub.com/scottclowe/matlab-schemer</td>\n",
              "    </tr>\n",
              "    <tr>\n",
              "      <th>14</th>\n",
              "      <td>Image-feature-detection-using-Phase-Stretch-Tr...</td>\n",
              "      <td>JalaliLabUCLA</td>\n",
              "      <td>819</td>\n",
              "      <td>https://gitub.com/JalaliLabUCLA/Image-feature-...</td>\n",
              "    </tr>\n",
              "    <tr>\n",
              "      <th>15</th>\n",
              "      <td>robotics-toolbox-matlab</td>\n",
              "      <td>petercorke</td>\n",
              "      <td>769</td>\n",
              "      <td>https://gitub.com/petercorke/robotics-toolbox-...</td>\n",
              "    </tr>\n",
              "    <tr>\n",
              "      <th>16</th>\n",
              "      <td>machine-learning-octave</td>\n",
              "      <td>trekhleb</td>\n",
              "      <td>704</td>\n",
              "      <td>https://gitub.com/trekhleb/machine-learning-oc...</td>\n",
              "    </tr>\n",
              "    <tr>\n",
              "      <th>17</th>\n",
              "      <td>lrslibrary</td>\n",
              "      <td>andrewssobral</td>\n",
              "      <td>676</td>\n",
              "      <td>https://gitub.com/andrewssobral/lrslibrary</td>\n",
              "    </tr>\n",
              "    <tr>\n",
              "      <th>18</th>\n",
              "      <td>PlatEMO</td>\n",
              "      <td>BIMK</td>\n",
              "      <td>636</td>\n",
              "      <td>https://gitub.com/BIMK/PlatEMO</td>\n",
              "    </tr>\n",
              "    <tr>\n",
              "      <th>19</th>\n",
              "      <td>gramm</td>\n",
              "      <td>piermorel</td>\n",
              "      <td>606</td>\n",
              "      <td>https://gitub.com/piermorel/gramm</td>\n",
              "    </tr>\n",
              "    <tr>\n",
              "      <th>20</th>\n",
              "      <td>fieldtrip</td>\n",
              "      <td>fieldtrip</td>\n",
              "      <td>586</td>\n",
              "      <td>https://gitub.com/fieldtrip/fieldtrip</td>\n",
              "    </tr>\n",
              "    <tr>\n",
              "      <th>21</th>\n",
              "      <td>awesome_deep_learning_interpretability</td>\n",
              "      <td>oneTaken</td>\n",
              "      <td>531</td>\n",
              "      <td>https://gitub.com/oneTaken/awesome_deep_learni...</td>\n",
              "    </tr>\n",
              "    <tr>\n",
              "      <th>22</th>\n",
              "      <td>SuiteSparse</td>\n",
              "      <td>DrTimothyAldenDavis</td>\n",
              "      <td>521</td>\n",
              "      <td>https://gitub.com/DrTimothyAldenDavis/SuiteSparse</td>\n",
              "    </tr>\n",
              "    <tr>\n",
              "      <th>23</th>\n",
              "      <td>jsbsim</td>\n",
              "      <td>JSBSim-Team</td>\n",
              "      <td>485</td>\n",
              "      <td>https://gitub.com/JSBSim-Team/jsbsim</td>\n",
              "    </tr>\n",
              "    <tr>\n",
              "      <th>24</th>\n",
              "      <td>hctsa</td>\n",
              "      <td>benfulcher</td>\n",
              "      <td>483</td>\n",
              "      <td>https://gitub.com/benfulcher/hctsa</td>\n",
              "    </tr>\n",
              "    <tr>\n",
              "      <th>25</th>\n",
              "      <td>Change-Detection-Review</td>\n",
              "      <td>MinZHANG-WHU</td>\n",
              "      <td>456</td>\n",
              "      <td>https://gitub.com/MinZHANG-WHU/Change-Detectio...</td>\n",
              "    </tr>\n",
              "    <tr>\n",
              "      <th>26</th>\n",
              "      <td>CBDNet</td>\n",
              "      <td>GuoShi28</td>\n",
              "      <td>417</td>\n",
              "      <td>https://gitub.com/GuoShi28/CBDNet</td>\n",
              "    </tr>\n",
              "    <tr>\n",
              "      <th>27</th>\n",
              "      <td>MATLABRobotics</td>\n",
              "      <td>AtsushiSakai</td>\n",
              "      <td>407</td>\n",
              "      <td>https://gitub.com/AtsushiSakai/MATLABRobotics</td>\n",
              "    </tr>\n",
              "    <tr>\n",
              "      <th>28</th>\n",
              "      <td>armadillo-code</td>\n",
              "      <td>conradsnicta</td>\n",
              "      <td>399</td>\n",
              "      <td>https://gitub.com/conradsnicta/armadillo-code</td>\n",
              "    </tr>\n",
              "    <tr>\n",
              "      <th>29</th>\n",
              "      <td>Math_Model</td>\n",
              "      <td>personqianduixue</td>\n",
              "      <td>395</td>\n",
              "      <td>https://gitub.com/personqianduixue/Math_Model</td>\n",
              "    </tr>\n",
              "  </tbody>\n",
              "</table>\n",
              "</div>"
            ],
            "text/plain": [
              "                                      repository_name       owner_username  \\\n",
              "0                                               PRMLT                 PRML   \n",
              "1               Realtime_Multi-Person_Pose_Estimation                 ZheC   \n",
              "2                                               a32nx         flybywiresim   \n",
              "3                                           MathModel              zhanwen   \n",
              "4                                               Lenia             Chakazul   \n",
              "5                                       Bilibili-plus                19PDP   \n",
              "6                                                 arl                kaxap   \n",
              "7                               Algorithms_MathModels        HuangCongQing   \n",
              "8                                         matlab2tikz          matlab2tikz   \n",
              "9                                             facerec             bytefish   \n",
              "10                                             casadi               casadi   \n",
              "11                             probabilistic_robotics             pptacher   \n",
              "12                               awesome-neuroscience       analyticalmonk   \n",
              "13                                     matlab-schemer           scottclowe   \n",
              "14  Image-feature-detection-using-Phase-Stretch-Tr...        JalaliLabUCLA   \n",
              "15                            robotics-toolbox-matlab           petercorke   \n",
              "16                            machine-learning-octave             trekhleb   \n",
              "17                                         lrslibrary        andrewssobral   \n",
              "18                                            PlatEMO                 BIMK   \n",
              "19                                              gramm            piermorel   \n",
              "20                                          fieldtrip            fieldtrip   \n",
              "21             awesome_deep_learning_interpretability             oneTaken   \n",
              "22                                        SuiteSparse  DrTimothyAldenDavis   \n",
              "23                                             jsbsim          JSBSim-Team   \n",
              "24                                              hctsa           benfulcher   \n",
              "25                            Change-Detection-Review         MinZHANG-WHU   \n",
              "26                                             CBDNet             GuoShi28   \n",
              "27                                     MATLABRobotics         AtsushiSakai   \n",
              "28                                     armadillo-code         conradsnicta   \n",
              "29                                         Math_Model     personqianduixue   \n",
              "\n",
              "    stars                                     repository_url  \n",
              "0    5400                       https://gitub.com/PRML/PRMLT  \n",
              "1    4800  https://gitub.com/ZheC/Realtime_Multi-Person_P...  \n",
              "2    3900               https://gitub.com/flybywiresim/a32nx  \n",
              "3    3900                https://gitub.com/zhanwen/MathModel  \n",
              "4    2800                   https://gitub.com/Chakazul/Lenia  \n",
              "5    2000              https://gitub.com/19PDP/Bilibili-plus  \n",
              "6    1600                        https://gitub.com/kaxap/arl  \n",
              "7    1300  https://gitub.com/HuangCongQing/Algorithms_Mat...  \n",
              "8    1200          https://gitub.com/matlab2tikz/matlab2tikz  \n",
              "9     934                 https://gitub.com/bytefish/facerec  \n",
              "10    891                    https://gitub.com/casadi/casadi  \n",
              "11    855  https://gitub.com/pptacher/probabilistic_robotics  \n",
              "12    850  https://gitub.com/analyticalmonk/awesome-neuro...  \n",
              "13    837        https://gitub.com/scottclowe/matlab-schemer  \n",
              "14    819  https://gitub.com/JalaliLabUCLA/Image-feature-...  \n",
              "15    769  https://gitub.com/petercorke/robotics-toolbox-...  \n",
              "16    704  https://gitub.com/trekhleb/machine-learning-oc...  \n",
              "17    676         https://gitub.com/andrewssobral/lrslibrary  \n",
              "18    636                     https://gitub.com/BIMK/PlatEMO  \n",
              "19    606                  https://gitub.com/piermorel/gramm  \n",
              "20    586              https://gitub.com/fieldtrip/fieldtrip  \n",
              "21    531  https://gitub.com/oneTaken/awesome_deep_learni...  \n",
              "22    521  https://gitub.com/DrTimothyAldenDavis/SuiteSparse  \n",
              "23    485               https://gitub.com/JSBSim-Team/jsbsim  \n",
              "24    483                 https://gitub.com/benfulcher/hctsa  \n",
              "25    456  https://gitub.com/MinZHANG-WHU/Change-Detectio...  \n",
              "26    417                  https://gitub.com/GuoShi28/CBDNet  \n",
              "27    407      https://gitub.com/AtsushiSakai/MATLABRobotics  \n",
              "28    399      https://gitub.com/conradsnicta/armadillo-code  \n",
              "29    395      https://gitub.com/personqianduixue/Math_Model  "
            ]
          },
          "execution_count": 132,
          "metadata": {},
          "output_type": "execute_result"
        }
      ],
      "source": [
        "pd.read_csv('matlab1.csv')"
      ]
    },
    {
      "cell_type": "markdown",
      "id": "5dee78d7",
      "metadata": {
        "id": "5dee78d7"
      },
      "source": [
        "Try to combine each topic's all pages CSVs into single one ;)"
      ]
    }
  ],
  "metadata": {
    "kernelspec": {
      "display_name": "Python 3 (ipykernel)",
      "language": "python",
      "name": "python3"
    },
    "language_info": {
      "codemirror_mode": {
        "name": "ipython",
        "version": 3
      },
      "file_extension": ".py",
      "mimetype": "text/x-python",
      "name": "python",
      "nbconvert_exporter": "python",
      "pygments_lexer": "ipython3",
      "version": "3.9.6"
    },
    "colab": {
      "provenance": [],
      "include_colab_link": true
    }
  },
  "nbformat": 4,
  "nbformat_minor": 5
}